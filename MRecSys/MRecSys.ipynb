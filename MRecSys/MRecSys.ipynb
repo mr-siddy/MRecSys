{
  "nbformat": 4,
  "nbformat_minor": 0,
  "metadata": {
    "colab": {
      "provenance": [],
      "collapsed_sections": [
        "cMRGRJeDDSa3",
        "r-pdWJ8kDX_3"
      ]
    },
    "kernelspec": {
      "name": "python3",
      "display_name": "Python 3"
    },
    "language_info": {
      "name": "python"
    },
    "widgets": {
      "application/vnd.jupyter.widget-state+json": {
        "0198b198b13e4ba9a36df2d0034def77": {
          "model_module": "@jupyter-widgets/controls",
          "model_name": "VBoxModel",
          "model_module_version": "1.5.0",
          "state": {
            "_dom_classes": [],
            "_model_module": "@jupyter-widgets/controls",
            "_model_module_version": "1.5.0",
            "_model_name": "VBoxModel",
            "_view_count": null,
            "_view_module": "@jupyter-widgets/controls",
            "_view_module_version": "1.5.0",
            "_view_name": "VBoxView",
            "box_style": "",
            "children": [
              "IPY_MODEL_5eebbfb5231641ed8d5bd080996c0674",
              "IPY_MODEL_c0607f14700f439ba6a06ad14bc85205"
            ],
            "layout": "IPY_MODEL_8159e2f6f84b45738857c76dd07acbf8"
          }
        },
        "5eebbfb5231641ed8d5bd080996c0674": {
          "model_module": "@jupyter-widgets/controls",
          "model_name": "LabelModel",
          "model_module_version": "1.5.0",
          "state": {
            "_dom_classes": [],
            "_model_module": "@jupyter-widgets/controls",
            "_model_module_version": "1.5.0",
            "_model_name": "LabelModel",
            "_view_count": null,
            "_view_module": "@jupyter-widgets/controls",
            "_view_module_version": "1.5.0",
            "_view_name": "LabelView",
            "description": "",
            "description_tooltip": null,
            "layout": "IPY_MODEL_9fedf27b460b44429e77edd8865c19bf",
            "placeholder": "​",
            "style": "IPY_MODEL_f2e9d47f3de540539a291aad644795ad",
            "value": "0.085 MB of 0.085 MB uploaded\r"
          }
        },
        "c0607f14700f439ba6a06ad14bc85205": {
          "model_module": "@jupyter-widgets/controls",
          "model_name": "FloatProgressModel",
          "model_module_version": "1.5.0",
          "state": {
            "_dom_classes": [],
            "_model_module": "@jupyter-widgets/controls",
            "_model_module_version": "1.5.0",
            "_model_name": "FloatProgressModel",
            "_view_count": null,
            "_view_module": "@jupyter-widgets/controls",
            "_view_module_version": "1.5.0",
            "_view_name": "ProgressView",
            "bar_style": "",
            "description": "",
            "description_tooltip": null,
            "layout": "IPY_MODEL_4b830dcc52a04ca087ceb474c8f4e7fe",
            "max": 1,
            "min": 0,
            "orientation": "horizontal",
            "style": "IPY_MODEL_61782b6595474a68a1af9692a188b574",
            "value": 1
          }
        },
        "8159e2f6f84b45738857c76dd07acbf8": {
          "model_module": "@jupyter-widgets/base",
          "model_name": "LayoutModel",
          "model_module_version": "1.2.0",
          "state": {
            "_model_module": "@jupyter-widgets/base",
            "_model_module_version": "1.2.0",
            "_model_name": "LayoutModel",
            "_view_count": null,
            "_view_module": "@jupyter-widgets/base",
            "_view_module_version": "1.2.0",
            "_view_name": "LayoutView",
            "align_content": null,
            "align_items": null,
            "align_self": null,
            "border": null,
            "bottom": null,
            "display": null,
            "flex": null,
            "flex_flow": null,
            "grid_area": null,
            "grid_auto_columns": null,
            "grid_auto_flow": null,
            "grid_auto_rows": null,
            "grid_column": null,
            "grid_gap": null,
            "grid_row": null,
            "grid_template_areas": null,
            "grid_template_columns": null,
            "grid_template_rows": null,
            "height": null,
            "justify_content": null,
            "justify_items": null,
            "left": null,
            "margin": null,
            "max_height": null,
            "max_width": null,
            "min_height": null,
            "min_width": null,
            "object_fit": null,
            "object_position": null,
            "order": null,
            "overflow": null,
            "overflow_x": null,
            "overflow_y": null,
            "padding": null,
            "right": null,
            "top": null,
            "visibility": null,
            "width": null
          }
        },
        "9fedf27b460b44429e77edd8865c19bf": {
          "model_module": "@jupyter-widgets/base",
          "model_name": "LayoutModel",
          "model_module_version": "1.2.0",
          "state": {
            "_model_module": "@jupyter-widgets/base",
            "_model_module_version": "1.2.0",
            "_model_name": "LayoutModel",
            "_view_count": null,
            "_view_module": "@jupyter-widgets/base",
            "_view_module_version": "1.2.0",
            "_view_name": "LayoutView",
            "align_content": null,
            "align_items": null,
            "align_self": null,
            "border": null,
            "bottom": null,
            "display": null,
            "flex": null,
            "flex_flow": null,
            "grid_area": null,
            "grid_auto_columns": null,
            "grid_auto_flow": null,
            "grid_auto_rows": null,
            "grid_column": null,
            "grid_gap": null,
            "grid_row": null,
            "grid_template_areas": null,
            "grid_template_columns": null,
            "grid_template_rows": null,
            "height": null,
            "justify_content": null,
            "justify_items": null,
            "left": null,
            "margin": null,
            "max_height": null,
            "max_width": null,
            "min_height": null,
            "min_width": null,
            "object_fit": null,
            "object_position": null,
            "order": null,
            "overflow": null,
            "overflow_x": null,
            "overflow_y": null,
            "padding": null,
            "right": null,
            "top": null,
            "visibility": null,
            "width": null
          }
        },
        "f2e9d47f3de540539a291aad644795ad": {
          "model_module": "@jupyter-widgets/controls",
          "model_name": "DescriptionStyleModel",
          "model_module_version": "1.5.0",
          "state": {
            "_model_module": "@jupyter-widgets/controls",
            "_model_module_version": "1.5.0",
            "_model_name": "DescriptionStyleModel",
            "_view_count": null,
            "_view_module": "@jupyter-widgets/base",
            "_view_module_version": "1.2.0",
            "_view_name": "StyleView",
            "description_width": ""
          }
        },
        "4b830dcc52a04ca087ceb474c8f4e7fe": {
          "model_module": "@jupyter-widgets/base",
          "model_name": "LayoutModel",
          "model_module_version": "1.2.0",
          "state": {
            "_model_module": "@jupyter-widgets/base",
            "_model_module_version": "1.2.0",
            "_model_name": "LayoutModel",
            "_view_count": null,
            "_view_module": "@jupyter-widgets/base",
            "_view_module_version": "1.2.0",
            "_view_name": "LayoutView",
            "align_content": null,
            "align_items": null,
            "align_self": null,
            "border": null,
            "bottom": null,
            "display": null,
            "flex": null,
            "flex_flow": null,
            "grid_area": null,
            "grid_auto_columns": null,
            "grid_auto_flow": null,
            "grid_auto_rows": null,
            "grid_column": null,
            "grid_gap": null,
            "grid_row": null,
            "grid_template_areas": null,
            "grid_template_columns": null,
            "grid_template_rows": null,
            "height": null,
            "justify_content": null,
            "justify_items": null,
            "left": null,
            "margin": null,
            "max_height": null,
            "max_width": null,
            "min_height": null,
            "min_width": null,
            "object_fit": null,
            "object_position": null,
            "order": null,
            "overflow": null,
            "overflow_x": null,
            "overflow_y": null,
            "padding": null,
            "right": null,
            "top": null,
            "visibility": null,
            "width": null
          }
        },
        "61782b6595474a68a1af9692a188b574": {
          "model_module": "@jupyter-widgets/controls",
          "model_name": "ProgressStyleModel",
          "model_module_version": "1.5.0",
          "state": {
            "_model_module": "@jupyter-widgets/controls",
            "_model_module_version": "1.5.0",
            "_model_name": "ProgressStyleModel",
            "_view_count": null,
            "_view_module": "@jupyter-widgets/base",
            "_view_module_version": "1.2.0",
            "_view_name": "StyleView",
            "bar_color": null,
            "description_width": ""
          }
        }
      }
    }
  },
  "cells": [
    {
      "cell_type": "markdown",
      "source": [
        "# Multimodal Clip-guided Graph Recommendation System\n",
        "\n",
        "![image.png](data:image/png;base64,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)"
      ],
      "metadata": {
        "id": "Ww1R9Gg5pfbi"
      }
    },
    {
      "cell_type": "markdown",
      "source": [
        "## Dependencies [install and import]"
      ],
      "metadata": {
        "id": "pGztcPfcjZeE"
      }
    },
    {
      "cell_type": "code",
      "source": [
        "!pip install torch_geometric\n",
        "!pip install wandb"
      ],
      "metadata": {
        "id": "KBnWBJF3jfrE",
        "colab": {
          "base_uri": "https://localhost:8080/"
        },
        "outputId": "946eddae-7ddb-49ff-a060-30b77792fb94"
      },
      "execution_count": null,
      "outputs": [
        {
          "output_type": "stream",
          "name": "stdout",
          "text": [
            "Collecting torch_geometric\n",
            "  Downloading torch_geometric-2.4.0-py3-none-any.whl (1.0 MB)\n",
            "\u001b[2K     \u001b[90m━━━━━━━━━━━━━━━━━━━━━━━━━━━━━━━━━━━━━━━━\u001b[0m \u001b[32m1.0/1.0 MB\u001b[0m \u001b[31m9.0 MB/s\u001b[0m eta \u001b[36m0:00:00\u001b[0m\n",
            "\u001b[?25hRequirement already satisfied: tqdm in /usr/local/lib/python3.10/dist-packages (from torch_geometric) (4.66.1)\n",
            "Requirement already satisfied: numpy in /usr/local/lib/python3.10/dist-packages (from torch_geometric) (1.23.5)\n",
            "Requirement already satisfied: scipy in /usr/local/lib/python3.10/dist-packages (from torch_geometric) (1.11.4)\n",
            "Requirement already satisfied: jinja2 in /usr/local/lib/python3.10/dist-packages (from torch_geometric) (3.1.3)\n",
            "Requirement already satisfied: requests in /usr/local/lib/python3.10/dist-packages (from torch_geometric) (2.31.0)\n",
            "Requirement already satisfied: pyparsing in /usr/local/lib/python3.10/dist-packages (from torch_geometric) (3.1.1)\n",
            "Requirement already satisfied: scikit-learn in /usr/local/lib/python3.10/dist-packages (from torch_geometric) (1.2.2)\n",
            "Requirement already satisfied: psutil>=5.8.0 in /usr/local/lib/python3.10/dist-packages (from torch_geometric) (5.9.5)\n",
            "Requirement already satisfied: MarkupSafe>=2.0 in /usr/local/lib/python3.10/dist-packages (from jinja2->torch_geometric) (2.1.3)\n",
            "Requirement already satisfied: charset-normalizer<4,>=2 in /usr/local/lib/python3.10/dist-packages (from requests->torch_geometric) (3.3.2)\n",
            "Requirement already satisfied: idna<4,>=2.5 in /usr/local/lib/python3.10/dist-packages (from requests->torch_geometric) (3.6)\n",
            "Requirement already satisfied: urllib3<3,>=1.21.1 in /usr/local/lib/python3.10/dist-packages (from requests->torch_geometric) (2.0.7)\n",
            "Requirement already satisfied: certifi>=2017.4.17 in /usr/local/lib/python3.10/dist-packages (from requests->torch_geometric) (2023.11.17)\n",
            "Requirement already satisfied: joblib>=1.1.1 in /usr/local/lib/python3.10/dist-packages (from scikit-learn->torch_geometric) (1.3.2)\n",
            "Requirement already satisfied: threadpoolctl>=2.0.0 in /usr/local/lib/python3.10/dist-packages (from scikit-learn->torch_geometric) (3.2.0)\n",
            "Installing collected packages: torch_geometric\n",
            "Successfully installed torch_geometric-2.4.0\n",
            "Collecting wandb\n",
            "  Downloading wandb-0.16.2-py3-none-any.whl (2.2 MB)\n",
            "\u001b[2K     \u001b[90m━━━━━━━━━━━━━━━━━━━━━━━━━━━━━━━━━━━━━━━━\u001b[0m \u001b[32m2.2/2.2 MB\u001b[0m \u001b[31m11.9 MB/s\u001b[0m eta \u001b[36m0:00:00\u001b[0m\n",
            "\u001b[?25hRequirement already satisfied: Click!=8.0.0,>=7.1 in /usr/local/lib/python3.10/dist-packages (from wandb) (8.1.7)\n",
            "Collecting GitPython!=3.1.29,>=1.0.0 (from wandb)\n",
            "  Downloading GitPython-3.1.41-py3-none-any.whl (196 kB)\n",
            "\u001b[2K     \u001b[90m━━━━━━━━━━━━━━━━━━━━━━━━━━━━━━━━━━━━━━━━\u001b[0m \u001b[32m196.4/196.4 kB\u001b[0m \u001b[31m14.0 MB/s\u001b[0m eta \u001b[36m0:00:00\u001b[0m\n",
            "\u001b[?25hRequirement already satisfied: requests<3,>=2.0.0 in /usr/local/lib/python3.10/dist-packages (from wandb) (2.31.0)\n",
            "Requirement already satisfied: psutil>=5.0.0 in /usr/local/lib/python3.10/dist-packages (from wandb) (5.9.5)\n",
            "Collecting sentry-sdk>=1.0.0 (from wandb)\n",
            "  Downloading sentry_sdk-1.39.2-py2.py3-none-any.whl (254 kB)\n",
            "\u001b[2K     \u001b[90m━━━━━━━━━━━━━━━━━━━━━━━━━━━━━━━━━━━━━━━━\u001b[0m \u001b[32m254.1/254.1 kB\u001b[0m \u001b[31m16.6 MB/s\u001b[0m eta \u001b[36m0:00:00\u001b[0m\n",
            "\u001b[?25hCollecting docker-pycreds>=0.4.0 (from wandb)\n",
            "  Downloading docker_pycreds-0.4.0-py2.py3-none-any.whl (9.0 kB)\n",
            "Requirement already satisfied: PyYAML in /usr/local/lib/python3.10/dist-packages (from wandb) (6.0.1)\n",
            "Collecting setproctitle (from wandb)\n",
            "  Downloading setproctitle-1.3.3-cp310-cp310-manylinux_2_5_x86_64.manylinux1_x86_64.manylinux_2_17_x86_64.manylinux2014_x86_64.whl (30 kB)\n",
            "Requirement already satisfied: setuptools in /usr/local/lib/python3.10/dist-packages (from wandb) (67.7.2)\n",
            "Requirement already satisfied: appdirs>=1.4.3 in /usr/local/lib/python3.10/dist-packages (from wandb) (1.4.4)\n",
            "Requirement already satisfied: protobuf!=4.21.0,<5,>=3.19.0 in /usr/local/lib/python3.10/dist-packages (from wandb) (3.20.3)\n",
            "Requirement already satisfied: six>=1.4.0 in /usr/local/lib/python3.10/dist-packages (from docker-pycreds>=0.4.0->wandb) (1.16.0)\n",
            "Collecting gitdb<5,>=4.0.1 (from GitPython!=3.1.29,>=1.0.0->wandb)\n",
            "  Downloading gitdb-4.0.11-py3-none-any.whl (62 kB)\n",
            "\u001b[2K     \u001b[90m━━━━━━━━━━━━━━━━━━━━━━━━━━━━━━━━━━━━━━━━\u001b[0m \u001b[32m62.7/62.7 kB\u001b[0m \u001b[31m4.8 MB/s\u001b[0m eta \u001b[36m0:00:00\u001b[0m\n",
            "\u001b[?25hRequirement already satisfied: charset-normalizer<4,>=2 in /usr/local/lib/python3.10/dist-packages (from requests<3,>=2.0.0->wandb) (3.3.2)\n",
            "Requirement already satisfied: idna<4,>=2.5 in /usr/local/lib/python3.10/dist-packages (from requests<3,>=2.0.0->wandb) (3.6)\n",
            "Requirement already satisfied: urllib3<3,>=1.21.1 in /usr/local/lib/python3.10/dist-packages (from requests<3,>=2.0.0->wandb) (2.0.7)\n",
            "Requirement already satisfied: certifi>=2017.4.17 in /usr/local/lib/python3.10/dist-packages (from requests<3,>=2.0.0->wandb) (2023.11.17)\n",
            "Collecting smmap<6,>=3.0.1 (from gitdb<5,>=4.0.1->GitPython!=3.1.29,>=1.0.0->wandb)\n",
            "  Downloading smmap-5.0.1-py3-none-any.whl (24 kB)\n",
            "Installing collected packages: smmap, setproctitle, sentry-sdk, docker-pycreds, gitdb, GitPython, wandb\n",
            "Successfully installed GitPython-3.1.41 docker-pycreds-0.4.0 gitdb-4.0.11 sentry-sdk-1.39.2 setproctitle-1.3.3 smmap-5.0.1 wandb-0.16.2\n"
          ]
        }
      ]
    },
    {
      "cell_type": "code",
      "source": [
        "import numpy as np\n",
        "import pandas as pd\n",
        "import ast\n",
        "import torch\n",
        "import torch.nn as nn\n",
        "import torch.nn.functional as F\n",
        "import torch.optim as optim\n",
        "from torch.utils.data import Dataset, DataLoader\n",
        "from torch.autograd import Variable\n",
        "import numpy as np\n",
        "from torch.nn import Linear, Parameter\n",
        "from torch_geometric.nn import MessagePassing\n",
        "from torch_geometric.utils import add_self_loops, degree\n",
        "from torch.autograd import Variable\n",
        "from torch.utils.data import DataLoader, TensorDataset\n",
        "import networkx as nx\n",
        "import math\n",
        "import matplotlib.pyplot as plt\n",
        "from sklearn import preprocessing, metrics\n",
        "import torch_geometric.data as data\n",
        "import torch_geometric.transforms as T\n",
        "from torch_geometric.utils import to_networkx, k_hop_subgraph\n",
        "from torch_geometric.nn import GCNConv\n",
        "\n",
        "import wandb\n",
        "\n",
        "device  = torch.device(\"cpu\")"
      ],
      "metadata": {
        "id": "6knzx7KJjgHQ"
      },
      "execution_count": null,
      "outputs": []
    },
    {
      "cell_type": "markdown",
      "source": [
        "## Post Processing of Multimodal Data"
      ],
      "metadata": {
        "id": "LB2FT4fIWUpx"
      }
    },
    {
      "cell_type": "code",
      "source": [
        "# #load movie lens dataset data files\n",
        "\n",
        "# image_features_path = '/content/drive/MyDrive/MMRecSyS/data/small_dataset/movielens/a_feat_sample.npy'\n",
        "# text_features_path = '/content/drive/MyDrive/MMRecSyS/data/small_dataset/movielens/t_feat_sample.npy'\n",
        "# video_features_path = '/content/drive/MyDrive/MMRecSyS/data/small_dataset/movielens/v_feat_sample.npy'\n",
        "# test_sample_path = '/content/drive/MyDrive/MMRecSyS/data/small_dataset/movielens/test_sample.npy'\n",
        "# train_sample_path = '/content/drive/MyDrive/MMRecSyS/data/small_dataset/movielens/train_sample.npy'\n",
        "# val_sample_path = '/content/drive/MyDrive/MMRecSyS/data/small_dataset/movielens/val_sample.npy'\n",
        "# user_item_dict_sample_path = '/content/drive/MyDrive/MMRecSyS/data/small_dataset/movielens/user_item_dict_sample.npy'"
      ],
      "metadata": {
        "id": "CtVmnr0GJK0D"
      },
      "execution_count": null,
      "outputs": []
    },
    {
      "cell_type": "code",
      "source": [
        "# load tiktok datasets files\n",
        "\n",
        "image_features_path = '/content/drive/MyDrive/MMRecSyS/data/small_dataset/tiktok/a_feat_sample.pt'\n",
        "text_features_path = '/content/drive/MyDrive/MMRecSyS/data/small_dataset/tiktok/t_feat_sample.pt'\n",
        "video_features_path = '/content/drive/MyDrive/MMRecSyS/data/small_dataset/tiktok/v_feat_sample.pt'\n",
        "test_sample_path = '/content/drive/MyDrive/MMRecSyS/data/small_dataset/tiktok/test_sample.npy'\n",
        "train_sample_path = '/content/drive/MyDrive/MMRecSyS/data/small_dataset/tiktok/train_sample.npy'\n",
        "val_sample_path = '/content/drive/MyDrive/MMRecSyS/data/small_dataset/tiktok/val_sample.npy'\n",
        "user_item_dict_sample_path = '/content/drive/MyDrive/MMRecSyS/data/small_dataset/tiktok/user_item_dict_sample.npy'"
      ],
      "metadata": {
        "id": "b3jYKBR9Zx5w"
      },
      "execution_count": null,
      "outputs": []
    },
    {
      "cell_type": "code",
      "source": [
        "from google.colab import drive\n",
        "drive.mount('/content/drive')"
      ],
      "metadata": {
        "colab": {
          "base_uri": "https://localhost:8080/"
        },
        "id": "wx_povfVeUIm",
        "outputId": "1728993c-2f08-4643-d535-8aef4b7e796a"
      },
      "execution_count": null,
      "outputs": [
        {
          "output_type": "stream",
          "name": "stdout",
          "text": [
            "Mounted at /content/drive\n"
          ]
        }
      ]
    },
    {
      "cell_type": "code",
      "source": [
        "import torch\n",
        "import numpy as np\n",
        "\n",
        "def convert_pth_to_npy(pth_file, npy_file):\n",
        "    tensor = torch.load(pth_file)\n",
        "\n",
        "    if isinstance(tensor, torch.Tensor):\n",
        "        np_array = tensor.numpy()\n",
        "        np.save(npy_file, np_array)\n",
        "        print(f\"Converted {pth_file} to {npy_file}\")\n",
        "    else:\n",
        "        print(f\"Error: The file {pth_file} does not contain a PyTorch tensor.\")"
      ],
      "metadata": {
        "id": "VrfR6hOSdn-B"
      },
      "execution_count": null,
      "outputs": []
    },
    {
      "cell_type": "code",
      "source": [
        "convert_pth_to_npy('/content/drive/MyDrive/MMRecSyS/data/small_dataset/tiktok/v_feat_sample.pt', '/content/drive/MyDrive/MMRecSyS/data/small_dataset/tiktok/v_feat_sample.npy')"
      ],
      "metadata": {
        "colab": {
          "base_uri": "https://localhost:8080/"
        },
        "id": "dymv2AhCeDFJ",
        "outputId": "4d4fbf97-7ca7-4207-8dfe-1db29543fbac"
      },
      "execution_count": null,
      "outputs": [
        {
          "output_type": "stream",
          "name": "stdout",
          "text": [
            "Converted /content/drive/MyDrive/MMRecSyS/data/small_dataset/tiktok/v_feat_sample.pt to /content/drive/MyDrive/MMRecSyS/data/small_dataset/tiktok/v_feat_sample.npy\n"
          ]
        }
      ]
    },
    {
      "cell_type": "code",
      "source": [
        "xt = np.load(val_sample_path, allow_pickle=True)"
      ],
      "metadata": {
        "id": "Jrfme7o0myU7"
      },
      "execution_count": null,
      "outputs": []
    },
    {
      "cell_type": "code",
      "source": [
        "xt"
      ],
      "metadata": {
        "colab": {
          "base_uri": "https://localhost:8080/"
        },
        "id": "7ZoEqqCKm3Xr",
        "outputId": "9000b057-f1df-4b58-b45e-36665a0f55bf"
      },
      "execution_count": null,
      "outputs": [
        {
          "output_type": "execute_result",
          "data": {
            "text/plain": [
              "array([list([0, 743]), list([1, 1261, 1064]), list([2]), list([3]),\n",
              "       list([4]), list([5]), list([6]), list([7]), list([8]), list([9]),\n",
              "       list([10, 594]), list([11, 315, 1357, 1482]), list([12]),\n",
              "       list([13]), list([14]), list([15, 614, 229, 962, 602, 676, 1175]),\n",
              "       list([16, 819]), list([17, 792]), list([18]), list([19]),\n",
              "       list([20]), list([21, 1168, 507, 1546]), list([22]), list([23]),\n",
              "       list([24, 663]), list([25]), list([26, 406]), list([27, 633]),\n",
              "       list([28]), list([29, 1029]), list([30, 407, 1228]), list([31]),\n",
              "       list([32, 1243, 52, 1344]), list([33, 633]), list([34, 42]),\n",
              "       list([35]), list([36]),\n",
              "       list([37, 1340, 812, 533, 1410, 1293, 460, 983, 1645, 401, 1388]),\n",
              "       list([38]),\n",
              "       list([39, 1090, 1389, 162, 1466, 771, 941, 532, 21, 420, 632, 938, 1006, 13]),\n",
              "       list([40]), list([41]), list([42, 695]), list([43, 815, 645, 829]),\n",
              "       list([44]), list([45, 115]), list([46, 166, 1539, 713]),\n",
              "       list([47, 3, 1434, 1271, 169]), list([48, 1057, 1519, 1341, 231]),\n",
              "       list([49, 934, 1478]),\n",
              "       list([50, 1086, 303, 451, 342, 1387, 458, 495]), list([51]),\n",
              "       list([52]), list([53]), list([54, 892]), list([55]),\n",
              "       list([56, 1154]), list([57, 547]),\n",
              "       list([58, 1430, 963, 191, 1630, 1043, 630, 272, 931, 352]),\n",
              "       list([59, 1369, 1251, 564, 1357, 520, 1386, 922, 1118, 642, 632, 1167, 849, 192, 921, 134, 1539, 1287, 826, 836, 1391, 625, 185, 1093]),\n",
              "       list([60, 681]), list([61]), list([62, 679]),\n",
              "       list([63, 1281, 1338, 636, 1518, 1490, 83, 717, 1128, 1058, 171]),\n",
              "       list([64]), list([65]), list([66, 462]), list([67, 57, 492, 334]),\n",
              "       list([68, 1044]), list([69]), list([70]), list([71, 1185, 82]),\n",
              "       list([72, 1152, 618]),\n",
              "       list([73, 1197, 1549, 1164, 448, 1385, 454, 864, 1132, 299, 94, 653, 1432, 228, 471, 485, 88, 1415, 1279, 152, 353, 329, 128, 701, 184, 1285, 888, 959, 1491, 1218, 468, 106, 1265, 696, 960, 403, 90, 310]),\n",
              "       list([74, 544]), list([75, 175, 223]), list([76, 935]), list([77]),\n",
              "       list([78]), list([79, 1226]), list([80]), list([81]), list([82]),\n",
              "       list([83, 378, 741, 1284, 1194]), list([84]), list([85, 1577]),\n",
              "       list([86]), list([87]), list([88, 826]), list([89]),\n",
              "       list([90, 1628, 1583, 566, 1216, 684]), list([91]),\n",
              "       list([92, 1040, 1162, 157, 1502, 1504, 474, 1128, 581, 598, 409, 274, 1014, 1129, 1403, 987, 1569]),\n",
              "       list([93, 849, 909, 1099, 1044, 674, 187, 1298, 417]), list([94]),\n",
              "       list([95, 1165]), list([96]), list([97]), list([98, 852]),\n",
              "       list([99])], dtype=object)"
            ]
          },
          "metadata": {},
          "execution_count": 118
        }
      ]
    },
    {
      "cell_type": "code",
      "source": [
        "t=torch.load(image_features_path)\n",
        "print(t.to(torch.float).dtype)"
      ],
      "metadata": {
        "colab": {
          "base_uri": "https://localhost:8080/"
        },
        "id": "gI_3Lvk4k98m",
        "outputId": "bbea2499-ff4c-4110-e30f-e793f47a11ae"
      },
      "execution_count": null,
      "outputs": [
        {
          "output_type": "stream",
          "name": "stdout",
          "text": [
            "torch.float32\n"
          ]
        }
      ]
    },
    {
      "cell_type": "code",
      "source": [
        "t"
      ],
      "metadata": {
        "colab": {
          "base_uri": "https://localhost:8080/"
        },
        "id": "lYWJIxgjmr-3",
        "outputId": "9cdd7e3e-9c43-4842-9232-b703888046ec"
      },
      "execution_count": null,
      "outputs": [
        {
          "output_type": "execute_result",
          "data": {
            "text/plain": [
              "tensor([[-0.1357, -0.1686, -0.0975,  ...,  0.0450, -0.1372, -0.1726],\n",
              "        [-0.1159,  0.0955,  0.1804,  ..., -0.1219,  0.5216,  0.1672],\n",
              "        [-0.1751,  0.1559,  0.1103,  ...,  0.0026,  0.3359,  0.0689],\n",
              "        ...,\n",
              "        [ 0.1675, -0.0362,  0.1792,  ..., -0.4336,  0.8108,  0.0704],\n",
              "        [ 0.0912, -0.4369, -0.2867,  ..., -0.0385,  0.0510, -0.1875],\n",
              "        [ 0.1329, -0.4400,  0.1522,  ..., -0.3433,  0.6209, -0.1375]],\n",
              "       dtype=torch.float64)"
            ]
          },
          "metadata": {},
          "execution_count": 6
        }
      ]
    },
    {
      "cell_type": "code",
      "source": [
        "a=torch.load(image_features_path)\n",
        "print(a.to(torch.float).dtype)"
      ],
      "metadata": {
        "colab": {
          "base_uri": "https://localhost:8080/"
        },
        "id": "b6_rbI2DmNEe",
        "outputId": "fdc3fdf9-5936-47c2-d878-63e817e81c37"
      },
      "execution_count": null,
      "outputs": [
        {
          "output_type": "stream",
          "name": "stdout",
          "text": [
            "torch.float32\n"
          ]
        }
      ]
    },
    {
      "cell_type": "code",
      "source": [
        "a.shape"
      ],
      "metadata": {
        "colab": {
          "base_uri": "https://localhost:8080/"
        },
        "id": "SN0NMtdWmfoL",
        "outputId": "38a83add-8aab-4c02-ee83-cf958c03a5ff"
      },
      "execution_count": null,
      "outputs": [
        {
          "output_type": "execute_result",
          "data": {
            "text/plain": [
              "torch.Size([1651, 128])"
            ]
          },
          "metadata": {},
          "execution_count": 8
        }
      ]
    },
    {
      "cell_type": "code",
      "source": [
        "v=torch.load(video_features_path)\n",
        "print(v.to(torch.float).dtype)"
      ],
      "metadata": {
        "colab": {
          "base_uri": "https://localhost:8080/"
        },
        "id": "6YTe20JQmi3M",
        "outputId": "e00f5731-3600-48b2-bb50-f7a81549ab21"
      },
      "execution_count": null,
      "outputs": [
        {
          "output_type": "stream",
          "name": "stdout",
          "text": [
            "torch.float32\n"
          ]
        }
      ]
    },
    {
      "cell_type": "code",
      "source": [
        "v.shape"
      ],
      "metadata": {
        "colab": {
          "base_uri": "https://localhost:8080/"
        },
        "id": "SvIwmhPbmmzp",
        "outputId": "e7de8272-6a11-4b7b-d43e-15b310317417"
      },
      "execution_count": null,
      "outputs": [
        {
          "output_type": "execute_result",
          "data": {
            "text/plain": [
              "torch.Size([1651, 128])"
            ]
          },
          "metadata": {},
          "execution_count": 10
        }
      ]
    },
    {
      "cell_type": "code",
      "source": [
        "#b84ddf302cba5ed974393a1a631bde44eff035a8\n",
        "import wandb\n",
        "run_mrecsys = wandb.init(\n",
        "    project = \"mrecsys\",\n",
        "    config = {\n",
        "        \"lr\": 0.01,\n",
        "        \"weight_decay\": 5e-4,\n",
        "    }\n",
        ")\n"
      ],
      "metadata": {
        "colab": {
          "base_uri": "https://localhost:8080/",
          "height": 121
        },
        "id": "3uhSEx0Ra3ja",
        "outputId": "26aac701-6072-4f6e-c5b4-89c5b033e146"
      },
      "execution_count": null,
      "outputs": [
        {
          "output_type": "stream",
          "name": "stderr",
          "text": [
            "\u001b[34m\u001b[1mwandb\u001b[0m: Currently logged in as: \u001b[33msidgraph\u001b[0m. Use \u001b[1m`wandb login --relogin`\u001b[0m to force relogin\n"
          ]
        },
        {
          "output_type": "display_data",
          "data": {
            "text/plain": [
              "<IPython.core.display.HTML object>"
            ],
            "text/html": [
              "Tracking run with wandb version 0.16.0"
            ]
          },
          "metadata": {}
        },
        {
          "output_type": "display_data",
          "data": {
            "text/plain": [
              "<IPython.core.display.HTML object>"
            ],
            "text/html": [
              "Run data is saved locally in <code>/content/wandb/run-20231126_171602-nxhzoyyl</code>"
            ]
          },
          "metadata": {}
        },
        {
          "output_type": "display_data",
          "data": {
            "text/plain": [
              "<IPython.core.display.HTML object>"
            ],
            "text/html": [
              "Syncing run <strong><a href='https://wandb.ai/sidgraph/mrecsys/runs/nxhzoyyl' target=\"_blank\">expert-cosmos-5</a></strong> to <a href='https://wandb.ai/sidgraph/mrecsys' target=\"_blank\">Weights & Biases</a> (<a href='https://wandb.me/run' target=\"_blank\">docs</a>)<br/>"
            ]
          },
          "metadata": {}
        },
        {
          "output_type": "display_data",
          "data": {
            "text/plain": [
              "<IPython.core.display.HTML object>"
            ],
            "text/html": [
              " View project at <a href='https://wandb.ai/sidgraph/mrecsys' target=\"_blank\">https://wandb.ai/sidgraph/mrecsys</a>"
            ]
          },
          "metadata": {}
        },
        {
          "output_type": "display_data",
          "data": {
            "text/plain": [
              "<IPython.core.display.HTML object>"
            ],
            "text/html": [
              " View run at <a href='https://wandb.ai/sidgraph/mrecsys/runs/nxhzoyyl' target=\"_blank\">https://wandb.ai/sidgraph/mrecsys/runs/nxhzoyyl</a>"
            ]
          },
          "metadata": {}
        }
      ]
    },
    {
      "cell_type": "markdown",
      "source": [
        "### Variational Autoencoder:\n",
        "Learning explicit representations for heterogeneous entities and converting them into homogeneous."
      ],
      "metadata": {
        "id": "BtpjU5k5Bog_"
      }
    },
    {
      "cell_type": "markdown",
      "source": [
        "#### Data-builder"
      ],
      "metadata": {
        "id": "RWrj7zxnDHyE"
      }
    },
    {
      "cell_type": "code",
      "source": [
        "def load_encoder_data(path):\n",
        "    # x = np.load(path).astype(np.float32)\n",
        "    # standardizer = preprocessing.StandardScaler()\n",
        "    # x_train = standardizer.fit_transform(x)\n",
        "    # x_train = torch.from_numpy(x_train).to(device)\n",
        "    x_train = torch.load(path)\n",
        "    return x_train.to(torch.float)"
      ],
      "metadata": {
        "id": "wyTjxhjRjXka"
      },
      "execution_count": null,
      "outputs": []
    },
    {
      "cell_type": "code",
      "source": [
        "class DataBuilder(Dataset):\n",
        "    def __init__(self, path):\n",
        "        self.x = load_encoder_data(video_features_path)\n",
        "        self.len = self.x.shape[0]\n",
        "    def __getitem__(self, index):\n",
        "        return self.x[index]\n",
        "    def __len__(self):\n",
        "        return self.len"
      ],
      "metadata": {
        "id": "H_07E6irjgjs"
      },
      "execution_count": null,
      "outputs": []
    },
    {
      "cell_type": "code",
      "source": [
        "data_set = DataBuilder(text_features_path)\n",
        "train_loader = DataLoader(dataset = data_set, batch_size=1024)"
      ],
      "metadata": {
        "id": "TvmuLrODChiq"
      },
      "execution_count": null,
      "outputs": []
    },
    {
      "cell_type": "markdown",
      "source": [
        "#### Autoencoder"
      ],
      "metadata": {
        "id": "2qIwdQvuDMex"
      }
    },
    {
      "cell_type": "code",
      "source": [
        "class Autoencoder(nn.Module):\n",
        "    def __init__(self, D_in, H=100, H2=80, latent_dim=50):\n",
        "        super(Autoencoder, self).__init__()\n",
        "        #Encoder\n",
        "        self.linear1 = nn.Linear(D_in, H)\n",
        "        self.lin_bn1 = nn.BatchNorm1d(num_features=H)\n",
        "        self.linear2 = nn.Linear(H, H2)\n",
        "        self.lin_bn2 = nn.BatchNorm1d(num_features=H2)\n",
        "        self.linear3 = nn.Linear(H2, H2)\n",
        "        self.lin_bn3 = nn.BatchNorm1d(num_features=H2)\n",
        "\n",
        "        # latent vectors mu and sigma\n",
        "        self.fc1 = nn.Linear(H2, latent_dim)\n",
        "        self.fc21 = nn.Linear(latent_dim, latent_dim)\n",
        "        self.fc22 = nn.Linear(latent_dim, latent_dim)\n",
        "\n",
        "        self.fc3 = nn.Linear(latent_dim, latent_dim)\n",
        "        self.fc4 = nn.Linear(latent_dim, H2)\n",
        "\n",
        "        # Decoder\n",
        "        self.linear4 = nn.Linear(H2, H2)\n",
        "        self.lin_bn4 = nn.BatchNorm1d(num_features=H2)\n",
        "        self.linear5 = nn.Linear(H2, H)\n",
        "        self.lin_bn5 = nn.BatchNorm1d(num_features=H)\n",
        "        self.linear6 = nn.Linear(H, D_in)\n",
        "        self.lin_bn6 = nn.BatchNorm1d(num_features=D_in)\n",
        "\n",
        "        self.relu = nn.ReLU()\n",
        "\n",
        "    def encode(self, x):\n",
        "\n",
        "        lin1 = self.relu(self.lin_bn1(self.linear1(x)))\n",
        "        lin2 = self.relu(self.lin_bn2(self.linear2(lin1)))\n",
        "        lin3 = self.relu(self.lin_bn3(self.linear3(lin2)))\n",
        "\n",
        "        fc1 = F.relu(self.fc1(lin3))\n",
        "\n",
        "        r1 = self.fc21(fc1)\n",
        "        r2 = self.fc22(fc1)\n",
        "\n",
        "        return r1, r2\n",
        "\n",
        "    def reparameterize(self, mu, logvar):\n",
        "        if self.training:\n",
        "            std = logvar.mul(0.5).exp_() # multiply log variance with 0.5, then in-place exponent --> gives std\n",
        "            # eps is [dim, zdim] with all elements drawn from mean 0 and std 1\n",
        "            eps = Variable(std.data.new(std.size()).normal_()) # std.data is tensor wrapped by std\n",
        "\n",
        "            return eps.mul(std).add_(mu)\n",
        "        else:\n",
        "            return mu\n",
        "\n",
        "    def decode(self, z):\n",
        "        fc3 = self.relu(self.fc3(z))\n",
        "        fc4 = self.relu(self.fc4(fc3))\n",
        "\n",
        "        lin4 = self.relu(self.lin_bn4(self.linear4(fc4)))\n",
        "        lin5 = self.relu(self.lin_bn5(self.linear5(lin4)))\n",
        "\n",
        "        return self.lin_bn6(self.linear6(lin5))\n",
        "\n",
        "    def forward(self, x):\n",
        "        mu, logvar = self.encode(x)\n",
        "        z = self.reparameterize(mu, logvar)\n",
        "\n",
        "        return self.decode(z), mu, logvar"
      ],
      "metadata": {
        "id": "33GyGqFWCjA1"
      },
      "execution_count": null,
      "outputs": []
    },
    {
      "cell_type": "markdown",
      "source": [
        "#### Custom Loss-1"
      ],
      "metadata": {
        "id": "cMRGRJeDDSa3"
      }
    },
    {
      "cell_type": "code",
      "source": [
        "class customLoss(nn.Module):\n",
        "    def __init__(self):\n",
        "        super(customLoss, self).__init__()\n",
        "        self.mse_loss = nn.MSELoss(reduction=\"sum\")\n",
        "\n",
        "    def forward(self, x_recon, x, mu, logvar):\n",
        "        loss_MSE = self.mse_loss(x_recon, x)\n",
        "        loss_KLD = -0.5* torch.sum(1+ logvar - mu.pow(2) - logvar.exp())\n",
        "\n",
        "        return loss_MSE + loss_KLD"
      ],
      "metadata": {
        "id": "oi4mf1fkC2yb"
      },
      "execution_count": null,
      "outputs": []
    },
    {
      "cell_type": "code",
      "source": [
        "def weights_init_uniform_rule(m):\n",
        "    classname = m.__class__.__name__\n",
        "    # for every linear layer in a model\n",
        "    if classname.find('Linear') != -1:\n",
        "        # get the number of the inputs\n",
        "        n = m.in_features\n",
        "        y = 1.0/np.sqrt(n)\n",
        "        m.weight.data.uniform_(-y, y)\n",
        "        m.bias.data.fill_(0)"
      ],
      "metadata": {
        "id": "ONmgTQOAC5JH"
      },
      "execution_count": null,
      "outputs": []
    },
    {
      "cell_type": "code",
      "source": [
        "data_set.x.shape[1]"
      ],
      "metadata": {
        "colab": {
          "base_uri": "https://localhost:8080/"
        },
        "id": "Gs4u9tNwl_a7",
        "outputId": "7f3df30e-fbd7-4779-c01c-9da01a9cdab3"
      },
      "execution_count": null,
      "outputs": [
        {
          "output_type": "execute_result",
          "data": {
            "text/plain": [
              "128"
            ]
          },
          "metadata": {},
          "execution_count": 24
        }
      ]
    },
    {
      "cell_type": "code",
      "source": [
        "D_in = data_set.x.shape[1]\n",
        "H=100\n",
        "H2=80\n",
        "model = Autoencoder(D_in, H, H2).to(device)\n",
        "optimizer = optim.Adam(model.parameters(), lr=1e-3)\n",
        "\n",
        "loss_custom = customLoss()"
      ],
      "metadata": {
        "id": "D00QOgZ1C6OR"
      },
      "execution_count": null,
      "outputs": []
    },
    {
      "cell_type": "markdown",
      "source": [
        "#### Training for Autoencoder"
      ],
      "metadata": {
        "id": "r-pdWJ8kDX_3"
      }
    },
    {
      "cell_type": "code",
      "source": [
        "epochs = 2000\n",
        "log_interval = 50\n",
        "val_losses = []\n",
        "train_losses = []\n",
        "\n",
        "def train(epoch):\n",
        "    model.train()\n",
        "    train_loss = 0\n",
        "    for batch_idx, data in enumerate(train_loader):\n",
        "        data = data.to(device)\n",
        "        optimizer.zero_grad()\n",
        "        recon_batch, mu, logvar = model(data)\n",
        "        loss = loss_custom(recon_batch, data, mu, logvar)\n",
        "        loss.backward()\n",
        "        #wandb.log({\"VAE_loss\": loss.item()})\n",
        "        train_loss += loss.item()\n",
        "        optimizer.step()\n",
        "\n",
        "    if epoch % 200 == 0:\n",
        "        print('Epoch {}, Average Loss: {:.4f}'.format(\n",
        "            epoch, train_loss / len(train_loader.dataset)))\n",
        "\n",
        "        train_losses.append(train_loss / len(train_loader.dataset))\n",
        "\n",
        "\n",
        "for epoch in range(1, epochs + 1):\n",
        "    train(epoch)\n",
        "\n",
        "#standardizer = train_loader.dataset.standardizer\n",
        "\n",
        "model.eval()\n",
        "test_loss = 0\n",
        "with torch.no_grad():\n",
        "    for i, data in enumerate(train_loader):\n",
        "        data = data.to(device)\n",
        "        recon_batch, mu, logvar = model(data)\n",
        "\n",
        "# Get Embeddings\n",
        "mu_output = []\n",
        "logvar_output = []\n",
        "\n",
        "with torch.no_grad():\n",
        "    for i, (data) in enumerate(train_loader):\n",
        "        data = data.to(device)\n",
        "        optimizer.zero_grad()\n",
        "        recon_batch, mu, logvar = model(data)\n",
        "\n",
        "        mu_tensor = mu\n",
        "        mu_output.append(mu_tensor)\n",
        "        mu_result = torch.cat(mu_output, dim=0)\n",
        "\n",
        "        logvar_tensor = logvar\n",
        "        logvar_output.append(logvar_tensor)\n",
        "        logvar_result = torch.cat(logvar_output, dim=0)\n",
        "\n",
        "# Plot Embeddings\n",
        "print(mu_result)\n",
        "print(mu_result.shape)\n",
        "features = mu_result.detach().cpu().numpy()\n",
        "\n",
        "with open('video_features.npy', 'wb') as f:\n",
        "    np.save(f, features)"
      ],
      "metadata": {
        "id": "IgVoCMMcDD1u",
        "colab": {
          "base_uri": "https://localhost:8080/"
        },
        "outputId": "40c90f04-c084-4a48-972d-eee597460fe0"
      },
      "execution_count": null,
      "outputs": [
        {
          "output_type": "stream",
          "name": "stdout",
          "text": [
            "Epoch 200, Average Loss: 799.4749\n",
            "Epoch 400, Average Loss: 583.3457\n",
            "Epoch 600, Average Loss: 426.4085\n",
            "Epoch 800, Average Loss: 309.1955\n",
            "Epoch 1000, Average Loss: 222.8172\n",
            "Epoch 1200, Average Loss: 161.3667\n",
            "Epoch 1400, Average Loss: 119.9098\n",
            "Epoch 1600, Average Loss: 93.1683\n",
            "Epoch 1800, Average Loss: 77.6651\n",
            "Epoch 2000, Average Loss: 69.0692\n",
            "tensor([[ 4.0730e-03, -6.2996e-03,  1.2349e-02,  ..., -1.6244e-02,\n",
            "          1.5049e-02,  4.8200e-01],\n",
            "        [ 5.0584e-03, -2.2574e-03,  1.0316e-02,  ..., -8.5624e-03,\n",
            "          6.4514e-03, -6.6163e-01],\n",
            "        [ 6.4923e-04,  1.0604e-03, -1.1969e-03,  ..., -1.8452e-03,\n",
            "         -2.9154e-02,  1.0754e+00],\n",
            "        ...,\n",
            "        [ 1.3009e-02,  3.1439e-03, -9.4607e-03,  ..., -3.0360e-03,\n",
            "         -1.7527e-02,  1.1331e+00],\n",
            "        [-1.3884e-02, -9.8131e-03,  1.2970e-02,  ..., -3.9353e-03,\n",
            "          1.0357e-02, -5.1390e-01],\n",
            "        [-3.7081e-03,  2.3991e-03, -9.6908e-03,  ..., -5.1284e-03,\n",
            "          1.2243e-02,  1.5373e-01]])\n",
            "torch.Size([1651, 50])\n"
          ]
        }
      ]
    },
    {
      "cell_type": "markdown",
      "source": [
        "### Dataset Post processing"
      ],
      "metadata": {
        "id": "Z5N9M_K9xl2i"
      }
    },
    {
      "cell_type": "code",
      "source": [
        "# loading feature tensors\n",
        "def load_feats():\n",
        "  img_feat = torch.load('/content/drive/MyDrive/MMRecSyS/data/processed_data/M1/image_features.pt')\n",
        "  txt_feat = torch.load('/content/drive/MyDrive/MMRecSyS/data/processed_data/M1/text_features.pt')\n",
        "  vid_feat = torch.load('/content/drive/MyDrive/MMRecSyS/data/processed_data/M1/video_features.pt')\n",
        "  return img_feat, txt_feat, vid_feat"
      ],
      "metadata": {
        "id": "-iBtlkOv7vaT"
      },
      "execution_count": null,
      "outputs": []
    },
    {
      "cell_type": "code",
      "source": [
        "img_feat, txt_feat, vid_feat = load_feats()\n",
        "print(img_feat.shape)\n",
        "print(txt_feat.shape)\n",
        "print(vid_feat.shape)\n",
        "def get_feature_matrix(img_feat, txt_feat):\n",
        "  feat = torch.cat((img_feat, txt_feat), 1)\n",
        "  return feat"
      ],
      "metadata": {
        "id": "Wn8u4Zoz8Ft4",
        "colab": {
          "base_uri": "https://localhost:8080/"
        },
        "outputId": "bf77c8d6-b59b-4d4c-e5e2-4b8a0028a70b"
      },
      "execution_count": null,
      "outputs": [
        {
          "output_type": "stream",
          "name": "stdout",
          "text": [
            "torch.Size([1141, 100])\n",
            "torch.Size([1141, 100])\n",
            "torch.Size([1141, 100])\n"
          ]
        }
      ]
    },
    {
      "cell_type": "code",
      "source": [
        "# get edge list of data\n",
        "def get_edge_list(interaction_array: int):\n",
        "  data_str = str(interaction_array)\n",
        "  data_dict = ast.literal_eval(data_str)\n",
        "  edge_list= []\n",
        "  for key, values in data_dict.items():\n",
        "    for v in values:\n",
        "      edge_list.append([key, v])\n",
        "\n",
        "  return torch.permute(torch.tensor(edge_list, dtype=torch.long), (1, 0))"
      ],
      "metadata": {
        "id": "Krwis8WD7QHA"
      },
      "execution_count": null,
      "outputs": []
    },
    {
      "cell_type": "code",
      "source": [
        "feat = get_feature_matrix(img_feat, txt_feat)\n",
        "edge_list = get_edge_list(np.load(user_item_dict_sample_path, allow_pickle=True))\n",
        "def get_entity_feats(feat, edge_list):\n",
        "  user_feat = torch.index_select(feat, 0, edge_list[0])\n",
        "  item_feat = torch.index_select(feat, 0, edge_list[1])\n",
        "  return user_feat.to(device), item_feat.to(device)"
      ],
      "metadata": {
        "id": "j8B9G4e39VwK"
      },
      "execution_count": null,
      "outputs": []
    },
    {
      "cell_type": "code",
      "source": [
        "print(feat.dtype)"
      ],
      "metadata": {
        "colab": {
          "base_uri": "https://localhost:8080/"
        },
        "id": "v4AZGVGT7W4I",
        "outputId": "57281e6b-6a0e-4aaf-8456-3119d792dbc0"
      },
      "execution_count": null,
      "outputs": [
        {
          "output_type": "stream",
          "name": "stdout",
          "text": [
            "torch.float64\n"
          ]
        }
      ]
    },
    {
      "cell_type": "code",
      "source": [
        "print(edge_list.dtype)"
      ],
      "metadata": {
        "colab": {
          "base_uri": "https://localhost:8080/"
        },
        "id": "eB0IDCrMH-KG",
        "outputId": "89e3cab6-595e-4376-a0d1-272cffd9044e"
      },
      "execution_count": null,
      "outputs": [
        {
          "output_type": "stream",
          "name": "stdout",
          "text": [
            "torch.int64\n"
          ]
        }
      ]
    },
    {
      "cell_type": "code",
      "source": [
        "feat = feat.to(torch.float32)"
      ],
      "metadata": {
        "id": "vxs1g_m9JRZv"
      },
      "execution_count": null,
      "outputs": []
    },
    {
      "cell_type": "code",
      "source": [
        "feat = feat.to(device)"
      ],
      "metadata": {
        "id": "6MXdG8nnJbgH"
      },
      "execution_count": null,
      "outputs": []
    },
    {
      "cell_type": "markdown",
      "source": [
        "## CLIP pretraining of Multimodal features"
      ],
      "metadata": {
        "id": "8UXP-tMMxZ0G"
      }
    },
    {
      "cell_type": "markdown",
      "source": [
        "### Custom User-Item Dataset"
      ],
      "metadata": {
        "id": "Dx-RcvVwheGF"
      }
    },
    {
      "cell_type": "code",
      "source": [
        "class UserItemDataset(Dataset):\n",
        "    def __init__(self, user_data, item_data):\n",
        "        self.user_data = user_data\n",
        "        self.item_data = item_data\n",
        "\n",
        "    def __len__(self):\n",
        "        return len(self.user_data)\n",
        "\n",
        "    def __getitem__(self, idx):\n",
        "        return self.user_data[idx], self.item_data[idx]"
      ],
      "metadata": {
        "id": "6vgnOcZ_xgva"
      },
      "execution_count": null,
      "outputs": []
    },
    {
      "cell_type": "markdown",
      "source": [
        "### Vision and Text Models"
      ],
      "metadata": {
        "id": "aA3sp1HwhpFx"
      }
    },
    {
      "cell_type": "code",
      "source": [
        "class UserModel(nn.Module):\n",
        "    def __init__(self):\n",
        "        super(UserModel, self).__init__()\n",
        "        # Define a simple language model (embedding layer)\n",
        "        #self.embedding = nn.Embedding(1141, 512)  # Assuming 10,000 words in the vocabulary\n",
        "        self.fc = nn.Linear(200, 100)\n",
        "    def forward(self, x):\n",
        "        return self.fc(x)"
      ],
      "metadata": {
        "id": "y4Ym9jUJhmQ6"
      },
      "execution_count": null,
      "outputs": []
    },
    {
      "cell_type": "code",
      "source": [
        "class ItemModel(nn.Module):\n",
        "    def __init__(self):\n",
        "        super(ItemModel, self).__init__()\n",
        "        # Define a simple language model (embedding layer)\n",
        "        #self.embedding = nn.Embedding(1141, 512)  # Assuming 10,000 words in the vocabulary\n",
        "        self.fc = nn.Linear(200, 100)\n",
        "    def forward(self, x):\n",
        "        return self.fc(x)"
      ],
      "metadata": {
        "id": "4ESYOKUQhxjr"
      },
      "execution_count": null,
      "outputs": []
    },
    {
      "cell_type": "markdown",
      "source": [
        "### Contrastive Loss"
      ],
      "metadata": {
        "id": "kwzmliXjhyw6"
      }
    },
    {
      "cell_type": "code",
      "source": [
        "class ContrastiveLoss(nn.Module):\n",
        "    def __init__(self, margin=0.5):\n",
        "        super(ContrastiveLoss, self).__init__()\n",
        "        self.margin = margin\n",
        "\n",
        "    def forward(self, user_embed, item_embed):\n",
        "        # Calculate cosine similarity between image and text embeddings\n",
        "        user_embed = nn.functional.normalize(user_embed, dim=1)\n",
        "        item_embed = nn.functional.normalize(item_embed, dim=1)\n",
        "        sim = torch.matmul(user_embed, item_embed.T)\n",
        "\n",
        "        # Positive pairs similarity (diagonal)\n",
        "        pos = torch.diagonal(sim)\n",
        "\n",
        "        # Negative pairs similarity (off-diagonal)\n",
        "        neg = sim - torch.eye(sim.size(0)).to(sim.device) * 2  # Setting a large negative value on the diagonal\n",
        "\n",
        "        loss_c = torch.clamp(self.margin - pos + neg.max(dim=1)[0], min=0).mean()\n",
        "        #wandb.log({\"contrastive_loss\": loss_c.item()})\n",
        "        return loss_c"
      ],
      "metadata": {
        "id": "tqItZGgRh6Xl"
      },
      "execution_count": null,
      "outputs": []
    },
    {
      "cell_type": "markdown",
      "source": [
        "### CLIP-Training"
      ],
      "metadata": {
        "id": "Jqc_oReAiBhe"
      }
    },
    {
      "cell_type": "code",
      "source": [
        "user_data, item_data = get_entity_feats(feat, edge_list)\n",
        "user_data = user_data.to(torch.float32)\n",
        "item_data = item_data.to(torch.float32)\n",
        "\n",
        "# Initialize models and dataset\n",
        "user_model = UserModel()\n",
        "item_model = ItemModel()\n",
        "contrastive_loss = ContrastiveLoss()\n",
        "optimizer = optim.Adam(list(user_model.parameters()) + list(item_model.parameters()), lr=0.001)\n",
        "\n",
        "# Create a dataset and dataloader\n",
        "dataset = UserItemDataset(user_data, item_data)\n",
        "dataloader = DataLoader(dataset, batch_size=10, shuffle=True)\n",
        "\n",
        "# Training loop\n",
        "for epoch in range(10):  # Assuming 10 epochs\n",
        "    for images, texts in dataloader:\n",
        "        optimizer.zero_grad()\n",
        "        user_embed = user_model(user_data.to(device))\n",
        "        item_embed = item_model(item_data.to(device))\n",
        "        loss = contrastive_loss(user_embed, item_embed)\n",
        "        loss.backward()\n",
        "        optimizer.step()\n",
        "\n",
        "        print(f\"Epoch [{epoch+1}/10], Loss: {loss.item()}\")"
      ],
      "metadata": {
        "colab": {
          "base_uri": "https://localhost:8080/"
        },
        "id": "gqkWHbAkiFMg",
        "outputId": "c45492bf-8231-4dd9-9bc5-2fb4c91d8534"
      },
      "execution_count": null,
      "outputs": [
        {
          "output_type": "stream",
          "name": "stdout",
          "text": [
            "Epoch [1/10], Loss: 0.8064097166061401\n",
            "Epoch [1/10], Loss: 0.7782162427902222\n",
            "Epoch [1/10], Loss: 0.759170413017273\n",
            "Epoch [1/10], Loss: 0.7425205707550049\n",
            "Epoch [1/10], Loss: 0.7279083132743835\n",
            "Epoch [1/10], Loss: 0.7162933945655823\n",
            "Epoch [1/10], Loss: 0.7062139511108398\n",
            "Epoch [1/10], Loss: 0.6963423490524292\n",
            "Epoch [1/10], Loss: 0.6878712177276611\n",
            "Epoch [1/10], Loss: 0.680966854095459\n",
            "Epoch [1/10], Loss: 0.673191487789154\n",
            "Epoch [1/10], Loss: 0.6686084270477295\n",
            "Epoch [1/10], Loss: 0.6617069244384766\n",
            "Epoch [1/10], Loss: 0.6579197645187378\n",
            "Epoch [1/10], Loss: 0.6518262624740601\n",
            "Epoch [1/10], Loss: 0.6465928554534912\n",
            "Epoch [1/10], Loss: 0.6421527862548828\n",
            "Epoch [1/10], Loss: 0.6378772854804993\n",
            "Epoch [1/10], Loss: 0.6347978711128235\n",
            "Epoch [1/10], Loss: 0.6308509111404419\n",
            "Epoch [1/10], Loss: 0.6261292695999146\n",
            "Epoch [1/10], Loss: 0.6223004460334778\n",
            "Epoch [1/10], Loss: 0.6187992095947266\n",
            "Epoch [1/10], Loss: 0.6151118874549866\n",
            "Epoch [1/10], Loss: 0.6122031211853027\n",
            "Epoch [1/10], Loss: 0.6093363761901855\n",
            "Epoch [1/10], Loss: 0.6052786111831665\n",
            "Epoch [1/10], Loss: 0.6033076047897339\n",
            "Epoch [1/10], Loss: 0.6001060009002686\n",
            "Epoch [1/10], Loss: 0.597638726234436\n",
            "Epoch [1/10], Loss: 0.5955742597579956\n",
            "Epoch [1/10], Loss: 0.5923476219177246\n",
            "Epoch [1/10], Loss: 0.5900699496269226\n",
            "Epoch [1/10], Loss: 0.58726966381073\n",
            "Epoch [1/10], Loss: 0.5856516361236572\n",
            "Epoch [1/10], Loss: 0.5837951898574829\n",
            "Epoch [1/10], Loss: 0.5818160772323608\n",
            "Epoch [1/10], Loss: 0.5796451568603516\n",
            "Epoch [1/10], Loss: 0.5787019729614258\n",
            "Epoch [1/10], Loss: 0.5764800310134888\n",
            "Epoch [1/10], Loss: 0.5748738646507263\n",
            "Epoch [1/10], Loss: 0.5734555125236511\n",
            "Epoch [1/10], Loss: 0.5714044570922852\n",
            "Epoch [1/10], Loss: 0.5710016489028931\n",
            "Epoch [1/10], Loss: 0.5699036121368408\n",
            "Epoch [1/10], Loss: 0.5684157013893127\n",
            "Epoch [1/10], Loss: 0.5671080946922302\n",
            "Epoch [1/10], Loss: 0.5657919645309448\n",
            "Epoch [1/10], Loss: 0.5645126104354858\n",
            "Epoch [1/10], Loss: 0.5622016191482544\n",
            "Epoch [1/10], Loss: 0.561095118522644\n",
            "Epoch [1/10], Loss: 0.5604560971260071\n",
            "Epoch [1/10], Loss: 0.5600650310516357\n",
            "Epoch [1/10], Loss: 0.5587697625160217\n",
            "Epoch [1/10], Loss: 0.557937741279602\n",
            "Epoch [1/10], Loss: 0.5571268200874329\n",
            "Epoch [1/10], Loss: 0.556673526763916\n",
            "Epoch [1/10], Loss: 0.5553123950958252\n",
            "Epoch [1/10], Loss: 0.5549118518829346\n",
            "Epoch [1/10], Loss: 0.5543290972709656\n",
            "Epoch [1/10], Loss: 0.5533226728439331\n",
            "Epoch [1/10], Loss: 0.5522404313087463\n",
            "Epoch [1/10], Loss: 0.5517606139183044\n",
            "Epoch [1/10], Loss: 0.5506383180618286\n",
            "Epoch [1/10], Loss: 0.550142228603363\n",
            "Epoch [1/10], Loss: 0.548646092414856\n",
            "Epoch [1/10], Loss: 0.5488161444664001\n",
            "Epoch [1/10], Loss: 0.547656774520874\n",
            "Epoch [1/10], Loss: 0.5462967753410339\n",
            "Epoch [1/10], Loss: 0.5460034012794495\n",
            "Epoch [1/10], Loss: 0.546137273311615\n",
            "Epoch [1/10], Loss: 0.5452904105186462\n",
            "Epoch [1/10], Loss: 0.5448669195175171\n",
            "Epoch [1/10], Loss: 0.5441780686378479\n",
            "Epoch [1/10], Loss: 0.5434116125106812\n",
            "Epoch [1/10], Loss: 0.5428991317749023\n",
            "Epoch [1/10], Loss: 0.5422931909561157\n",
            "Epoch [1/10], Loss: 0.5420907139778137\n",
            "Epoch [1/10], Loss: 0.5409846901893616\n",
            "Epoch [1/10], Loss: 0.5404383540153503\n",
            "Epoch [1/10], Loss: 0.5407049059867859\n",
            "Epoch [1/10], Loss: 0.5404934883117676\n",
            "Epoch [1/10], Loss: 0.5396430492401123\n",
            "Epoch [1/10], Loss: 0.5397739410400391\n",
            "Epoch [1/10], Loss: 0.5391807556152344\n",
            "Epoch [1/10], Loss: 0.5386099219322205\n",
            "Epoch [1/10], Loss: 0.5384025573730469\n",
            "Epoch [1/10], Loss: 0.5374677181243896\n",
            "Epoch [1/10], Loss: 0.5374841094017029\n",
            "Epoch [1/10], Loss: 0.5375291705131531\n",
            "Epoch [1/10], Loss: 0.5370784401893616\n",
            "Epoch [1/10], Loss: 0.5366222262382507\n",
            "Epoch [1/10], Loss: 0.5364527106285095\n",
            "Epoch [1/10], Loss: 0.5364466905593872\n",
            "Epoch [1/10], Loss: 0.5359053015708923\n",
            "Epoch [1/10], Loss: 0.5353466272354126\n",
            "Epoch [1/10], Loss: 0.5353534817695618\n",
            "Epoch [1/10], Loss: 0.5350186228752136\n",
            "Epoch [1/10], Loss: 0.5347299575805664\n",
            "Epoch [1/10], Loss: 0.5344509482383728\n",
            "Epoch [1/10], Loss: 0.5330835580825806\n",
            "Epoch [1/10], Loss: 0.5326648354530334\n",
            "Epoch [1/10], Loss: 0.5331091284751892\n",
            "Epoch [1/10], Loss: 0.5328467488288879\n",
            "Epoch [1/10], Loss: 0.5323886275291443\n",
            "Epoch [1/10], Loss: 0.5325935482978821\n",
            "Epoch [1/10], Loss: 0.5322190523147583\n",
            "Epoch [1/10], Loss: 0.5321460366249084\n",
            "Epoch [1/10], Loss: 0.531355082988739\n",
            "Epoch [1/10], Loss: 0.5309526920318604\n",
            "Epoch [1/10], Loss: 0.5307449698448181\n",
            "Epoch [1/10], Loss: 0.5310992002487183\n",
            "Epoch [1/10], Loss: 0.5306089520454407\n",
            "Epoch [1/10], Loss: 0.5306463241577148\n",
            "Epoch [1/10], Loss: 0.5302609205245972\n",
            "Epoch [1/10], Loss: 0.5300959348678589\n",
            "Epoch [1/10], Loss: 0.5296546220779419\n",
            "Epoch [1/10], Loss: 0.5298463702201843\n",
            "Epoch [1/10], Loss: 0.5293305516242981\n",
            "Epoch [1/10], Loss: 0.5284711122512817\n",
            "Epoch [1/10], Loss: 0.5283569693565369\n",
            "Epoch [1/10], Loss: 0.5286175012588501\n",
            "Epoch [1/10], Loss: 0.528318464756012\n",
            "Epoch [1/10], Loss: 0.528351366519928\n",
            "Epoch [1/10], Loss: 0.528048038482666\n",
            "Epoch [1/10], Loss: 0.5276243090629578\n",
            "Epoch [1/10], Loss: 0.5274999141693115\n",
            "Epoch [1/10], Loss: 0.5272985100746155\n",
            "Epoch [1/10], Loss: 0.5275322794914246\n",
            "Epoch [1/10], Loss: 0.5271775126457214\n",
            "Epoch [1/10], Loss: 0.5274364352226257\n",
            "Epoch [1/10], Loss: 0.526604413986206\n",
            "Epoch [1/10], Loss: 0.5270122289657593\n",
            "Epoch [1/10], Loss: 0.5265061855316162\n",
            "Epoch [1/10], Loss: 0.5260461568832397\n",
            "Epoch [1/10], Loss: 0.5263983011245728\n",
            "Epoch [1/10], Loss: 0.5268630385398865\n",
            "Epoch [1/10], Loss: 0.5265541672706604\n",
            "Epoch [1/10], Loss: 0.5261600017547607\n",
            "Epoch [1/10], Loss: 0.5255699157714844\n",
            "Epoch [1/10], Loss: 0.5248869061470032\n",
            "Epoch [1/10], Loss: 0.5251734852790833\n",
            "Epoch [1/10], Loss: 0.5250154733657837\n",
            "Epoch [1/10], Loss: 0.5250752568244934\n",
            "Epoch [1/10], Loss: 0.5248454213142395\n",
            "Epoch [1/10], Loss: 0.5242832899093628\n",
            "Epoch [1/10], Loss: 0.5248643755912781\n",
            "Epoch [1/10], Loss: 0.5245612263679504\n",
            "Epoch [1/10], Loss: 0.5247806310653687\n",
            "Epoch [1/10], Loss: 0.5243901014328003\n",
            "Epoch [1/10], Loss: 0.524194061756134\n",
            "Epoch [1/10], Loss: 0.5243163108825684\n",
            "Epoch [1/10], Loss: 0.523960292339325\n",
            "Epoch [1/10], Loss: 0.5236777067184448\n",
            "Epoch [1/10], Loss: 0.5240241885185242\n",
            "Epoch [1/10], Loss: 0.5231360793113708\n",
            "Epoch [1/10], Loss: 0.523254930973053\n",
            "Epoch [1/10], Loss: 0.5238901376724243\n",
            "Epoch [1/10], Loss: 0.52391517162323\n",
            "Epoch [1/10], Loss: 0.5237615704536438\n",
            "Epoch [1/10], Loss: 0.5233834385871887\n",
            "Epoch [1/10], Loss: 0.5227611064910889\n",
            "Epoch [1/10], Loss: 0.5224143862724304\n",
            "Epoch [1/10], Loss: 0.5228664875030518\n",
            "Epoch [1/10], Loss: 0.5227764248847961\n",
            "Epoch [1/10], Loss: 0.5226607918739319\n",
            "Epoch [1/10], Loss: 0.5224329233169556\n",
            "Epoch [1/10], Loss: 0.5223295092582703\n",
            "Epoch [1/10], Loss: 0.5224607586860657\n",
            "Epoch [1/10], Loss: 0.5222546458244324\n",
            "Epoch [1/10], Loss: 0.5219469666481018\n",
            "Epoch [1/10], Loss: 0.5218384861946106\n",
            "Epoch [1/10], Loss: 0.5220413208007812\n",
            "Epoch [1/10], Loss: 0.5213850140571594\n",
            "Epoch [1/10], Loss: 0.5210481882095337\n",
            "Epoch [1/10], Loss: 0.5205814838409424\n",
            "Epoch [1/10], Loss: 0.520698070526123\n",
            "Epoch [1/10], Loss: 0.5208997130393982\n",
            "Epoch [1/10], Loss: 0.5208044052124023\n",
            "Epoch [1/10], Loss: 0.5214349031448364\n",
            "Epoch [1/10], Loss: 0.5210654139518738\n",
            "Epoch [1/10], Loss: 0.5207836627960205\n",
            "Epoch [1/10], Loss: 0.5211079716682434\n",
            "Epoch [1/10], Loss: 0.5207955241203308\n",
            "Epoch [1/10], Loss: 0.520781934261322\n",
            "Epoch [1/10], Loss: 0.5202857851982117\n",
            "Epoch [1/10], Loss: 0.5198954343795776\n",
            "Epoch [1/10], Loss: 0.5199633240699768\n",
            "Epoch [1/10], Loss: 0.5199535489082336\n",
            "Epoch [1/10], Loss: 0.519795298576355\n",
            "Epoch [1/10], Loss: 0.51978999376297\n",
            "Epoch [1/10], Loss: 0.5198616981506348\n",
            "Epoch [1/10], Loss: 0.5197003483772278\n",
            "Epoch [1/10], Loss: 0.5200092196464539\n",
            "Epoch [1/10], Loss: 0.5202021598815918\n",
            "Epoch [1/10], Loss: 0.5200161933898926\n",
            "Epoch [1/10], Loss: 0.5198343992233276\n",
            "Epoch [1/10], Loss: 0.5192967653274536\n",
            "Epoch [1/10], Loss: 0.5188416838645935\n",
            "Epoch [1/10], Loss: 0.5192831158638\n",
            "Epoch [1/10], Loss: 0.519191563129425\n",
            "Epoch [1/10], Loss: 0.5191291570663452\n",
            "Epoch [1/10], Loss: 0.518984317779541\n",
            "Epoch [1/10], Loss: 0.5181270837783813\n",
            "Epoch [1/10], Loss: 0.5188449025154114\n",
            "Epoch [1/10], Loss: 0.5191959142684937\n",
            "Epoch [1/10], Loss: 0.5194757580757141\n",
            "Epoch [1/10], Loss: 0.5189557671546936\n",
            "Epoch [2/10], Loss: 0.5184422135353088\n",
            "Epoch [2/10], Loss: 0.5184435844421387\n",
            "Epoch [2/10], Loss: 0.5185331702232361\n",
            "Epoch [2/10], Loss: 0.5186651349067688\n",
            "Epoch [2/10], Loss: 0.5188794732093811\n",
            "Epoch [2/10], Loss: 0.5184210538864136\n",
            "Epoch [2/10], Loss: 0.5185031294822693\n",
            "Epoch [2/10], Loss: 0.5183001756668091\n",
            "Epoch [2/10], Loss: 0.5189951658248901\n",
            "Epoch [2/10], Loss: 0.5184476971626282\n",
            "Epoch [2/10], Loss: 0.518216609954834\n",
            "Epoch [2/10], Loss: 0.5186692476272583\n",
            "Epoch [2/10], Loss: 0.5180937647819519\n",
            "Epoch [2/10], Loss: 0.5179370641708374\n",
            "Epoch [2/10], Loss: 0.5186094045639038\n",
            "Epoch [2/10], Loss: 0.5176851749420166\n",
            "Epoch [2/10], Loss: 0.5173588395118713\n",
            "Epoch [2/10], Loss: 0.5174715518951416\n",
            "Epoch [2/10], Loss: 0.5175381898880005\n",
            "Epoch [2/10], Loss: 0.5175081491470337\n",
            "Epoch [2/10], Loss: 0.5179115533828735\n",
            "Epoch [2/10], Loss: 0.5172570943832397\n",
            "Epoch [2/10], Loss: 0.5175581574440002\n",
            "Epoch [2/10], Loss: 0.517301082611084\n",
            "Epoch [2/10], Loss: 0.5173105001449585\n",
            "Epoch [2/10], Loss: 0.5169941782951355\n",
            "Epoch [2/10], Loss: 0.5165604948997498\n",
            "Epoch [2/10], Loss: 0.5170832872390747\n",
            "Epoch [2/10], Loss: 0.5167096853256226\n",
            "Epoch [2/10], Loss: 0.5168704986572266\n",
            "Epoch [2/10], Loss: 0.5167081952095032\n",
            "Epoch [2/10], Loss: 0.5169300436973572\n",
            "Epoch [2/10], Loss: 0.5174008011817932\n",
            "Epoch [2/10], Loss: 0.5174714922904968\n",
            "Epoch [2/10], Loss: 0.5171385407447815\n",
            "Epoch [2/10], Loss: 0.5167335867881775\n",
            "Epoch [2/10], Loss: 0.5167117714881897\n",
            "Epoch [2/10], Loss: 0.5164178013801575\n",
            "Epoch [2/10], Loss: 0.516090989112854\n",
            "Epoch [2/10], Loss: 0.5163905620574951\n",
            "Epoch [2/10], Loss: 0.5165387392044067\n",
            "Epoch [2/10], Loss: 0.5167636871337891\n",
            "Epoch [2/10], Loss: 0.516335129737854\n",
            "Epoch [2/10], Loss: 0.5165185332298279\n",
            "Epoch [2/10], Loss: 0.5167283415794373\n",
            "Epoch [2/10], Loss: 0.5168080925941467\n",
            "Epoch [2/10], Loss: 0.5160962343215942\n",
            "Epoch [2/10], Loss: 0.5159289240837097\n",
            "Epoch [2/10], Loss: 0.5157989263534546\n",
            "Epoch [2/10], Loss: 0.5161562561988831\n",
            "Epoch [2/10], Loss: 0.5158294439315796\n",
            "Epoch [2/10], Loss: 0.5162002444267273\n",
            "Epoch [2/10], Loss: 0.5157025456428528\n",
            "Epoch [2/10], Loss: 0.5154904723167419\n",
            "Epoch [2/10], Loss: 0.5157642364501953\n",
            "Epoch [2/10], Loss: 0.5155075192451477\n",
            "Epoch [2/10], Loss: 0.5159761309623718\n",
            "Epoch [2/10], Loss: 0.5156989097595215\n",
            "Epoch [2/10], Loss: 0.5154351592063904\n",
            "Epoch [2/10], Loss: 0.5157353281974792\n",
            "Epoch [2/10], Loss: 0.5162030458450317\n",
            "Epoch [2/10], Loss: 0.5158125162124634\n",
            "Epoch [2/10], Loss: 0.5164968371391296\n",
            "Epoch [2/10], Loss: 0.516042947769165\n",
            "Epoch [2/10], Loss: 0.5160711407661438\n",
            "Epoch [2/10], Loss: 0.5157352089881897\n",
            "Epoch [2/10], Loss: 0.5155723094940186\n",
            "Epoch [2/10], Loss: 0.5155551433563232\n",
            "Epoch [2/10], Loss: 0.5157343745231628\n",
            "Epoch [2/10], Loss: 0.5152050852775574\n",
            "Epoch [2/10], Loss: 0.5152586698532104\n",
            "Epoch [2/10], Loss: 0.5154180526733398\n",
            "Epoch [2/10], Loss: 0.5154934525489807\n",
            "Epoch [2/10], Loss: 0.5151655673980713\n",
            "Epoch [2/10], Loss: 0.5156026482582092\n",
            "Epoch [2/10], Loss: 0.515904426574707\n",
            "Epoch [2/10], Loss: 0.5153247714042664\n",
            "Epoch [2/10], Loss: 0.5151857137680054\n",
            "Epoch [2/10], Loss: 0.5149665474891663\n",
            "Epoch [2/10], Loss: 0.5147842764854431\n",
            "Epoch [2/10], Loss: 0.5148969292640686\n",
            "Epoch [2/10], Loss: 0.5144615769386292\n",
            "Epoch [2/10], Loss: 0.5146065950393677\n",
            "Epoch [2/10], Loss: 0.5143885016441345\n",
            "Epoch [2/10], Loss: 0.5144374966621399\n",
            "Epoch [2/10], Loss: 0.5147629976272583\n",
            "Epoch [2/10], Loss: 0.514724612236023\n",
            "Epoch [2/10], Loss: 0.5145601034164429\n",
            "Epoch [2/10], Loss: 0.5151157379150391\n",
            "Epoch [2/10], Loss: 0.5146980285644531\n",
            "Epoch [2/10], Loss: 0.5148417949676514\n",
            "Epoch [2/10], Loss: 0.5145902037620544\n",
            "Epoch [2/10], Loss: 0.5145315527915955\n",
            "Epoch [2/10], Loss: 0.5146299004554749\n",
            "Epoch [2/10], Loss: 0.5149716734886169\n",
            "Epoch [2/10], Loss: 0.5146992206573486\n",
            "Epoch [2/10], Loss: 0.5149292349815369\n",
            "Epoch [2/10], Loss: 0.5151863694190979\n",
            "Epoch [2/10], Loss: 0.5149861574172974\n",
            "Epoch [2/10], Loss: 0.5152871608734131\n",
            "Epoch [2/10], Loss: 0.5150638818740845\n",
            "Epoch [2/10], Loss: 0.5144855380058289\n",
            "Epoch [2/10], Loss: 0.5146955847740173\n",
            "Epoch [2/10], Loss: 0.5143588781356812\n",
            "Epoch [2/10], Loss: 0.5147441625595093\n",
            "Epoch [2/10], Loss: 0.5151126980781555\n",
            "Epoch [2/10], Loss: 0.5149251818656921\n",
            "Epoch [2/10], Loss: 0.5140390992164612\n",
            "Epoch [2/10], Loss: 0.5136721134185791\n",
            "Epoch [2/10], Loss: 0.5141692161560059\n",
            "Epoch [2/10], Loss: 0.5148553252220154\n",
            "Epoch [2/10], Loss: 0.5145037174224854\n",
            "Epoch [2/10], Loss: 0.5145091414451599\n",
            "Epoch [2/10], Loss: 0.5143410563468933\n",
            "Epoch [2/10], Loss: 0.5147411823272705\n",
            "Epoch [2/10], Loss: 0.5149341821670532\n",
            "Epoch [2/10], Loss: 0.5146275758743286\n",
            "Epoch [2/10], Loss: 0.5144744515419006\n",
            "Epoch [2/10], Loss: 0.5143890976905823\n",
            "Epoch [2/10], Loss: 0.514423668384552\n",
            "Epoch [2/10], Loss: 0.514157235622406\n",
            "Epoch [2/10], Loss: 0.5139760375022888\n",
            "Epoch [2/10], Loss: 0.5142297744750977\n",
            "Epoch [2/10], Loss: 0.5143432021141052\n",
            "Epoch [2/10], Loss: 0.5142797231674194\n",
            "Epoch [2/10], Loss: 0.5144770741462708\n",
            "Epoch [2/10], Loss: 0.5145479440689087\n",
            "Epoch [2/10], Loss: 0.5137532949447632\n",
            "Epoch [2/10], Loss: 0.5137604475021362\n",
            "Epoch [2/10], Loss: 0.5138868093490601\n",
            "Epoch [2/10], Loss: 0.5140941143035889\n",
            "Epoch [2/10], Loss: 0.5142917037010193\n",
            "Epoch [2/10], Loss: 0.514100193977356\n",
            "Epoch [2/10], Loss: 0.5140807628631592\n",
            "Epoch [2/10], Loss: 0.5139063596725464\n",
            "Epoch [2/10], Loss: 0.5137075781822205\n",
            "Epoch [2/10], Loss: 0.5140928626060486\n",
            "Epoch [2/10], Loss: 0.5141308307647705\n",
            "Epoch [2/10], Loss: 0.5143622756004333\n",
            "Epoch [2/10], Loss: 0.5138746500015259\n",
            "Epoch [2/10], Loss: 0.5138916373252869\n",
            "Epoch [2/10], Loss: 0.5150294303894043\n",
            "Epoch [2/10], Loss: 0.5141899585723877\n",
            "Epoch [2/10], Loss: 0.5137687921524048\n",
            "Epoch [2/10], Loss: 0.5136911273002625\n",
            "Epoch [2/10], Loss: 0.5138320922851562\n",
            "Epoch [2/10], Loss: 0.513694703578949\n",
            "Epoch [2/10], Loss: 0.5145343542098999\n",
            "Epoch [2/10], Loss: 0.5141876935958862\n",
            "Epoch [2/10], Loss: 0.513393759727478\n",
            "Epoch [2/10], Loss: 0.5135540962219238\n",
            "Epoch [2/10], Loss: 0.5141721963882446\n",
            "Epoch [2/10], Loss: 0.5141405463218689\n",
            "Epoch [2/10], Loss: 0.5142298340797424\n",
            "Epoch [2/10], Loss: 0.5142260193824768\n",
            "Epoch [2/10], Loss: 0.5135608315467834\n",
            "Epoch [2/10], Loss: 0.513044536113739\n",
            "Epoch [2/10], Loss: 0.5127090811729431\n",
            "Epoch [2/10], Loss: 0.5130743980407715\n",
            "Epoch [2/10], Loss: 0.5132100582122803\n",
            "Epoch [2/10], Loss: 0.5134639143943787\n",
            "Epoch [2/10], Loss: 0.5134363174438477\n",
            "Epoch [2/10], Loss: 0.5139369368553162\n",
            "Epoch [2/10], Loss: 0.5134087204933167\n",
            "Epoch [2/10], Loss: 0.5136001706123352\n",
            "Epoch [2/10], Loss: 0.5134486556053162\n",
            "Epoch [2/10], Loss: 0.5134443640708923\n",
            "Epoch [2/10], Loss: 0.5137006640434265\n",
            "Epoch [2/10], Loss: 0.5136808753013611\n",
            "Epoch [2/10], Loss: 0.5138759613037109\n",
            "Epoch [2/10], Loss: 0.5141074061393738\n",
            "Epoch [2/10], Loss: 0.5139632821083069\n",
            "Epoch [2/10], Loss: 0.5133214592933655\n",
            "Epoch [2/10], Loss: 0.5134871602058411\n",
            "Epoch [2/10], Loss: 0.5137343406677246\n",
            "Epoch [2/10], Loss: 0.5136656761169434\n",
            "Epoch [2/10], Loss: 0.5138229131698608\n",
            "Epoch [2/10], Loss: 0.513692319393158\n",
            "Epoch [2/10], Loss: 0.5139234662055969\n",
            "Epoch [2/10], Loss: 0.5133649706840515\n",
            "Epoch [2/10], Loss: 0.5131651163101196\n",
            "Epoch [2/10], Loss: 0.5133678317070007\n",
            "Epoch [2/10], Loss: 0.5133642554283142\n",
            "Epoch [2/10], Loss: 0.5136224031448364\n",
            "Epoch [2/10], Loss: 0.513727605342865\n",
            "Epoch [2/10], Loss: 0.5137428641319275\n",
            "Epoch [2/10], Loss: 0.5135238766670227\n",
            "Epoch [2/10], Loss: 0.5134064555168152\n",
            "Epoch [2/10], Loss: 0.51390141248703\n",
            "Epoch [2/10], Loss: 0.5135229825973511\n",
            "Epoch [2/10], Loss: 0.5135906338691711\n",
            "Epoch [2/10], Loss: 0.5137879252433777\n",
            "Epoch [2/10], Loss: 0.5133967995643616\n",
            "Epoch [2/10], Loss: 0.5132365226745605\n",
            "Epoch [2/10], Loss: 0.5139971971511841\n",
            "Epoch [2/10], Loss: 0.5137581825256348\n",
            "Epoch [2/10], Loss: 0.5130044221878052\n",
            "Epoch [2/10], Loss: 0.5133005976676941\n",
            "Epoch [2/10], Loss: 0.5131933689117432\n",
            "Epoch [2/10], Loss: 0.5135075449943542\n",
            "Epoch [2/10], Loss: 0.5129536986351013\n",
            "Epoch [2/10], Loss: 0.5129165649414062\n",
            "Epoch [2/10], Loss: 0.5127620100975037\n",
            "Epoch [2/10], Loss: 0.5128589272499084\n",
            "Epoch [2/10], Loss: 0.5133427381515503\n",
            "Epoch [2/10], Loss: 0.5133576989173889\n",
            "Epoch [2/10], Loss: 0.5129526257514954\n",
            "Epoch [2/10], Loss: 0.5131961107254028\n",
            "Epoch [3/10], Loss: 0.5131309032440186\n",
            "Epoch [3/10], Loss: 0.5133107900619507\n",
            "Epoch [3/10], Loss: 0.513027548789978\n",
            "Epoch [3/10], Loss: 0.5133633017539978\n",
            "Epoch [3/10], Loss: 0.5127539038658142\n",
            "Epoch [3/10], Loss: 0.5131589770317078\n",
            "Epoch [3/10], Loss: 0.5132544636726379\n",
            "Epoch [3/10], Loss: 0.5132664442062378\n",
            "Epoch [3/10], Loss: 0.5128594040870667\n",
            "Epoch [3/10], Loss: 0.513208270072937\n",
            "Epoch [3/10], Loss: 0.5130122900009155\n",
            "Epoch [3/10], Loss: 0.5129994750022888\n",
            "Epoch [3/10], Loss: 0.5127858519554138\n",
            "Epoch [3/10], Loss: 0.512354850769043\n",
            "Epoch [3/10], Loss: 0.5126643776893616\n",
            "Epoch [3/10], Loss: 0.5125741362571716\n",
            "Epoch [3/10], Loss: 0.5122877955436707\n",
            "Epoch [3/10], Loss: 0.512976884841919\n",
            "Epoch [3/10], Loss: 0.5128713250160217\n",
            "Epoch [3/10], Loss: 0.5122864246368408\n",
            "Epoch [3/10], Loss: 0.5124603509902954\n",
            "Epoch [3/10], Loss: 0.5124655365943909\n",
            "Epoch [3/10], Loss: 0.5131332874298096\n",
            "Epoch [3/10], Loss: 0.5124350190162659\n",
            "Epoch [3/10], Loss: 0.5124644637107849\n",
            "Epoch [3/10], Loss: 0.5123783946037292\n",
            "Epoch [3/10], Loss: 0.5126170516014099\n",
            "Epoch [3/10], Loss: 0.512811005115509\n",
            "Epoch [3/10], Loss: 0.51268070936203\n",
            "Epoch [3/10], Loss: 0.5126399397850037\n",
            "Epoch [3/10], Loss: 0.5130245089530945\n",
            "Epoch [3/10], Loss: 0.513184666633606\n",
            "Epoch [3/10], Loss: 0.5130185484886169\n",
            "Epoch [3/10], Loss: 0.5131726264953613\n",
            "Epoch [3/10], Loss: 0.5131763815879822\n",
            "Epoch [3/10], Loss: 0.5133031010627747\n",
            "Epoch [3/10], Loss: 0.5132526159286499\n",
            "Epoch [3/10], Loss: 0.5129594802856445\n",
            "Epoch [3/10], Loss: 0.5131537318229675\n",
            "Epoch [3/10], Loss: 0.5129186511039734\n",
            "Epoch [3/10], Loss: 0.5126962065696716\n",
            "Epoch [3/10], Loss: 0.5127047300338745\n",
            "Epoch [3/10], Loss: 0.5122780799865723\n",
            "Epoch [3/10], Loss: 0.5125272274017334\n",
            "Epoch [3/10], Loss: 0.5119261145591736\n",
            "Epoch [3/10], Loss: 0.5122770071029663\n",
            "Epoch [3/10], Loss: 0.5122390985488892\n",
            "Epoch [3/10], Loss: 0.5121057629585266\n",
            "Epoch [3/10], Loss: 0.5122166275978088\n",
            "Epoch [3/10], Loss: 0.5122085213661194\n",
            "Epoch [3/10], Loss: 0.5123370885848999\n",
            "Epoch [3/10], Loss: 0.5126579403877258\n",
            "Epoch [3/10], Loss: 0.5125165581703186\n",
            "Epoch [3/10], Loss: 0.5125772356987\n",
            "Epoch [3/10], Loss: 0.5121774673461914\n",
            "Epoch [3/10], Loss: 0.5120680332183838\n",
            "Epoch [3/10], Loss: 0.5122833251953125\n",
            "Epoch [3/10], Loss: 0.5124709010124207\n",
            "Epoch [3/10], Loss: 0.5121369361877441\n",
            "Epoch [3/10], Loss: 0.5118893980979919\n",
            "Epoch [3/10], Loss: 0.512168824672699\n",
            "Epoch [3/10], Loss: 0.5119358897209167\n",
            "Epoch [3/10], Loss: 0.5120108127593994\n",
            "Epoch [3/10], Loss: 0.5118375420570374\n",
            "Epoch [3/10], Loss: 0.5120529532432556\n",
            "Epoch [3/10], Loss: 0.511918842792511\n",
            "Epoch [3/10], Loss: 0.5124803781509399\n",
            "Epoch [3/10], Loss: 0.5123942494392395\n",
            "Epoch [3/10], Loss: 0.5125522613525391\n",
            "Epoch [3/10], Loss: 0.5119441747665405\n",
            "Epoch [3/10], Loss: 0.5122779011726379\n",
            "Epoch [3/10], Loss: 0.5119550824165344\n",
            "Epoch [3/10], Loss: 0.5122568607330322\n",
            "Epoch [3/10], Loss: 0.5126091837882996\n",
            "Epoch [3/10], Loss: 0.5119611024856567\n",
            "Epoch [3/10], Loss: 0.5121713280677795\n",
            "Epoch [3/10], Loss: 0.5122126936912537\n",
            "Epoch [3/10], Loss: 0.511476993560791\n",
            "Epoch [3/10], Loss: 0.5114002227783203\n",
            "Epoch [3/10], Loss: 0.5114192962646484\n",
            "Epoch [3/10], Loss: 0.5111852288246155\n",
            "Epoch [3/10], Loss: 0.5115824341773987\n",
            "Epoch [3/10], Loss: 0.5115599632263184\n",
            "Epoch [3/10], Loss: 0.5123811364173889\n",
            "Epoch [3/10], Loss: 0.5124709606170654\n",
            "Epoch [3/10], Loss: 0.5119520425796509\n",
            "Epoch [3/10], Loss: 0.5119141340255737\n",
            "Epoch [3/10], Loss: 0.5121833682060242\n",
            "Epoch [3/10], Loss: 0.5120850205421448\n",
            "Epoch [3/10], Loss: 0.5118889808654785\n",
            "Epoch [3/10], Loss: 0.5114734172821045\n",
            "Epoch [3/10], Loss: 0.5114870667457581\n",
            "Epoch [3/10], Loss: 0.5115732550621033\n",
            "Epoch [3/10], Loss: 0.511553168296814\n",
            "Epoch [3/10], Loss: 0.5110373497009277\n",
            "Epoch [3/10], Loss: 0.5119506120681763\n",
            "Epoch [3/10], Loss: 0.5119166970252991\n",
            "Epoch [3/10], Loss: 0.5122491121292114\n",
            "Epoch [3/10], Loss: 0.5123701691627502\n",
            "Epoch [3/10], Loss: 0.5121803879737854\n",
            "Epoch [3/10], Loss: 0.5119523406028748\n",
            "Epoch [3/10], Loss: 0.5124734044075012\n",
            "Epoch [3/10], Loss: 0.5120627880096436\n",
            "Epoch [3/10], Loss: 0.5122548341751099\n",
            "Epoch [3/10], Loss: 0.5119920969009399\n",
            "Epoch [3/10], Loss: 0.5120279788970947\n",
            "Epoch [3/10], Loss: 0.5120375156402588\n",
            "Epoch [3/10], Loss: 0.5119595527648926\n",
            "Epoch [3/10], Loss: 0.5122361183166504\n",
            "Epoch [3/10], Loss: 0.512721836566925\n",
            "Epoch [3/10], Loss: 0.5125389695167542\n",
            "Epoch [3/10], Loss: 0.5121449828147888\n",
            "Epoch [3/10], Loss: 0.5124248266220093\n",
            "Epoch [3/10], Loss: 0.5124125480651855\n",
            "Epoch [3/10], Loss: 0.5121567249298096\n",
            "Epoch [3/10], Loss: 0.512017011642456\n",
            "Epoch [3/10], Loss: 0.5119738578796387\n",
            "Epoch [3/10], Loss: 0.5117899179458618\n",
            "Epoch [3/10], Loss: 0.5120422840118408\n",
            "Epoch [3/10], Loss: 0.5116859674453735\n",
            "Epoch [3/10], Loss: 0.511711061000824\n",
            "Epoch [3/10], Loss: 0.5115293264389038\n",
            "Epoch [3/10], Loss: 0.5111439824104309\n",
            "Epoch [3/10], Loss: 0.5115781426429749\n",
            "Epoch [3/10], Loss: 0.5118321776390076\n",
            "Epoch [3/10], Loss: 0.5115361213684082\n",
            "Epoch [3/10], Loss: 0.5111564993858337\n",
            "Epoch [3/10], Loss: 0.5116544961929321\n",
            "Epoch [3/10], Loss: 0.5115261673927307\n",
            "Epoch [3/10], Loss: 0.5116547346115112\n",
            "Epoch [3/10], Loss: 0.5112392902374268\n",
            "Epoch [3/10], Loss: 0.5115960240364075\n",
            "Epoch [3/10], Loss: 0.5118323564529419\n",
            "Epoch [3/10], Loss: 0.5119659304618835\n",
            "Epoch [3/10], Loss: 0.5121606588363647\n",
            "Epoch [3/10], Loss: 0.5119957327842712\n",
            "Epoch [3/10], Loss: 0.5116112232208252\n",
            "Epoch [3/10], Loss: 0.5113493204116821\n",
            "Epoch [3/10], Loss: 0.5117062330245972\n",
            "Epoch [3/10], Loss: 0.5116289854049683\n",
            "Epoch [3/10], Loss: 0.511569082736969\n",
            "Epoch [3/10], Loss: 0.5116041302680969\n",
            "Epoch [3/10], Loss: 0.5114057660102844\n",
            "Epoch [3/10], Loss: 0.5113739371299744\n",
            "Epoch [3/10], Loss: 0.5114957094192505\n",
            "Epoch [3/10], Loss: 0.5115725994110107\n",
            "Epoch [3/10], Loss: 0.5112718343734741\n",
            "Epoch [3/10], Loss: 0.5114430785179138\n",
            "Epoch [3/10], Loss: 0.5114700794219971\n",
            "Epoch [3/10], Loss: 0.5111612677574158\n",
            "Epoch [3/10], Loss: 0.5111358165740967\n",
            "Epoch [3/10], Loss: 0.5112280249595642\n",
            "Epoch [3/10], Loss: 0.510686457157135\n",
            "Epoch [3/10], Loss: 0.5108426809310913\n",
            "Epoch [3/10], Loss: 0.5109249949455261\n",
            "Epoch [3/10], Loss: 0.5107493996620178\n",
            "Epoch [3/10], Loss: 0.5107868909835815\n",
            "Epoch [3/10], Loss: 0.510714590549469\n",
            "Epoch [3/10], Loss: 0.5107789635658264\n",
            "Epoch [3/10], Loss: 0.5104320049285889\n",
            "Epoch [3/10], Loss: 0.5102909207344055\n",
            "Epoch [3/10], Loss: 0.5105440020561218\n",
            "Epoch [3/10], Loss: 0.5109389424324036\n",
            "Epoch [3/10], Loss: 0.5107371211051941\n",
            "Epoch [3/10], Loss: 0.5105806589126587\n",
            "Epoch [3/10], Loss: 0.511101245880127\n",
            "Epoch [3/10], Loss: 0.510912299156189\n",
            "Epoch [3/10], Loss: 0.5109221339225769\n",
            "Epoch [3/10], Loss: 0.510715126991272\n",
            "Epoch [3/10], Loss: 0.5111709237098694\n",
            "Epoch [3/10], Loss: 0.5114685893058777\n",
            "Epoch [3/10], Loss: 0.5114301443099976\n",
            "Epoch [3/10], Loss: 0.5112902522087097\n",
            "Epoch [3/10], Loss: 0.5110005736351013\n",
            "Epoch [3/10], Loss: 0.5112487077713013\n",
            "Epoch [3/10], Loss: 0.5112354159355164\n",
            "Epoch [3/10], Loss: 0.5112678408622742\n",
            "Epoch [3/10], Loss: 0.511229395866394\n",
            "Epoch [3/10], Loss: 0.5110777020454407\n",
            "Epoch [3/10], Loss: 0.5111728310585022\n",
            "Epoch [3/10], Loss: 0.5113650560379028\n",
            "Epoch [3/10], Loss: 0.5114837288856506\n",
            "Epoch [3/10], Loss: 0.5111860632896423\n",
            "Epoch [3/10], Loss: 0.5108281373977661\n",
            "Epoch [3/10], Loss: 0.5107560753822327\n",
            "Epoch [3/10], Loss: 0.5104061961174011\n",
            "Epoch [3/10], Loss: 0.5111348032951355\n",
            "Epoch [3/10], Loss: 0.5107659101486206\n",
            "Epoch [3/10], Loss: 0.5107974410057068\n",
            "Epoch [3/10], Loss: 0.5108795762062073\n",
            "Epoch [3/10], Loss: 0.5112554430961609\n",
            "Epoch [3/10], Loss: 0.5110937356948853\n",
            "Epoch [3/10], Loss: 0.5108229517936707\n",
            "Epoch [3/10], Loss: 0.5106483101844788\n",
            "Epoch [3/10], Loss: 0.510503351688385\n",
            "Epoch [3/10], Loss: 0.5104942321777344\n",
            "Epoch [3/10], Loss: 0.5106936693191528\n",
            "Epoch [3/10], Loss: 0.5107556581497192\n",
            "Epoch [3/10], Loss: 0.5106224417686462\n",
            "Epoch [3/10], Loss: 0.5110614895820618\n",
            "Epoch [3/10], Loss: 0.5105962157249451\n",
            "Epoch [3/10], Loss: 0.510911226272583\n",
            "Epoch [3/10], Loss: 0.5113726258277893\n",
            "Epoch [3/10], Loss: 0.5111590623855591\n",
            "Epoch [3/10], Loss: 0.5107624530792236\n",
            "Epoch [3/10], Loss: 0.5111991167068481\n",
            "Epoch [3/10], Loss: 0.5116873979568481\n",
            "Epoch [3/10], Loss: 0.5115857720375061\n",
            "Epoch [4/10], Loss: 0.5118473768234253\n",
            "Epoch [4/10], Loss: 0.5115041136741638\n",
            "Epoch [4/10], Loss: 0.5107654333114624\n",
            "Epoch [4/10], Loss: 0.5109770894050598\n",
            "Epoch [4/10], Loss: 0.5112123489379883\n",
            "Epoch [4/10], Loss: 0.5109159350395203\n",
            "Epoch [4/10], Loss: 0.5109438896179199\n",
            "Epoch [4/10], Loss: 0.5105257630348206\n",
            "Epoch [4/10], Loss: 0.5105700492858887\n",
            "Epoch [4/10], Loss: 0.510837972164154\n",
            "Epoch [4/10], Loss: 0.5105627775192261\n",
            "Epoch [4/10], Loss: 0.5102583765983582\n",
            "Epoch [4/10], Loss: 0.5106616020202637\n",
            "Epoch [4/10], Loss: 0.5108189582824707\n",
            "Epoch [4/10], Loss: 0.5110453963279724\n",
            "Epoch [4/10], Loss: 0.5104959607124329\n",
            "Epoch [4/10], Loss: 0.510170578956604\n",
            "Epoch [4/10], Loss: 0.5103651881217957\n",
            "Epoch [4/10], Loss: 0.5104554891586304\n",
            "Epoch [4/10], Loss: 0.5101370215415955\n",
            "Epoch [4/10], Loss: 0.510602593421936\n",
            "Epoch [4/10], Loss: 0.5106950998306274\n",
            "Epoch [4/10], Loss: 0.510808527469635\n",
            "Epoch [4/10], Loss: 0.5108017325401306\n",
            "Epoch [4/10], Loss: 0.5110065340995789\n",
            "Epoch [4/10], Loss: 0.5109754204750061\n",
            "Epoch [4/10], Loss: 0.5109045505523682\n",
            "Epoch [4/10], Loss: 0.5112366080284119\n",
            "Epoch [4/10], Loss: 0.5111744999885559\n",
            "Epoch [4/10], Loss: 0.5107477307319641\n",
            "Epoch [4/10], Loss: 0.5107973217964172\n",
            "Epoch [4/10], Loss: 0.511162281036377\n",
            "Epoch [4/10], Loss: 0.5106698274612427\n",
            "Epoch [4/10], Loss: 0.5102904438972473\n",
            "Epoch [4/10], Loss: 0.5106168985366821\n",
            "Epoch [4/10], Loss: 0.5103930830955505\n",
            "Epoch [4/10], Loss: 0.5104361176490784\n",
            "Epoch [4/10], Loss: 0.5107293725013733\n",
            "Epoch [4/10], Loss: 0.5106105208396912\n",
            "Epoch [4/10], Loss: 0.5106827616691589\n",
            "Epoch [4/10], Loss: 0.5111625790596008\n",
            "Epoch [4/10], Loss: 0.5109607577323914\n",
            "Epoch [4/10], Loss: 0.5106143951416016\n",
            "Epoch [4/10], Loss: 0.5108073353767395\n",
            "Epoch [4/10], Loss: 0.5106534957885742\n",
            "Epoch [4/10], Loss: 0.5106707215309143\n",
            "Epoch [4/10], Loss: 0.5107013583183289\n",
            "Epoch [4/10], Loss: 0.5107008218765259\n",
            "Epoch [4/10], Loss: 0.5111003518104553\n",
            "Epoch [4/10], Loss: 0.5108029842376709\n",
            "Epoch [4/10], Loss: 0.5107767581939697\n",
            "Epoch [4/10], Loss: 0.5113939046859741\n",
            "Epoch [4/10], Loss: 0.5116174221038818\n",
            "Epoch [4/10], Loss: 0.5111090540885925\n",
            "Epoch [4/10], Loss: 0.510472297668457\n",
            "Epoch [4/10], Loss: 0.5106226801872253\n",
            "Epoch [4/10], Loss: 0.5104460120201111\n",
            "Epoch [4/10], Loss: 0.5104866623878479\n",
            "Epoch [4/10], Loss: 0.510511040687561\n",
            "Epoch [4/10], Loss: 0.510188639163971\n",
            "Epoch [4/10], Loss: 0.5104982256889343\n",
            "Epoch [4/10], Loss: 0.5105693936347961\n",
            "Epoch [4/10], Loss: 0.5108901262283325\n",
            "Epoch [4/10], Loss: 0.5106794834136963\n",
            "Epoch [4/10], Loss: 0.5106268525123596\n",
            "Epoch [4/10], Loss: 0.5109989047050476\n",
            "Epoch [4/10], Loss: 0.5110791325569153\n",
            "Epoch [4/10], Loss: 0.5103670954704285\n",
            "Epoch [4/10], Loss: 0.5106165409088135\n",
            "Epoch [4/10], Loss: 0.5105829238891602\n",
            "Epoch [4/10], Loss: 0.5100408792495728\n",
            "Epoch [4/10], Loss: 0.509956955909729\n",
            "Epoch [4/10], Loss: 0.5105299353599548\n",
            "Epoch [4/10], Loss: 0.5107024908065796\n",
            "Epoch [4/10], Loss: 0.5105096697807312\n",
            "Epoch [4/10], Loss: 0.5099876523017883\n",
            "Epoch [4/10], Loss: 0.5100220441818237\n",
            "Epoch [4/10], Loss: 0.5100420117378235\n",
            "Epoch [4/10], Loss: 0.5103185176849365\n",
            "Epoch [4/10], Loss: 0.510432243347168\n",
            "Epoch [4/10], Loss: 0.5101782083511353\n",
            "Epoch [4/10], Loss: 0.5106169581413269\n",
            "Epoch [4/10], Loss: 0.5107783675193787\n",
            "Epoch [4/10], Loss: 0.5105550289154053\n",
            "Epoch [4/10], Loss: 0.5108841061592102\n",
            "Epoch [4/10], Loss: 0.5106138586997986\n",
            "Epoch [4/10], Loss: 0.5103501081466675\n",
            "Epoch [4/10], Loss: 0.5101434588432312\n",
            "Epoch [4/10], Loss: 0.5100235939025879\n",
            "Epoch [4/10], Loss: 0.5100230574607849\n",
            "Epoch [4/10], Loss: 0.5101451277732849\n",
            "Epoch [4/10], Loss: 0.5098462104797363\n",
            "Epoch [4/10], Loss: 0.5097703337669373\n",
            "Epoch [4/10], Loss: 0.5096063613891602\n",
            "Epoch [4/10], Loss: 0.5099835991859436\n",
            "Epoch [4/10], Loss: 0.5097513794898987\n",
            "Epoch [4/10], Loss: 0.510076105594635\n",
            "Epoch [4/10], Loss: 0.5105774402618408\n",
            "Epoch [4/10], Loss: 0.5100793838500977\n",
            "Epoch [4/10], Loss: 0.5104663372039795\n",
            "Epoch [4/10], Loss: 0.5105938911437988\n",
            "Epoch [4/10], Loss: 0.5103111267089844\n",
            "Epoch [4/10], Loss: 0.510051965713501\n",
            "Epoch [4/10], Loss: 0.5099310874938965\n",
            "Epoch [4/10], Loss: 0.5094634294509888\n",
            "Epoch [4/10], Loss: 0.5098715424537659\n",
            "Epoch [4/10], Loss: 0.5100653767585754\n",
            "Epoch [4/10], Loss: 0.5095669627189636\n",
            "Epoch [4/10], Loss: 0.5099076628684998\n",
            "Epoch [4/10], Loss: 0.5095036029815674\n",
            "Epoch [4/10], Loss: 0.5098180770874023\n",
            "Epoch [4/10], Loss: 0.5104337334632874\n",
            "Epoch [4/10], Loss: 0.5099773406982422\n",
            "Epoch [4/10], Loss: 0.50993412733078\n",
            "Epoch [4/10], Loss: 0.5101504921913147\n",
            "Epoch [4/10], Loss: 0.509975790977478\n",
            "Epoch [4/10], Loss: 0.5098991990089417\n",
            "Epoch [4/10], Loss: 0.5100888013839722\n",
            "Epoch [4/10], Loss: 0.510060727596283\n",
            "Epoch [4/10], Loss: 0.5101298689842224\n",
            "Epoch [4/10], Loss: 0.5099144577980042\n",
            "Epoch [4/10], Loss: 0.5101133584976196\n",
            "Epoch [4/10], Loss: 0.5101814866065979\n",
            "Epoch [4/10], Loss: 0.5103002786636353\n",
            "Epoch [4/10], Loss: 0.5097405910491943\n",
            "Epoch [4/10], Loss: 0.509707510471344\n",
            "Epoch [4/10], Loss: 0.5099242925643921\n",
            "Epoch [4/10], Loss: 0.5100898742675781\n",
            "Epoch [4/10], Loss: 0.5099936127662659\n",
            "Epoch [4/10], Loss: 0.5102240443229675\n",
            "Epoch [4/10], Loss: 0.5103000402450562\n",
            "Epoch [4/10], Loss: 0.5098537802696228\n",
            "Epoch [4/10], Loss: 0.5096491575241089\n",
            "Epoch [4/10], Loss: 0.5096858143806458\n",
            "Epoch [4/10], Loss: 0.5101350545883179\n",
            "Epoch [4/10], Loss: 0.5098409056663513\n",
            "Epoch [4/10], Loss: 0.5100336670875549\n",
            "Epoch [4/10], Loss: 0.5096867680549622\n",
            "Epoch [4/10], Loss: 0.509550154209137\n",
            "Epoch [4/10], Loss: 0.5099707245826721\n",
            "Epoch [4/10], Loss: 0.5096076726913452\n",
            "Epoch [4/10], Loss: 0.5097474455833435\n",
            "Epoch [4/10], Loss: 0.5099157691001892\n",
            "Epoch [4/10], Loss: 0.5095443725585938\n",
            "Epoch [4/10], Loss: 0.509640097618103\n",
            "Epoch [4/10], Loss: 0.5098820924758911\n",
            "Epoch [4/10], Loss: 0.5094419121742249\n",
            "Epoch [4/10], Loss: 0.5095542669296265\n",
            "Epoch [4/10], Loss: 0.5094592571258545\n",
            "Epoch [4/10], Loss: 0.509564220905304\n",
            "Epoch [4/10], Loss: 0.5095243453979492\n",
            "Epoch [4/10], Loss: 0.5096242427825928\n",
            "Epoch [4/10], Loss: 0.5097547173500061\n",
            "Epoch [4/10], Loss: 0.5099055171012878\n",
            "Epoch [4/10], Loss: 0.5100975632667542\n",
            "Epoch [4/10], Loss: 0.510133683681488\n",
            "Epoch [4/10], Loss: 0.5102366209030151\n",
            "Epoch [4/10], Loss: 0.5099827647209167\n",
            "Epoch [4/10], Loss: 0.509859025478363\n",
            "Epoch [4/10], Loss: 0.5099944472312927\n",
            "Epoch [4/10], Loss: 0.5098520517349243\n",
            "Epoch [4/10], Loss: 0.5094506740570068\n",
            "Epoch [4/10], Loss: 0.5094552040100098\n",
            "Epoch [4/10], Loss: 0.5095421075820923\n",
            "Epoch [4/10], Loss: 0.510306179523468\n",
            "Epoch [4/10], Loss: 0.5097962021827698\n",
            "Epoch [4/10], Loss: 0.51019287109375\n",
            "Epoch [4/10], Loss: 0.5097452402114868\n",
            "Epoch [4/10], Loss: 0.51004958152771\n",
            "Epoch [4/10], Loss: 0.5100658535957336\n",
            "Epoch [4/10], Loss: 0.510078489780426\n",
            "Epoch [4/10], Loss: 0.509608805179596\n",
            "Epoch [4/10], Loss: 0.5101088285446167\n",
            "Epoch [4/10], Loss: 0.5099474787712097\n",
            "Epoch [4/10], Loss: 0.5096688866615295\n",
            "Epoch [4/10], Loss: 0.5101031064987183\n",
            "Epoch [4/10], Loss: 0.5102744102478027\n",
            "Epoch [4/10], Loss: 0.5097343325614929\n",
            "Epoch [4/10], Loss: 0.5098803639411926\n",
            "Epoch [4/10], Loss: 0.5097077488899231\n",
            "Epoch [4/10], Loss: 0.5103101134300232\n",
            "Epoch [4/10], Loss: 0.5100043416023254\n",
            "Epoch [4/10], Loss: 0.5101163387298584\n",
            "Epoch [4/10], Loss: 0.5094762444496155\n",
            "Epoch [4/10], Loss: 0.5096544027328491\n",
            "Epoch [4/10], Loss: 0.51004958152771\n",
            "Epoch [4/10], Loss: 0.5097377300262451\n",
            "Epoch [4/10], Loss: 0.5097118020057678\n",
            "Epoch [4/10], Loss: 0.5103984475135803\n",
            "Epoch [4/10], Loss: 0.5102144479751587\n",
            "Epoch [4/10], Loss: 0.5097436904907227\n",
            "Epoch [4/10], Loss: 0.5098598003387451\n",
            "Epoch [4/10], Loss: 0.5097947716712952\n",
            "Epoch [4/10], Loss: 0.5101613402366638\n",
            "Epoch [4/10], Loss: 0.5100992321968079\n",
            "Epoch [4/10], Loss: 0.5099472403526306\n",
            "Epoch [4/10], Loss: 0.5098344683647156\n",
            "Epoch [4/10], Loss: 0.50993812084198\n",
            "Epoch [4/10], Loss: 0.5103705525398254\n",
            "Epoch [4/10], Loss: 0.5104250311851501\n",
            "Epoch [4/10], Loss: 0.5108962059020996\n",
            "Epoch [4/10], Loss: 0.510479211807251\n",
            "Epoch [4/10], Loss: 0.5104126334190369\n",
            "Epoch [4/10], Loss: 0.5103729367256165\n",
            "Epoch [4/10], Loss: 0.510220468044281\n",
            "Epoch [4/10], Loss: 0.5104968547821045\n",
            "Epoch [4/10], Loss: 0.5101655721664429\n",
            "Epoch [4/10], Loss: 0.5098229050636292\n",
            "Epoch [5/10], Loss: 0.5101503729820251\n",
            "Epoch [5/10], Loss: 0.5098192691802979\n",
            "Epoch [5/10], Loss: 0.5092441439628601\n",
            "Epoch [5/10], Loss: 0.5093119144439697\n",
            "Epoch [5/10], Loss: 0.5093408823013306\n",
            "Epoch [5/10], Loss: 0.5096455216407776\n",
            "Epoch [5/10], Loss: 0.5096129775047302\n",
            "Epoch [5/10], Loss: 0.5097232460975647\n",
            "Epoch [5/10], Loss: 0.5095332860946655\n",
            "Epoch [5/10], Loss: 0.5095978379249573\n",
            "Epoch [5/10], Loss: 0.5100924968719482\n",
            "Epoch [5/10], Loss: 0.5097412467002869\n",
            "Epoch [5/10], Loss: 0.5094602704048157\n",
            "Epoch [5/10], Loss: 0.509698748588562\n",
            "Epoch [5/10], Loss: 0.5099961161613464\n",
            "Epoch [5/10], Loss: 0.5099431276321411\n",
            "Epoch [5/10], Loss: 0.5101979374885559\n",
            "Epoch [5/10], Loss: 0.5099219679832458\n",
            "Epoch [5/10], Loss: 0.5093411803245544\n",
            "Epoch [5/10], Loss: 0.5096302032470703\n",
            "Epoch [5/10], Loss: 0.509859025478363\n",
            "Epoch [5/10], Loss: 0.5097716450691223\n",
            "Epoch [5/10], Loss: 0.5097953081130981\n",
            "Epoch [5/10], Loss: 0.5097460746765137\n",
            "Epoch [5/10], Loss: 0.5098690390586853\n",
            "Epoch [5/10], Loss: 0.5099930763244629\n",
            "Epoch [5/10], Loss: 0.5100399255752563\n",
            "Epoch [5/10], Loss: 0.5098789930343628\n",
            "Epoch [5/10], Loss: 0.5093934535980225\n",
            "Epoch [5/10], Loss: 0.5096478462219238\n",
            "Epoch [5/10], Loss: 0.5101388692855835\n",
            "Epoch [5/10], Loss: 0.5095212459564209\n",
            "Epoch [5/10], Loss: 0.5098854303359985\n",
            "Epoch [5/10], Loss: 0.510365903377533\n",
            "Epoch [5/10], Loss: 0.5099520087242126\n",
            "Epoch [5/10], Loss: 0.5095379948616028\n",
            "Epoch [5/10], Loss: 0.509668231010437\n",
            "Epoch [5/10], Loss: 0.5095025300979614\n",
            "Epoch [5/10], Loss: 0.5095787048339844\n",
            "Epoch [5/10], Loss: 0.5097916722297668\n",
            "Epoch [5/10], Loss: 0.5100502371788025\n",
            "Epoch [5/10], Loss: 0.5100468397140503\n",
            "Epoch [5/10], Loss: 0.5097428560256958\n",
            "Epoch [5/10], Loss: 0.5098919868469238\n",
            "Epoch [5/10], Loss: 0.5096321105957031\n",
            "Epoch [5/10], Loss: 0.5097724199295044\n",
            "Epoch [5/10], Loss: 0.5097439289093018\n",
            "Epoch [5/10], Loss: 0.5099440217018127\n",
            "Epoch [5/10], Loss: 0.5096202492713928\n",
            "Epoch [5/10], Loss: 0.5093886852264404\n",
            "Epoch [5/10], Loss: 0.5096375346183777\n",
            "Epoch [5/10], Loss: 0.5098488330841064\n",
            "Epoch [5/10], Loss: 0.5102850198745728\n",
            "Epoch [5/10], Loss: 0.5101109743118286\n",
            "Epoch [5/10], Loss: 0.5097252130508423\n",
            "Epoch [5/10], Loss: 0.5095353722572327\n",
            "Epoch [5/10], Loss: 0.5093255639076233\n",
            "Epoch [5/10], Loss: 0.5093492269515991\n",
            "Epoch [5/10], Loss: 0.5096660256385803\n",
            "Epoch [5/10], Loss: 0.5098187327384949\n",
            "Epoch [5/10], Loss: 0.5096412301063538\n",
            "Epoch [5/10], Loss: 0.5091981887817383\n",
            "Epoch [5/10], Loss: 0.5095241069793701\n",
            "Epoch [5/10], Loss: 0.5098344683647156\n",
            "Epoch [5/10], Loss: 0.509425163269043\n",
            "Epoch [5/10], Loss: 0.509468674659729\n",
            "Epoch [5/10], Loss: 0.5089455842971802\n",
            "Epoch [5/10], Loss: 0.5090111494064331\n",
            "Epoch [5/10], Loss: 0.5093969106674194\n",
            "Epoch [5/10], Loss: 0.5090509057044983\n",
            "Epoch [5/10], Loss: 0.5091599822044373\n",
            "Epoch [5/10], Loss: 0.5091904997825623\n",
            "Epoch [5/10], Loss: 0.509146511554718\n",
            "Epoch [5/10], Loss: 0.5089837312698364\n",
            "Epoch [5/10], Loss: 0.5088828802108765\n",
            "Epoch [5/10], Loss: 0.5091168284416199\n",
            "Epoch [5/10], Loss: 0.5090771913528442\n",
            "Epoch [5/10], Loss: 0.5088048577308655\n",
            "Epoch [5/10], Loss: 0.5092906355857849\n",
            "Epoch [5/10], Loss: 0.5094820261001587\n",
            "Epoch [5/10], Loss: 0.5096015334129333\n",
            "Epoch [5/10], Loss: 0.5095722675323486\n",
            "Epoch [5/10], Loss: 0.5094712972640991\n",
            "Epoch [5/10], Loss: 0.509433925151825\n",
            "Epoch [5/10], Loss: 0.5095022916793823\n",
            "Epoch [5/10], Loss: 0.5092135667800903\n",
            "Epoch [5/10], Loss: 0.5095375776290894\n",
            "Epoch [5/10], Loss: 0.5091949701309204\n",
            "Epoch [5/10], Loss: 0.5091924667358398\n",
            "Epoch [5/10], Loss: 0.5091760754585266\n",
            "Epoch [5/10], Loss: 0.5093280076980591\n",
            "Epoch [5/10], Loss: 0.509470522403717\n",
            "Epoch [5/10], Loss: 0.5099422931671143\n",
            "Epoch [5/10], Loss: 0.5097430348396301\n",
            "Epoch [5/10], Loss: 0.5096783638000488\n",
            "Epoch [5/10], Loss: 0.509390115737915\n",
            "Epoch [5/10], Loss: 0.5096203088760376\n",
            "Epoch [5/10], Loss: 0.5093179941177368\n",
            "Epoch [5/10], Loss: 0.5101291537284851\n",
            "Epoch [5/10], Loss: 0.5099565982818604\n",
            "Epoch [5/10], Loss: 0.5092793107032776\n",
            "Epoch [5/10], Loss: 0.5097399353981018\n",
            "Epoch [5/10], Loss: 0.5092663168907166\n",
            "Epoch [5/10], Loss: 0.5092487931251526\n",
            "Epoch [5/10], Loss: 0.5089808702468872\n",
            "Epoch [5/10], Loss: 0.5087609887123108\n",
            "Epoch [5/10], Loss: 0.5090229511260986\n",
            "Epoch [5/10], Loss: 0.5091496109962463\n",
            "Epoch [5/10], Loss: 0.5091135501861572\n",
            "Epoch [5/10], Loss: 0.509400486946106\n",
            "Epoch [5/10], Loss: 0.509233832359314\n",
            "Epoch [5/10], Loss: 0.5093039274215698\n",
            "Epoch [5/10], Loss: 0.5093309283256531\n",
            "Epoch [5/10], Loss: 0.5090914368629456\n",
            "Epoch [5/10], Loss: 0.5091108679771423\n",
            "Epoch [5/10], Loss: 0.5096065402030945\n",
            "Epoch [5/10], Loss: 0.5090703368186951\n",
            "Epoch [5/10], Loss: 0.5092717409133911\n",
            "Epoch [5/10], Loss: 0.5095013380050659\n",
            "Epoch [5/10], Loss: 0.5088626146316528\n",
            "Epoch [5/10], Loss: 0.5088286399841309\n",
            "Epoch [5/10], Loss: 0.5093017816543579\n",
            "Epoch [5/10], Loss: 0.509282648563385\n",
            "Epoch [5/10], Loss: 0.5095075964927673\n",
            "Epoch [5/10], Loss: 0.5093990564346313\n",
            "Epoch [5/10], Loss: 0.5091641545295715\n",
            "Epoch [5/10], Loss: 0.509326159954071\n",
            "Epoch [5/10], Loss: 0.5088715553283691\n",
            "Epoch [5/10], Loss: 0.5093014240264893\n",
            "Epoch [5/10], Loss: 0.5095747113227844\n",
            "Epoch [5/10], Loss: 0.5093435645103455\n",
            "Epoch [5/10], Loss: 0.5094032883644104\n",
            "Epoch [5/10], Loss: 0.5089441537857056\n",
            "Epoch [5/10], Loss: 0.5093399882316589\n",
            "Epoch [5/10], Loss: 0.5091722011566162\n",
            "Epoch [5/10], Loss: 0.5089741349220276\n",
            "Epoch [5/10], Loss: 0.5097982883453369\n",
            "Epoch [5/10], Loss: 0.5094115734100342\n",
            "Epoch [5/10], Loss: 0.5095400810241699\n",
            "Epoch [5/10], Loss: 0.5092427730560303\n",
            "Epoch [5/10], Loss: 0.509285569190979\n",
            "Epoch [5/10], Loss: 0.5092790126800537\n",
            "Epoch [5/10], Loss: 0.5095628499984741\n",
            "Epoch [5/10], Loss: 0.5097976922988892\n",
            "Epoch [5/10], Loss: 0.5093612670898438\n",
            "Epoch [5/10], Loss: 0.5092006325721741\n",
            "Epoch [5/10], Loss: 0.5091236233711243\n",
            "Epoch [5/10], Loss: 0.5094607472419739\n",
            "Epoch [5/10], Loss: 0.5094756484031677\n",
            "Epoch [5/10], Loss: 0.5094860196113586\n",
            "Epoch [5/10], Loss: 0.5091708302497864\n",
            "Epoch [5/10], Loss: 0.5094257593154907\n",
            "Epoch [5/10], Loss: 0.5092280507087708\n",
            "Epoch [5/10], Loss: 0.5090776681900024\n",
            "Epoch [5/10], Loss: 0.509071409702301\n",
            "Epoch [5/10], Loss: 0.5094185471534729\n",
            "Epoch [5/10], Loss: 0.5092325210571289\n",
            "Epoch [5/10], Loss: 0.5089187622070312\n",
            "Epoch [5/10], Loss: 0.5088368058204651\n",
            "Epoch [5/10], Loss: 0.5087852478027344\n",
            "Epoch [5/10], Loss: 0.5087921023368835\n",
            "Epoch [5/10], Loss: 0.5083107948303223\n",
            "Epoch [5/10], Loss: 0.5083987712860107\n",
            "Epoch [5/10], Loss: 0.5085540413856506\n",
            "Epoch [5/10], Loss: 0.5087912082672119\n",
            "Epoch [5/10], Loss: 0.5089704394340515\n",
            "Epoch [5/10], Loss: 0.5091385841369629\n",
            "Epoch [5/10], Loss: 0.5087698698043823\n",
            "Epoch [5/10], Loss: 0.5087912082672119\n",
            "Epoch [5/10], Loss: 0.5087457895278931\n",
            "Epoch [5/10], Loss: 0.5087431073188782\n",
            "Epoch [5/10], Loss: 0.5087785720825195\n",
            "Epoch [5/10], Loss: 0.5088598132133484\n",
            "Epoch [5/10], Loss: 0.5086731910705566\n",
            "Epoch [5/10], Loss: 0.5084190368652344\n",
            "Epoch [5/10], Loss: 0.5087445378303528\n",
            "Epoch [5/10], Loss: 0.5090821385383606\n",
            "Epoch [5/10], Loss: 0.5087102651596069\n",
            "Epoch [5/10], Loss: 0.5089308619499207\n",
            "Epoch [5/10], Loss: 0.5088461637496948\n",
            "Epoch [5/10], Loss: 0.5088657140731812\n",
            "Epoch [5/10], Loss: 0.5089768767356873\n",
            "Epoch [5/10], Loss: 0.5089425444602966\n",
            "Epoch [5/10], Loss: 0.5087248086929321\n",
            "Epoch [5/10], Loss: 0.5090354681015015\n",
            "Epoch [5/10], Loss: 0.5087070465087891\n",
            "Epoch [5/10], Loss: 0.5086652636528015\n",
            "Epoch [5/10], Loss: 0.5085688233375549\n",
            "Epoch [5/10], Loss: 0.508703887462616\n",
            "Epoch [5/10], Loss: 0.5083312392234802\n",
            "Epoch [5/10], Loss: 0.5086170434951782\n",
            "Epoch [5/10], Loss: 0.5088407397270203\n",
            "Epoch [5/10], Loss: 0.5090456008911133\n",
            "Epoch [5/10], Loss: 0.5090150833129883\n",
            "Epoch [5/10], Loss: 0.5087141394615173\n",
            "Epoch [5/10], Loss: 0.5088293552398682\n",
            "Epoch [5/10], Loss: 0.5088828206062317\n",
            "Epoch [5/10], Loss: 0.5090108513832092\n",
            "Epoch [5/10], Loss: 0.5084455609321594\n",
            "Epoch [5/10], Loss: 0.5091255307197571\n",
            "Epoch [5/10], Loss: 0.5086627006530762\n",
            "Epoch [5/10], Loss: 0.5090912580490112\n",
            "Epoch [5/10], Loss: 0.5089491009712219\n",
            "Epoch [5/10], Loss: 0.508846640586853\n",
            "Epoch [5/10], Loss: 0.5089872479438782\n",
            "Epoch [5/10], Loss: 0.5088144540786743\n",
            "Epoch [5/10], Loss: 0.5086763501167297\n",
            "Epoch [5/10], Loss: 0.5085697174072266\n",
            "Epoch [6/10], Loss: 0.5082396864891052\n",
            "Epoch [6/10], Loss: 0.5083662271499634\n",
            "Epoch [6/10], Loss: 0.5086321234703064\n",
            "Epoch [6/10], Loss: 0.508613109588623\n",
            "Epoch [6/10], Loss: 0.5086353421211243\n",
            "Epoch [6/10], Loss: 0.5084747076034546\n",
            "Epoch [6/10], Loss: 0.5086711645126343\n",
            "Epoch [6/10], Loss: 0.5088685154914856\n",
            "Epoch [6/10], Loss: 0.5088250637054443\n",
            "Epoch [6/10], Loss: 0.5088644027709961\n",
            "Epoch [6/10], Loss: 0.5086197257041931\n",
            "Epoch [6/10], Loss: 0.5085485577583313\n",
            "Epoch [6/10], Loss: 0.5088435411453247\n",
            "Epoch [6/10], Loss: 0.5089377164840698\n",
            "Epoch [6/10], Loss: 0.5091977119445801\n",
            "Epoch [6/10], Loss: 0.5090727210044861\n",
            "Epoch [6/10], Loss: 0.5087319612503052\n",
            "Epoch [6/10], Loss: 0.5090500712394714\n",
            "Epoch [6/10], Loss: 0.5086308121681213\n",
            "Epoch [6/10], Loss: 0.5085622668266296\n",
            "Epoch [6/10], Loss: 0.5086212754249573\n",
            "Epoch [6/10], Loss: 0.5085865259170532\n",
            "Epoch [6/10], Loss: 0.5085405111312866\n",
            "Epoch [6/10], Loss: 0.5089254975318909\n",
            "Epoch [6/10], Loss: 0.5085456967353821\n",
            "Epoch [6/10], Loss: 0.5086314678192139\n",
            "Epoch [6/10], Loss: 0.5088810920715332\n",
            "Epoch [6/10], Loss: 0.5088774561882019\n",
            "Epoch [6/10], Loss: 0.5085476636886597\n",
            "Epoch [6/10], Loss: 0.5084260702133179\n",
            "Epoch [6/10], Loss: 0.5084254741668701\n",
            "Epoch [6/10], Loss: 0.5083362460136414\n",
            "Epoch [6/10], Loss: 0.5089690685272217\n",
            "Epoch [6/10], Loss: 0.5090803503990173\n",
            "Epoch [6/10], Loss: 0.5089782476425171\n",
            "Epoch [6/10], Loss: 0.5085926055908203\n",
            "Epoch [6/10], Loss: 0.5084565281867981\n",
            "Epoch [6/10], Loss: 0.5087952017784119\n",
            "Epoch [6/10], Loss: 0.5087335109710693\n",
            "Epoch [6/10], Loss: 0.5090138912200928\n",
            "Epoch [6/10], Loss: 0.5088909864425659\n",
            "Epoch [6/10], Loss: 0.5088021159172058\n",
            "Epoch [6/10], Loss: 0.5090955495834351\n",
            "Epoch [6/10], Loss: 0.5089530348777771\n",
            "Epoch [6/10], Loss: 0.5089340806007385\n",
            "Epoch [6/10], Loss: 0.5088905692100525\n",
            "Epoch [6/10], Loss: 0.5089213252067566\n",
            "Epoch [6/10], Loss: 0.5092046856880188\n",
            "Epoch [6/10], Loss: 0.5091027021408081\n",
            "Epoch [6/10], Loss: 0.5090605616569519\n",
            "Epoch [6/10], Loss: 0.5089225172996521\n",
            "Epoch [6/10], Loss: 0.5088355541229248\n",
            "Epoch [6/10], Loss: 0.5087084770202637\n",
            "Epoch [6/10], Loss: 0.508503794670105\n",
            "Epoch [6/10], Loss: 0.508660078048706\n",
            "Epoch [6/10], Loss: 0.5085892677307129\n",
            "Epoch [6/10], Loss: 0.5086597204208374\n",
            "Epoch [6/10], Loss: 0.5090139508247375\n",
            "Epoch [6/10], Loss: 0.5089070796966553\n",
            "Epoch [6/10], Loss: 0.5084659457206726\n",
            "Epoch [6/10], Loss: 0.5083193778991699\n",
            "Epoch [6/10], Loss: 0.5081601738929749\n",
            "Epoch [6/10], Loss: 0.5082634687423706\n",
            "Epoch [6/10], Loss: 0.507976233959198\n",
            "Epoch [6/10], Loss: 0.5083168745040894\n",
            "Epoch [6/10], Loss: 0.5086004734039307\n",
            "Epoch [6/10], Loss: 0.5084877014160156\n",
            "Epoch [6/10], Loss: 0.5083554983139038\n",
            "Epoch [6/10], Loss: 0.5085048079490662\n",
            "Epoch [6/10], Loss: 0.5083832740783691\n",
            "Epoch [6/10], Loss: 0.5085161924362183\n",
            "Epoch [6/10], Loss: 0.5086436867713928\n",
            "Epoch [6/10], Loss: 0.5083978772163391\n",
            "Epoch [6/10], Loss: 0.508837103843689\n",
            "Epoch [6/10], Loss: 0.5090042948722839\n",
            "Epoch [6/10], Loss: 0.5092028379440308\n",
            "Epoch [6/10], Loss: 0.5086604356765747\n",
            "Epoch [6/10], Loss: 0.5090042948722839\n",
            "Epoch [6/10], Loss: 0.5087488293647766\n",
            "Epoch [6/10], Loss: 0.5088598132133484\n",
            "Epoch [6/10], Loss: 0.5093162655830383\n",
            "Epoch [6/10], Loss: 0.5089011788368225\n",
            "Epoch [6/10], Loss: 0.5090948939323425\n",
            "Epoch [6/10], Loss: 0.5090121030807495\n",
            "Epoch [6/10], Loss: 0.5089319348335266\n",
            "Epoch [6/10], Loss: 0.5084064602851868\n",
            "Epoch [6/10], Loss: 0.5083295702934265\n",
            "Epoch [6/10], Loss: 0.5088537931442261\n",
            "Epoch [6/10], Loss: 0.5089619755744934\n",
            "Epoch [6/10], Loss: 0.5091428756713867\n",
            "Epoch [6/10], Loss: 0.508761465549469\n",
            "Epoch [6/10], Loss: 0.5088387131690979\n",
            "Epoch [6/10], Loss: 0.5086853504180908\n",
            "Epoch [6/10], Loss: 0.50858473777771\n",
            "Epoch [6/10], Loss: 0.508882999420166\n",
            "Epoch [6/10], Loss: 0.5085790157318115\n",
            "Epoch [6/10], Loss: 0.5085262060165405\n",
            "Epoch [6/10], Loss: 0.5082748532295227\n",
            "Epoch [6/10], Loss: 0.5088156461715698\n",
            "Epoch [6/10], Loss: 0.5084864497184753\n",
            "Epoch [6/10], Loss: 0.5089756846427917\n",
            "Epoch [6/10], Loss: 0.508661150932312\n",
            "Epoch [6/10], Loss: 0.5086139440536499\n",
            "Epoch [6/10], Loss: 0.508499801158905\n",
            "Epoch [6/10], Loss: 0.5087482333183289\n",
            "Epoch [6/10], Loss: 0.5089172124862671\n",
            "Epoch [6/10], Loss: 0.5086636543273926\n",
            "Epoch [6/10], Loss: 0.5084483623504639\n",
            "Epoch [6/10], Loss: 0.508695125579834\n",
            "Epoch [6/10], Loss: 0.5085039138793945\n",
            "Epoch [6/10], Loss: 0.5086176991462708\n",
            "Epoch [6/10], Loss: 0.5086938738822937\n",
            "Epoch [6/10], Loss: 0.5087411999702454\n",
            "Epoch [6/10], Loss: 0.5089534521102905\n",
            "Epoch [6/10], Loss: 0.5090644955635071\n",
            "Epoch [6/10], Loss: 0.5092058181762695\n",
            "Epoch [6/10], Loss: 0.509136974811554\n",
            "Epoch [6/10], Loss: 0.5094369649887085\n",
            "Epoch [6/10], Loss: 0.5090907216072083\n",
            "Epoch [6/10], Loss: 0.5089893341064453\n",
            "Epoch [6/10], Loss: 0.5090083479881287\n",
            "Epoch [6/10], Loss: 0.508594810962677\n",
            "Epoch [6/10], Loss: 0.508844256401062\n",
            "Epoch [6/10], Loss: 0.5089585781097412\n",
            "Epoch [6/10], Loss: 0.5088968873023987\n",
            "Epoch [6/10], Loss: 0.5085767507553101\n",
            "Epoch [6/10], Loss: 0.508675217628479\n",
            "Epoch [6/10], Loss: 0.5084887146949768\n",
            "Epoch [6/10], Loss: 0.5088308453559875\n",
            "Epoch [6/10], Loss: 0.5087041854858398\n",
            "Epoch [6/10], Loss: 0.5087766051292419\n",
            "Epoch [6/10], Loss: 0.5085930824279785\n",
            "Epoch [6/10], Loss: 0.5083239078521729\n",
            "Epoch [6/10], Loss: 0.5082655549049377\n",
            "Epoch [6/10], Loss: 0.5083111524581909\n",
            "Epoch [6/10], Loss: 0.5083876848220825\n",
            "Epoch [6/10], Loss: 0.5080481767654419\n",
            "Epoch [6/10], Loss: 0.507847249507904\n",
            "Epoch [6/10], Loss: 0.5079220533370972\n",
            "Epoch [6/10], Loss: 0.5083363056182861\n",
            "Epoch [6/10], Loss: 0.5083878040313721\n",
            "Epoch [6/10], Loss: 0.5084717869758606\n",
            "Epoch [6/10], Loss: 0.5083593130111694\n",
            "Epoch [6/10], Loss: 0.5085121393203735\n",
            "Epoch [6/10], Loss: 0.5083217620849609\n",
            "Epoch [6/10], Loss: 0.5080281496047974\n",
            "Epoch [6/10], Loss: 0.5078896880149841\n",
            "Epoch [6/10], Loss: 0.507993221282959\n",
            "Epoch [6/10], Loss: 0.5081987977027893\n",
            "Epoch [6/10], Loss: 0.5081907510757446\n",
            "Epoch [6/10], Loss: 0.5083386301994324\n",
            "Epoch [6/10], Loss: 0.5084825158119202\n",
            "Epoch [6/10], Loss: 0.5085837244987488\n",
            "Epoch [6/10], Loss: 0.5083582997322083\n",
            "Epoch [6/10], Loss: 0.508367121219635\n",
            "Epoch [6/10], Loss: 0.5079828500747681\n",
            "Epoch [6/10], Loss: 0.5083019733428955\n",
            "Epoch [6/10], Loss: 0.5083248019218445\n",
            "Epoch [6/10], Loss: 0.5078763961791992\n",
            "Epoch [6/10], Loss: 0.5082063674926758\n",
            "Epoch [6/10], Loss: 0.5083933472633362\n",
            "Epoch [6/10], Loss: 0.5084930658340454\n",
            "Epoch [6/10], Loss: 0.508197009563446\n",
            "Epoch [6/10], Loss: 0.5084534883499146\n",
            "Epoch [6/10], Loss: 0.5083815455436707\n",
            "Epoch [6/10], Loss: 0.5081642270088196\n",
            "Epoch [6/10], Loss: 0.5082693696022034\n",
            "Epoch [6/10], Loss: 0.5082060098648071\n",
            "Epoch [6/10], Loss: 0.5080973505973816\n",
            "Epoch [6/10], Loss: 0.5078016519546509\n",
            "Epoch [6/10], Loss: 0.5078507661819458\n",
            "Epoch [6/10], Loss: 0.5077772736549377\n",
            "Epoch [6/10], Loss: 0.5082237720489502\n",
            "Epoch [6/10], Loss: 0.508027195930481\n",
            "Epoch [6/10], Loss: 0.508419930934906\n",
            "Epoch [6/10], Loss: 0.5085994005203247\n",
            "Epoch [6/10], Loss: 0.508406937122345\n",
            "Epoch [6/10], Loss: 0.5081070065498352\n",
            "Epoch [6/10], Loss: 0.5081526637077332\n",
            "Epoch [6/10], Loss: 0.5084229707717896\n",
            "Epoch [6/10], Loss: 0.508614718914032\n",
            "Epoch [6/10], Loss: 0.5086374282836914\n",
            "Epoch [6/10], Loss: 0.5086307525634766\n",
            "Epoch [6/10], Loss: 0.508144199848175\n",
            "Epoch [6/10], Loss: 0.5084318518638611\n",
            "Epoch [6/10], Loss: 0.5083816647529602\n",
            "Epoch [6/10], Loss: 0.5081154108047485\n",
            "Epoch [6/10], Loss: 0.5083783864974976\n",
            "Epoch [6/10], Loss: 0.5086301565170288\n",
            "Epoch [6/10], Loss: 0.508485734462738\n",
            "Epoch [6/10], Loss: 0.5081807374954224\n",
            "Epoch [6/10], Loss: 0.5085225701332092\n",
            "Epoch [6/10], Loss: 0.5085510611534119\n",
            "Epoch [6/10], Loss: 0.5085212588310242\n",
            "Epoch [6/10], Loss: 0.5082902908325195\n",
            "Epoch [6/10], Loss: 0.5084686875343323\n",
            "Epoch [6/10], Loss: 0.508704423904419\n",
            "Epoch [6/10], Loss: 0.5085996389389038\n",
            "Epoch [6/10], Loss: 0.5088430047035217\n",
            "Epoch [6/10], Loss: 0.5090974569320679\n",
            "Epoch [6/10], Loss: 0.5086735486984253\n",
            "Epoch [6/10], Loss: 0.5085705518722534\n",
            "Epoch [6/10], Loss: 0.5086255669593811\n",
            "Epoch [6/10], Loss: 0.508595883846283\n",
            "Epoch [6/10], Loss: 0.5087261199951172\n",
            "Epoch [6/10], Loss: 0.5086023211479187\n",
            "Epoch [6/10], Loss: 0.5088834166526794\n",
            "Epoch [6/10], Loss: 0.5087923407554626\n",
            "Epoch [7/10], Loss: 0.5086144208908081\n",
            "Epoch [7/10], Loss: 0.5084285736083984\n",
            "Epoch [7/10], Loss: 0.5084241628646851\n",
            "Epoch [7/10], Loss: 0.5084556937217712\n",
            "Epoch [7/10], Loss: 0.5080915689468384\n",
            "Epoch [7/10], Loss: 0.5083673596382141\n",
            "Epoch [7/10], Loss: 0.508636474609375\n",
            "Epoch [7/10], Loss: 0.5079545974731445\n",
            "Epoch [7/10], Loss: 0.508533775806427\n",
            "Epoch [7/10], Loss: 0.5084062218666077\n",
            "Epoch [7/10], Loss: 0.5084893703460693\n",
            "Epoch [7/10], Loss: 0.5083264112472534\n",
            "Epoch [7/10], Loss: 0.5087051391601562\n",
            "Epoch [7/10], Loss: 0.5083312392234802\n",
            "Epoch [7/10], Loss: 0.5085729956626892\n",
            "Epoch [7/10], Loss: 0.5087193250656128\n",
            "Epoch [7/10], Loss: 0.5084288120269775\n",
            "Epoch [7/10], Loss: 0.5083866119384766\n",
            "Epoch [7/10], Loss: 0.5082971453666687\n",
            "Epoch [7/10], Loss: 0.5082035660743713\n",
            "Epoch [7/10], Loss: 0.5078738331794739\n",
            "Epoch [7/10], Loss: 0.5079729557037354\n",
            "Epoch [7/10], Loss: 0.5080693960189819\n",
            "Epoch [7/10], Loss: 0.5083819627761841\n",
            "Epoch [7/10], Loss: 0.5082516670227051\n",
            "Epoch [7/10], Loss: 0.5082063674926758\n",
            "Epoch [7/10], Loss: 0.5081313252449036\n",
            "Epoch [7/10], Loss: 0.5081748962402344\n",
            "Epoch [7/10], Loss: 0.508133053779602\n",
            "Epoch [7/10], Loss: 0.5083885788917542\n",
            "Epoch [7/10], Loss: 0.5087809562683105\n",
            "Epoch [7/10], Loss: 0.5084657073020935\n",
            "Epoch [7/10], Loss: 0.50874924659729\n",
            "Epoch [7/10], Loss: 0.5084595680236816\n",
            "Epoch [7/10], Loss: 0.508488118648529\n",
            "Epoch [7/10], Loss: 0.5083547830581665\n",
            "Epoch [7/10], Loss: 0.5076952576637268\n",
            "Epoch [7/10], Loss: 0.507815957069397\n",
            "Epoch [7/10], Loss: 0.5080882906913757\n",
            "Epoch [7/10], Loss: 0.5082157850265503\n",
            "Epoch [7/10], Loss: 0.5081323981285095\n",
            "Epoch [7/10], Loss: 0.5082268714904785\n",
            "Epoch [7/10], Loss: 0.5080054402351379\n",
            "Epoch [7/10], Loss: 0.5078186392784119\n",
            "Epoch [7/10], Loss: 0.508063018321991\n",
            "Epoch [7/10], Loss: 0.5083949565887451\n",
            "Epoch [7/10], Loss: 0.5080949664115906\n",
            "Epoch [7/10], Loss: 0.5079183578491211\n",
            "Epoch [7/10], Loss: 0.5080766081809998\n",
            "Epoch [7/10], Loss: 0.508080780506134\n",
            "Epoch [7/10], Loss: 0.5079711675643921\n",
            "Epoch [7/10], Loss: 0.5080453157424927\n",
            "Epoch [7/10], Loss: 0.5078513026237488\n",
            "Epoch [7/10], Loss: 0.5079805254936218\n",
            "Epoch [7/10], Loss: 0.5075979828834534\n",
            "Epoch [7/10], Loss: 0.5077226758003235\n",
            "Epoch [7/10], Loss: 0.5080131888389587\n",
            "Epoch [7/10], Loss: 0.5081357359886169\n",
            "Epoch [7/10], Loss: 0.5082995891571045\n",
            "Epoch [7/10], Loss: 0.5084995627403259\n",
            "Epoch [7/10], Loss: 0.5082390308380127\n",
            "Epoch [7/10], Loss: 0.5080928802490234\n",
            "Epoch [7/10], Loss: 0.5081619024276733\n",
            "Epoch [7/10], Loss: 0.5080805420875549\n",
            "Epoch [7/10], Loss: 0.5080543756484985\n",
            "Epoch [7/10], Loss: 0.5078356266021729\n",
            "Epoch [7/10], Loss: 0.5085798501968384\n",
            "Epoch [7/10], Loss: 0.5080117583274841\n",
            "Epoch [7/10], Loss: 0.5086986422538757\n",
            "Epoch [7/10], Loss: 0.5086452960968018\n",
            "Epoch [7/10], Loss: 0.5084702968597412\n",
            "Epoch [7/10], Loss: 0.5081038475036621\n",
            "Epoch [7/10], Loss: 0.5080172419548035\n",
            "Epoch [7/10], Loss: 0.5080085396766663\n",
            "Epoch [7/10], Loss: 0.5078266859054565\n",
            "Epoch [7/10], Loss: 0.5078504681587219\n",
            "Epoch [7/10], Loss: 0.5076320767402649\n",
            "Epoch [7/10], Loss: 0.5077198147773743\n",
            "Epoch [7/10], Loss: 0.5076902508735657\n",
            "Epoch [7/10], Loss: 0.5078098773956299\n",
            "Epoch [7/10], Loss: 0.507676899433136\n",
            "Epoch [7/10], Loss: 0.5072691440582275\n",
            "Epoch [7/10], Loss: 0.5074664950370789\n",
            "Epoch [7/10], Loss: 0.5071471929550171\n",
            "Epoch [7/10], Loss: 0.5074251294136047\n",
            "Epoch [7/10], Loss: 0.5070295333862305\n",
            "Epoch [7/10], Loss: 0.5073543787002563\n",
            "Epoch [7/10], Loss: 0.5073988437652588\n",
            "Epoch [7/10], Loss: 0.5075920224189758\n",
            "Epoch [7/10], Loss: 0.5074551701545715\n",
            "Epoch [7/10], Loss: 0.507956326007843\n",
            "Epoch [7/10], Loss: 0.5073513388633728\n",
            "Epoch [7/10], Loss: 0.5072599053382874\n",
            "Epoch [7/10], Loss: 0.5073904991149902\n",
            "Epoch [7/10], Loss: 0.5073363184928894\n",
            "Epoch [7/10], Loss: 0.507350504398346\n",
            "Epoch [7/10], Loss: 0.507391095161438\n",
            "Epoch [7/10], Loss: 0.5072947144508362\n",
            "Epoch [7/10], Loss: 0.5072287321090698\n",
            "Epoch [7/10], Loss: 0.5071248412132263\n",
            "Epoch [7/10], Loss: 0.5074782371520996\n",
            "Epoch [7/10], Loss: 0.507298469543457\n",
            "Epoch [7/10], Loss: 0.5079514384269714\n",
            "Epoch [7/10], Loss: 0.5073171257972717\n",
            "Epoch [7/10], Loss: 0.5075681805610657\n",
            "Epoch [7/10], Loss: 0.5077915191650391\n",
            "Epoch [7/10], Loss: 0.5076391696929932\n",
            "Epoch [7/10], Loss: 0.5076802968978882\n",
            "Epoch [7/10], Loss: 0.5078617930412292\n",
            "Epoch [7/10], Loss: 0.507958710193634\n",
            "Epoch [7/10], Loss: 0.5081318616867065\n",
            "Epoch [7/10], Loss: 0.5084677934646606\n",
            "Epoch [7/10], Loss: 0.5079398155212402\n",
            "Epoch [7/10], Loss: 0.5080177187919617\n",
            "Epoch [7/10], Loss: 0.5079229474067688\n",
            "Epoch [7/10], Loss: 0.5079408288002014\n",
            "Epoch [7/10], Loss: 0.507823646068573\n",
            "Epoch [7/10], Loss: 0.5083811283111572\n",
            "Epoch [7/10], Loss: 0.5081692934036255\n",
            "Epoch [7/10], Loss: 0.5083440542221069\n",
            "Epoch [7/10], Loss: 0.5086237192153931\n",
            "Epoch [7/10], Loss: 0.5083172917366028\n",
            "Epoch [7/10], Loss: 0.5082625150680542\n",
            "Epoch [7/10], Loss: 0.5081489682197571\n",
            "Epoch [7/10], Loss: 0.5082201361656189\n",
            "Epoch [7/10], Loss: 0.508173942565918\n",
            "Epoch [7/10], Loss: 0.5077885985374451\n",
            "Epoch [7/10], Loss: 0.5080952644348145\n",
            "Epoch [7/10], Loss: 0.5082152485847473\n",
            "Epoch [7/10], Loss: 0.5085094571113586\n",
            "Epoch [7/10], Loss: 0.5081444382667542\n",
            "Epoch [7/10], Loss: 0.5085194706916809\n",
            "Epoch [7/10], Loss: 0.5081124305725098\n",
            "Epoch [7/10], Loss: 0.5078948140144348\n",
            "Epoch [7/10], Loss: 0.5083690285682678\n",
            "Epoch [7/10], Loss: 0.5083976984024048\n",
            "Epoch [7/10], Loss: 0.5081564784049988\n",
            "Epoch [7/10], Loss: 0.5085169672966003\n",
            "Epoch [7/10], Loss: 0.5082558989524841\n",
            "Epoch [7/10], Loss: 0.5078888535499573\n",
            "Epoch [7/10], Loss: 0.5080459117889404\n",
            "Epoch [7/10], Loss: 0.5079299211502075\n",
            "Epoch [7/10], Loss: 0.5082406401634216\n",
            "Epoch [7/10], Loss: 0.5083529949188232\n",
            "Epoch [7/10], Loss: 0.5081068873405457\n",
            "Epoch [7/10], Loss: 0.5080322027206421\n",
            "Epoch [7/10], Loss: 0.5082089900970459\n",
            "Epoch [7/10], Loss: 0.5082472562789917\n",
            "Epoch [7/10], Loss: 0.5083162188529968\n",
            "Epoch [7/10], Loss: 0.508323073387146\n",
            "Epoch [7/10], Loss: 0.5083629488945007\n",
            "Epoch [7/10], Loss: 0.5080997347831726\n",
            "Epoch [7/10], Loss: 0.5078749060630798\n",
            "Epoch [7/10], Loss: 0.5078208446502686\n",
            "Epoch [7/10], Loss: 0.5075249671936035\n",
            "Epoch [7/10], Loss: 0.5073137283325195\n",
            "Epoch [7/10], Loss: 0.5079566836357117\n",
            "Epoch [7/10], Loss: 0.5077584981918335\n",
            "Epoch [7/10], Loss: 0.5077683925628662\n",
            "Epoch [7/10], Loss: 0.5076851844787598\n",
            "Epoch [7/10], Loss: 0.5073399543762207\n",
            "Epoch [7/10], Loss: 0.5077317357063293\n",
            "Epoch [7/10], Loss: 0.5074337720870972\n",
            "Epoch [7/10], Loss: 0.5079266428947449\n",
            "Epoch [7/10], Loss: 0.5078464150428772\n",
            "Epoch [7/10], Loss: 0.5077043771743774\n",
            "Epoch [7/10], Loss: 0.5081861615180969\n",
            "Epoch [7/10], Loss: 0.5081745982170105\n",
            "Epoch [7/10], Loss: 0.5078191161155701\n",
            "Epoch [7/10], Loss: 0.5078756809234619\n",
            "Epoch [7/10], Loss: 0.508053719997406\n",
            "Epoch [7/10], Loss: 0.5079507827758789\n",
            "Epoch [7/10], Loss: 0.5080956816673279\n",
            "Epoch [7/10], Loss: 0.508016049861908\n",
            "Epoch [7/10], Loss: 0.5075735449790955\n",
            "Epoch [7/10], Loss: 0.5077769160270691\n",
            "Epoch [7/10], Loss: 0.5078154802322388\n",
            "Epoch [7/10], Loss: 0.507758617401123\n",
            "Epoch [7/10], Loss: 0.5080727338790894\n",
            "Epoch [7/10], Loss: 0.5078707933425903\n",
            "Epoch [7/10], Loss: 0.5078015327453613\n",
            "Epoch [7/10], Loss: 0.5081081390380859\n",
            "Epoch [7/10], Loss: 0.5078253149986267\n",
            "Epoch [7/10], Loss: 0.5080232620239258\n",
            "Epoch [7/10], Loss: 0.5081062316894531\n",
            "Epoch [7/10], Loss: 0.5077605247497559\n",
            "Epoch [7/10], Loss: 0.5077698826789856\n",
            "Epoch [7/10], Loss: 0.5077189803123474\n",
            "Epoch [7/10], Loss: 0.5074597001075745\n",
            "Epoch [7/10], Loss: 0.5073752403259277\n",
            "Epoch [7/10], Loss: 0.50795578956604\n",
            "Epoch [7/10], Loss: 0.5081354975700378\n",
            "Epoch [7/10], Loss: 0.5079198479652405\n",
            "Epoch [7/10], Loss: 0.5075430274009705\n",
            "Epoch [7/10], Loss: 0.5074649453163147\n",
            "Epoch [7/10], Loss: 0.5072950124740601\n",
            "Epoch [7/10], Loss: 0.5073400735855103\n",
            "Epoch [7/10], Loss: 0.5076266527175903\n",
            "Epoch [7/10], Loss: 0.5076913833618164\n",
            "Epoch [7/10], Loss: 0.5073742866516113\n",
            "Epoch [7/10], Loss: 0.507530152797699\n",
            "Epoch [7/10], Loss: 0.5076911449432373\n",
            "Epoch [7/10], Loss: 0.5078737735748291\n",
            "Epoch [7/10], Loss: 0.5078251361846924\n",
            "Epoch [7/10], Loss: 0.5079259276390076\n",
            "Epoch [7/10], Loss: 0.5079542994499207\n",
            "Epoch [7/10], Loss: 0.5078476071357727\n",
            "Epoch [7/10], Loss: 0.5077548623085022\n",
            "Epoch [8/10], Loss: 0.5071766972541809\n",
            "Epoch [8/10], Loss: 0.5072829127311707\n",
            "Epoch [8/10], Loss: 0.5074938535690308\n",
            "Epoch [8/10], Loss: 0.5072857737541199\n",
            "Epoch [8/10], Loss: 0.5070834159851074\n",
            "Epoch [8/10], Loss: 0.507417619228363\n",
            "Epoch [8/10], Loss: 0.5076479911804199\n",
            "Epoch [8/10], Loss: 0.5072528719902039\n",
            "Epoch [8/10], Loss: 0.5076369047164917\n",
            "Epoch [8/10], Loss: 0.5076156258583069\n",
            "Epoch [8/10], Loss: 0.5075982809066772\n",
            "Epoch [8/10], Loss: 0.5076581239700317\n",
            "Epoch [8/10], Loss: 0.5074319839477539\n",
            "Epoch [8/10], Loss: 0.5075644850730896\n",
            "Epoch [8/10], Loss: 0.5070948004722595\n",
            "Epoch [8/10], Loss: 0.5071868300437927\n",
            "Epoch [8/10], Loss: 0.5072519183158875\n",
            "Epoch [8/10], Loss: 0.507247805595398\n",
            "Epoch [8/10], Loss: 0.5072835087776184\n",
            "Epoch [8/10], Loss: 0.5073323249816895\n",
            "Epoch [8/10], Loss: 0.5075148940086365\n",
            "Epoch [8/10], Loss: 0.5075175762176514\n",
            "Epoch [8/10], Loss: 0.5073668360710144\n",
            "Epoch [8/10], Loss: 0.5073150992393494\n",
            "Epoch [8/10], Loss: 0.5076687932014465\n",
            "Epoch [8/10], Loss: 0.5074411630630493\n",
            "Epoch [8/10], Loss: 0.5075085163116455\n",
            "Epoch [8/10], Loss: 0.5077608823776245\n",
            "Epoch [8/10], Loss: 0.5079506635665894\n",
            "Epoch [8/10], Loss: 0.5077329277992249\n",
            "Epoch [8/10], Loss: 0.5079031586647034\n",
            "Epoch [8/10], Loss: 0.5077959299087524\n",
            "Epoch [8/10], Loss: 0.5075049996376038\n",
            "Epoch [8/10], Loss: 0.5077643990516663\n",
            "Epoch [8/10], Loss: 0.5076968669891357\n",
            "Epoch [8/10], Loss: 0.5077792406082153\n",
            "Epoch [8/10], Loss: 0.5076526403427124\n",
            "Epoch [8/10], Loss: 0.5076002478599548\n",
            "Epoch [8/10], Loss: 0.5076025724411011\n",
            "Epoch [8/10], Loss: 0.507491409778595\n",
            "Epoch [8/10], Loss: 0.507242739200592\n",
            "Epoch [8/10], Loss: 0.5073463916778564\n",
            "Epoch [8/10], Loss: 0.5075260996818542\n",
            "Epoch [8/10], Loss: 0.5077534317970276\n",
            "Epoch [8/10], Loss: 0.5073784589767456\n",
            "Epoch [8/10], Loss: 0.5073410272598267\n",
            "Epoch [8/10], Loss: 0.5076481103897095\n",
            "Epoch [8/10], Loss: 0.5076155066490173\n",
            "Epoch [8/10], Loss: 0.5075922608375549\n",
            "Epoch [8/10], Loss: 0.5075563788414001\n",
            "Epoch [8/10], Loss: 0.5079393982887268\n",
            "Epoch [8/10], Loss: 0.5079089403152466\n",
            "Epoch [8/10], Loss: 0.5080354809761047\n",
            "Epoch [8/10], Loss: 0.5078060626983643\n",
            "Epoch [8/10], Loss: 0.507569432258606\n",
            "Epoch [8/10], Loss: 0.507560670375824\n",
            "Epoch [8/10], Loss: 0.5075581073760986\n",
            "Epoch [8/10], Loss: 0.5075688362121582\n",
            "Epoch [8/10], Loss: 0.5076631307601929\n",
            "Epoch [8/10], Loss: 0.5076931118965149\n",
            "Epoch [8/10], Loss: 0.5078065991401672\n",
            "Epoch [8/10], Loss: 0.50754714012146\n",
            "Epoch [8/10], Loss: 0.5075956583023071\n",
            "Epoch [8/10], Loss: 0.5074343085289001\n",
            "Epoch [8/10], Loss: 0.5074664950370789\n",
            "Epoch [8/10], Loss: 0.5077642202377319\n",
            "Epoch [8/10], Loss: 0.5077452659606934\n",
            "Epoch [8/10], Loss: 0.5077046751976013\n",
            "Epoch [8/10], Loss: 0.5074688792228699\n",
            "Epoch [8/10], Loss: 0.5073824524879456\n",
            "Epoch [8/10], Loss: 0.5075291991233826\n",
            "Epoch [8/10], Loss: 0.5073725581169128\n",
            "Epoch [8/10], Loss: 0.507552981376648\n",
            "Epoch [8/10], Loss: 0.5074717998504639\n",
            "Epoch [8/10], Loss: 0.5075913667678833\n",
            "Epoch [8/10], Loss: 0.5076947808265686\n",
            "Epoch [8/10], Loss: 0.5074182152748108\n",
            "Epoch [8/10], Loss: 0.5072781443595886\n",
            "Epoch [8/10], Loss: 0.507381796836853\n",
            "Epoch [8/10], Loss: 0.5072451233863831\n",
            "Epoch [8/10], Loss: 0.5076209902763367\n",
            "Epoch [8/10], Loss: 0.5075657963752747\n",
            "Epoch [8/10], Loss: 0.5075908899307251\n",
            "Epoch [8/10], Loss: 0.5075013637542725\n",
            "Epoch [8/10], Loss: 0.5074574947357178\n",
            "Epoch [8/10], Loss: 0.50767582654953\n",
            "Epoch [8/10], Loss: 0.5075684189796448\n",
            "Epoch [8/10], Loss: 0.5076810121536255\n",
            "Epoch [8/10], Loss: 0.507639467716217\n",
            "Epoch [8/10], Loss: 0.5077381730079651\n",
            "Epoch [8/10], Loss: 0.5075258612632751\n",
            "Epoch [8/10], Loss: 0.5074833035469055\n",
            "Epoch [8/10], Loss: 0.5077411532402039\n",
            "Epoch [8/10], Loss: 0.5072846412658691\n",
            "Epoch [8/10], Loss: 0.5074313282966614\n",
            "Epoch [8/10], Loss: 0.5075104236602783\n",
            "Epoch [8/10], Loss: 0.5073095560073853\n",
            "Epoch [8/10], Loss: 0.5073670148849487\n",
            "Epoch [8/10], Loss: 0.5072463750839233\n",
            "Epoch [8/10], Loss: 0.5072539448738098\n",
            "Epoch [8/10], Loss: 0.5070781707763672\n",
            "Epoch [8/10], Loss: 0.5068359971046448\n",
            "Epoch [8/10], Loss: 0.5070827007293701\n",
            "Epoch [8/10], Loss: 0.5073210597038269\n",
            "Epoch [8/10], Loss: 0.5074930191040039\n",
            "Epoch [8/10], Loss: 0.5075283646583557\n",
            "Epoch [8/10], Loss: 0.5072814226150513\n",
            "Epoch [8/10], Loss: 0.5073907971382141\n",
            "Epoch [8/10], Loss: 0.5071598887443542\n",
            "Epoch [8/10], Loss: 0.5076360702514648\n",
            "Epoch [8/10], Loss: 0.5073570013046265\n",
            "Epoch [8/10], Loss: 0.5075968503952026\n",
            "Epoch [8/10], Loss: 0.5074262022972107\n",
            "Epoch [8/10], Loss: 0.507373034954071\n",
            "Epoch [8/10], Loss: 0.5073260068893433\n",
            "Epoch [8/10], Loss: 0.507279634475708\n",
            "Epoch [8/10], Loss: 0.5069085359573364\n",
            "Epoch [8/10], Loss: 0.5067882537841797\n",
            "Epoch [8/10], Loss: 0.5069599151611328\n",
            "Epoch [8/10], Loss: 0.5075663924217224\n",
            "Epoch [8/10], Loss: 0.5076940059661865\n",
            "Epoch [8/10], Loss: 0.507577657699585\n",
            "Epoch [8/10], Loss: 0.507421612739563\n",
            "Epoch [8/10], Loss: 0.507369339466095\n",
            "Epoch [8/10], Loss: 0.5074790120124817\n",
            "Epoch [8/10], Loss: 0.5075150728225708\n",
            "Epoch [8/10], Loss: 0.5072756409645081\n",
            "Epoch [8/10], Loss: 0.5077155828475952\n",
            "Epoch [8/10], Loss: 0.5074599385261536\n",
            "Epoch [8/10], Loss: 0.5073617696762085\n",
            "Epoch [8/10], Loss: 0.5070759057998657\n",
            "Epoch [8/10], Loss: 0.5073085427284241\n",
            "Epoch [8/10], Loss: 0.5073121786117554\n",
            "Epoch [8/10], Loss: 0.5072869658470154\n",
            "Epoch [8/10], Loss: 0.50734943151474\n",
            "Epoch [8/10], Loss: 0.5075734257698059\n",
            "Epoch [8/10], Loss: 0.5075057744979858\n",
            "Epoch [8/10], Loss: 0.507606565952301\n",
            "Epoch [8/10], Loss: 0.5075070858001709\n",
            "Epoch [8/10], Loss: 0.5073573589324951\n",
            "Epoch [8/10], Loss: 0.5074052214622498\n",
            "Epoch [8/10], Loss: 0.5077216029167175\n",
            "Epoch [8/10], Loss: 0.50748610496521\n",
            "Epoch [8/10], Loss: 0.5075172781944275\n",
            "Epoch [8/10], Loss: 0.5076848268508911\n",
            "Epoch [8/10], Loss: 0.507515549659729\n",
            "Epoch [8/10], Loss: 0.5073992013931274\n",
            "Epoch [8/10], Loss: 0.5072640776634216\n",
            "Epoch [8/10], Loss: 0.507519006729126\n",
            "Epoch [8/10], Loss: 0.5073647499084473\n",
            "Epoch [8/10], Loss: 0.5072770118713379\n",
            "Epoch [8/10], Loss: 0.507237434387207\n",
            "Epoch [8/10], Loss: 0.5073682069778442\n",
            "Epoch [8/10], Loss: 0.5074850916862488\n",
            "Epoch [8/10], Loss: 0.5072636008262634\n",
            "Epoch [8/10], Loss: 0.5072892904281616\n",
            "Epoch [8/10], Loss: 0.5072229504585266\n",
            "Epoch [8/10], Loss: 0.5073779225349426\n",
            "Epoch [8/10], Loss: 0.507453203201294\n",
            "Epoch [8/10], Loss: 0.5076575875282288\n",
            "Epoch [8/10], Loss: 0.5073186159133911\n",
            "Epoch [8/10], Loss: 0.5075778961181641\n",
            "Epoch [8/10], Loss: 0.5071758031845093\n",
            "Epoch [8/10], Loss: 0.5076282620429993\n",
            "Epoch [8/10], Loss: 0.5070784687995911\n",
            "Epoch [8/10], Loss: 0.507617712020874\n",
            "Epoch [8/10], Loss: 0.5074742436408997\n",
            "Epoch [8/10], Loss: 0.5074546933174133\n",
            "Epoch [8/10], Loss: 0.507583737373352\n",
            "Epoch [8/10], Loss: 0.5073947906494141\n",
            "Epoch [8/10], Loss: 0.5073534250259399\n",
            "Epoch [8/10], Loss: 0.5074196457862854\n",
            "Epoch [8/10], Loss: 0.5073155760765076\n",
            "Epoch [8/10], Loss: 0.5075039863586426\n",
            "Epoch [8/10], Loss: 0.5073327422142029\n",
            "Epoch [8/10], Loss: 0.5074512362480164\n",
            "Epoch [8/10], Loss: 0.5072075128555298\n",
            "Epoch [8/10], Loss: 0.5074752569198608\n",
            "Epoch [8/10], Loss: 0.507392942905426\n",
            "Epoch [8/10], Loss: 0.5072929263114929\n",
            "Epoch [8/10], Loss: 0.5069311261177063\n",
            "Epoch [8/10], Loss: 0.5070050954818726\n",
            "Epoch [8/10], Loss: 0.5073118209838867\n",
            "Epoch [8/10], Loss: 0.507638156414032\n",
            "Epoch [8/10], Loss: 0.5074834227561951\n",
            "Epoch [8/10], Loss: 0.507513701915741\n",
            "Epoch [8/10], Loss: 0.5073632001876831\n",
            "Epoch [8/10], Loss: 0.5071948170661926\n",
            "Epoch [8/10], Loss: 0.5072419047355652\n",
            "Epoch [8/10], Loss: 0.5068792700767517\n",
            "Epoch [8/10], Loss: 0.5071587562561035\n",
            "Epoch [8/10], Loss: 0.5069708228111267\n",
            "Epoch [8/10], Loss: 0.5076379776000977\n",
            "Epoch [8/10], Loss: 0.5075578689575195\n",
            "Epoch [8/10], Loss: 0.5075165033340454\n",
            "Epoch [8/10], Loss: 0.5073399543762207\n",
            "Epoch [8/10], Loss: 0.5072882771492004\n",
            "Epoch [8/10], Loss: 0.5072618722915649\n",
            "Epoch [8/10], Loss: 0.5071729421615601\n",
            "Epoch [8/10], Loss: 0.5072504878044128\n",
            "Epoch [8/10], Loss: 0.5073051452636719\n",
            "Epoch [8/10], Loss: 0.5074459910392761\n",
            "Epoch [8/10], Loss: 0.5073609352111816\n",
            "Epoch [8/10], Loss: 0.507625162601471\n",
            "Epoch [8/10], Loss: 0.5079355835914612\n",
            "Epoch [8/10], Loss: 0.5076768398284912\n",
            "Epoch [8/10], Loss: 0.507629930973053\n",
            "Epoch [8/10], Loss: 0.507749617099762\n",
            "Epoch [9/10], Loss: 0.5075494647026062\n",
            "Epoch [9/10], Loss: 0.5075031518936157\n",
            "Epoch [9/10], Loss: 0.5074055790901184\n",
            "Epoch [9/10], Loss: 0.5075210332870483\n",
            "Epoch [9/10], Loss: 0.5074033737182617\n",
            "Epoch [9/10], Loss: 0.5073689222335815\n",
            "Epoch [9/10], Loss: 0.507148802280426\n",
            "Epoch [9/10], Loss: 0.5072231292724609\n",
            "Epoch [9/10], Loss: 0.5072988271713257\n",
            "Epoch [9/10], Loss: 0.507257878780365\n",
            "Epoch [9/10], Loss: 0.5073499083518982\n",
            "Epoch [9/10], Loss: 0.5072548985481262\n",
            "Epoch [9/10], Loss: 0.5068230628967285\n",
            "Epoch [9/10], Loss: 0.5067905187606812\n",
            "Epoch [9/10], Loss: 0.5071685910224915\n",
            "Epoch [9/10], Loss: 0.5073153972625732\n",
            "Epoch [9/10], Loss: 0.5068777799606323\n",
            "Epoch [9/10], Loss: 0.5069307088851929\n",
            "Epoch [9/10], Loss: 0.5070617198944092\n",
            "Epoch [9/10], Loss: 0.5068899393081665\n",
            "Epoch [9/10], Loss: 0.507110595703125\n",
            "Epoch [9/10], Loss: 0.5068204402923584\n",
            "Epoch [9/10], Loss: 0.5074020624160767\n",
            "Epoch [9/10], Loss: 0.5075241923332214\n",
            "Epoch [9/10], Loss: 0.5071337223052979\n",
            "Epoch [9/10], Loss: 0.5071321129798889\n",
            "Epoch [9/10], Loss: 0.5071252584457397\n",
            "Epoch [9/10], Loss: 0.5070011615753174\n",
            "Epoch [9/10], Loss: 0.5069223046302795\n",
            "Epoch [9/10], Loss: 0.5070192217826843\n",
            "Epoch [9/10], Loss: 0.5070083141326904\n",
            "Epoch [9/10], Loss: 0.5069506168365479\n",
            "Epoch [9/10], Loss: 0.5066924691200256\n",
            "Epoch [9/10], Loss: 0.5069112777709961\n",
            "Epoch [9/10], Loss: 0.5070726871490479\n",
            "Epoch [9/10], Loss: 0.5070009827613831\n",
            "Epoch [9/10], Loss: 0.5070555806159973\n",
            "Epoch [9/10], Loss: 0.5070552229881287\n",
            "Epoch [9/10], Loss: 0.5069112181663513\n",
            "Epoch [9/10], Loss: 0.5067803859710693\n",
            "Epoch [9/10], Loss: 0.5068634748458862\n",
            "Epoch [9/10], Loss: 0.5066608190536499\n",
            "Epoch [9/10], Loss: 0.5068444013595581\n",
            "Epoch [9/10], Loss: 0.5068545341491699\n",
            "Epoch [9/10], Loss: 0.5069607496261597\n",
            "Epoch [9/10], Loss: 0.5069441795349121\n",
            "Epoch [9/10], Loss: 0.5070125460624695\n",
            "Epoch [9/10], Loss: 0.5067643523216248\n",
            "Epoch [9/10], Loss: 0.5069389939308167\n",
            "Epoch [9/10], Loss: 0.5070672035217285\n",
            "Epoch [9/10], Loss: 0.5074203610420227\n",
            "Epoch [9/10], Loss: 0.5070521831512451\n",
            "Epoch [9/10], Loss: 0.5069512724876404\n",
            "Epoch [9/10], Loss: 0.5070080757141113\n",
            "Epoch [9/10], Loss: 0.5070638060569763\n",
            "Epoch [9/10], Loss: 0.5073484182357788\n",
            "Epoch [9/10], Loss: 0.5072329044342041\n",
            "Epoch [9/10], Loss: 0.5072717666625977\n",
            "Epoch [9/10], Loss: 0.507291316986084\n",
            "Epoch [9/10], Loss: 0.5070973038673401\n",
            "Epoch [9/10], Loss: 0.5072500705718994\n",
            "Epoch [9/10], Loss: 0.5071356892585754\n",
            "Epoch [9/10], Loss: 0.5071601867675781\n",
            "Epoch [9/10], Loss: 0.5069235563278198\n",
            "Epoch [9/10], Loss: 0.5071231722831726\n",
            "Epoch [9/10], Loss: 0.5073314905166626\n",
            "Epoch [9/10], Loss: 0.507218599319458\n",
            "Epoch [9/10], Loss: 0.5071018934249878\n",
            "Epoch [9/10], Loss: 0.5071118474006653\n",
            "Epoch [9/10], Loss: 0.5077414512634277\n",
            "Epoch [9/10], Loss: 0.5074848532676697\n",
            "Epoch [9/10], Loss: 0.5071970224380493\n",
            "Epoch [9/10], Loss: 0.5073435306549072\n",
            "Epoch [9/10], Loss: 0.5076382756233215\n",
            "Epoch [9/10], Loss: 0.5073896050453186\n",
            "Epoch [9/10], Loss: 0.5075937509536743\n",
            "Epoch [9/10], Loss: 0.507679283618927\n",
            "Epoch [9/10], Loss: 0.5074146389961243\n",
            "Epoch [9/10], Loss: 0.5072557330131531\n",
            "Epoch [9/10], Loss: 0.5074418187141418\n",
            "Epoch [9/10], Loss: 0.5071181654930115\n",
            "Epoch [9/10], Loss: 0.5069145560264587\n",
            "Epoch [9/10], Loss: 0.506917417049408\n",
            "Epoch [9/10], Loss: 0.5069500803947449\n",
            "Epoch [9/10], Loss: 0.5070566534996033\n",
            "Epoch [9/10], Loss: 0.5069191455841064\n",
            "Epoch [9/10], Loss: 0.5071260333061218\n",
            "Epoch [9/10], Loss: 0.5070809125900269\n",
            "Epoch [9/10], Loss: 0.5069417357444763\n",
            "Epoch [9/10], Loss: 0.5071530342102051\n",
            "Epoch [9/10], Loss: 0.5068747997283936\n",
            "Epoch [9/10], Loss: 0.5066534280776978\n",
            "Epoch [9/10], Loss: 0.5068302750587463\n",
            "Epoch [9/10], Loss: 0.506982147693634\n",
            "Epoch [9/10], Loss: 0.5070897340774536\n",
            "Epoch [9/10], Loss: 0.5070486664772034\n",
            "Epoch [9/10], Loss: 0.5069257616996765\n",
            "Epoch [9/10], Loss: 0.5067793726921082\n",
            "Epoch [9/10], Loss: 0.5066996216773987\n",
            "Epoch [9/10], Loss: 0.5069231986999512\n",
            "Epoch [9/10], Loss: 0.5070083141326904\n",
            "Epoch [9/10], Loss: 0.5069277882575989\n",
            "Epoch [9/10], Loss: 0.5070250630378723\n",
            "Epoch [9/10], Loss: 0.5069570541381836\n",
            "Epoch [9/10], Loss: 0.5068193078041077\n",
            "Epoch [9/10], Loss: 0.5068061947822571\n",
            "Epoch [9/10], Loss: 0.5069855451583862\n",
            "Epoch [9/10], Loss: 0.5065848231315613\n",
            "Epoch [9/10], Loss: 0.5067968368530273\n",
            "Epoch [9/10], Loss: 0.5065692067146301\n",
            "Epoch [9/10], Loss: 0.5068314075469971\n",
            "Epoch [9/10], Loss: 0.5068585276603699\n",
            "Epoch [9/10], Loss: 0.5069144368171692\n",
            "Epoch [9/10], Loss: 0.5069085359573364\n",
            "Epoch [9/10], Loss: 0.507043719291687\n",
            "Epoch [9/10], Loss: 0.506964385509491\n",
            "Epoch [9/10], Loss: 0.5072948932647705\n",
            "Epoch [9/10], Loss: 0.5068966150283813\n",
            "Epoch [9/10], Loss: 0.5072333812713623\n",
            "Epoch [9/10], Loss: 0.5072855949401855\n",
            "Epoch [9/10], Loss: 0.5069869160652161\n",
            "Epoch [9/10], Loss: 0.5069469213485718\n",
            "Epoch [9/10], Loss: 0.5068277716636658\n",
            "Epoch [9/10], Loss: 0.5069675445556641\n",
            "Epoch [9/10], Loss: 0.5066291093826294\n",
            "Epoch [9/10], Loss: 0.5064515471458435\n",
            "Epoch [9/10], Loss: 0.5065815448760986\n",
            "Epoch [9/10], Loss: 0.5065475106239319\n",
            "Epoch [9/10], Loss: 0.5066647529602051\n",
            "Epoch [9/10], Loss: 0.5065402388572693\n",
            "Epoch [9/10], Loss: 0.5066636800765991\n",
            "Epoch [9/10], Loss: 0.506336510181427\n",
            "Epoch [9/10], Loss: 0.5065315365791321\n",
            "Epoch [9/10], Loss: 0.50700843334198\n",
            "Epoch [9/10], Loss: 0.5065276622772217\n",
            "Epoch [9/10], Loss: 0.5065900683403015\n",
            "Epoch [9/10], Loss: 0.5066254138946533\n",
            "Epoch [9/10], Loss: 0.506380558013916\n",
            "Epoch [9/10], Loss: 0.5066545009613037\n",
            "Epoch [9/10], Loss: 0.5064398646354675\n",
            "Epoch [9/10], Loss: 0.5066685676574707\n",
            "Epoch [9/10], Loss: 0.5064459443092346\n",
            "Epoch [9/10], Loss: 0.5064010620117188\n",
            "Epoch [9/10], Loss: 0.5063525438308716\n",
            "Epoch [9/10], Loss: 0.5069556832313538\n",
            "Epoch [9/10], Loss: 0.5063939690589905\n",
            "Epoch [9/10], Loss: 0.5067267417907715\n",
            "Epoch [9/10], Loss: 0.5068014860153198\n",
            "Epoch [9/10], Loss: 0.5065600275993347\n",
            "Epoch [9/10], Loss: 0.5065758228302002\n",
            "Epoch [9/10], Loss: 0.5068092346191406\n",
            "Epoch [9/10], Loss: 0.5064789652824402\n",
            "Epoch [9/10], Loss: 0.5064976811408997\n",
            "Epoch [9/10], Loss: 0.5069058537483215\n",
            "Epoch [9/10], Loss: 0.50650554895401\n",
            "Epoch [9/10], Loss: 0.5063760876655579\n",
            "Epoch [9/10], Loss: 0.5066785216331482\n",
            "Epoch [9/10], Loss: 0.5066087245941162\n",
            "Epoch [9/10], Loss: 0.506565511226654\n",
            "Epoch [9/10], Loss: 0.5066640377044678\n",
            "Epoch [9/10], Loss: 0.5066294074058533\n",
            "Epoch [9/10], Loss: 0.5066115856170654\n",
            "Epoch [9/10], Loss: 0.5066348314285278\n",
            "Epoch [9/10], Loss: 0.5068537592887878\n",
            "Epoch [9/10], Loss: 0.5067768692970276\n",
            "Epoch [9/10], Loss: 0.5068498849868774\n",
            "Epoch [9/10], Loss: 0.506898820400238\n",
            "Epoch [9/10], Loss: 0.5065609812736511\n",
            "Epoch [9/10], Loss: 0.5068480968475342\n",
            "Epoch [9/10], Loss: 0.5067269802093506\n",
            "Epoch [9/10], Loss: 0.5068347454071045\n",
            "Epoch [9/10], Loss: 0.5068100094795227\n",
            "Epoch [9/10], Loss: 0.5067019462585449\n",
            "Epoch [9/10], Loss: 0.5063915848731995\n",
            "Epoch [9/10], Loss: 0.5067158937454224\n",
            "Epoch [9/10], Loss: 0.5068883895874023\n",
            "Epoch [9/10], Loss: 0.5070471167564392\n",
            "Epoch [9/10], Loss: 0.5067473649978638\n",
            "Epoch [9/10], Loss: 0.5070341229438782\n",
            "Epoch [9/10], Loss: 0.5066952705383301\n",
            "Epoch [9/10], Loss: 0.5063292980194092\n",
            "Epoch [9/10], Loss: 0.506653904914856\n",
            "Epoch [9/10], Loss: 0.5065629482269287\n",
            "Epoch [9/10], Loss: 0.5066753029823303\n",
            "Epoch [9/10], Loss: 0.5066724419593811\n",
            "Epoch [9/10], Loss: 0.5064564943313599\n",
            "Epoch [9/10], Loss: 0.5064761638641357\n",
            "Epoch [9/10], Loss: 0.5067539215087891\n",
            "Epoch [9/10], Loss: 0.5065776705741882\n",
            "Epoch [9/10], Loss: 0.5066665410995483\n",
            "Epoch [9/10], Loss: 0.5066518783569336\n",
            "Epoch [9/10], Loss: 0.5065843462944031\n",
            "Epoch [9/10], Loss: 0.5066206455230713\n",
            "Epoch [9/10], Loss: 0.5066156983375549\n",
            "Epoch [9/10], Loss: 0.5069150328636169\n",
            "Epoch [9/10], Loss: 0.5067262649536133\n",
            "Epoch [9/10], Loss: 0.5065490007400513\n",
            "Epoch [9/10], Loss: 0.5070319175720215\n",
            "Epoch [9/10], Loss: 0.5067276954650879\n",
            "Epoch [9/10], Loss: 0.5068646669387817\n",
            "Epoch [9/10], Loss: 0.506761372089386\n",
            "Epoch [9/10], Loss: 0.5066516399383545\n",
            "Epoch [9/10], Loss: 0.5065489411354065\n",
            "Epoch [9/10], Loss: 0.5067712068557739\n",
            "Epoch [9/10], Loss: 0.5066655874252319\n",
            "Epoch [9/10], Loss: 0.507074236869812\n",
            "Epoch [9/10], Loss: 0.5067563652992249\n",
            "Epoch [9/10], Loss: 0.5065886378288269\n",
            "Epoch [10/10], Loss: 0.5068891048431396\n",
            "Epoch [10/10], Loss: 0.5072293281555176\n",
            "Epoch [10/10], Loss: 0.5072957873344421\n",
            "Epoch [10/10], Loss: 0.507452130317688\n",
            "Epoch [10/10], Loss: 0.5071693658828735\n",
            "Epoch [10/10], Loss: 0.5068089962005615\n",
            "Epoch [10/10], Loss: 0.5066565871238708\n",
            "Epoch [10/10], Loss: 0.5068560838699341\n",
            "Epoch [10/10], Loss: 0.5065867304801941\n",
            "Epoch [10/10], Loss: 0.5068230628967285\n",
            "Epoch [10/10], Loss: 0.5068169236183167\n",
            "Epoch [10/10], Loss: 0.5067868828773499\n",
            "Epoch [10/10], Loss: 0.5068814158439636\n",
            "Epoch [10/10], Loss: 0.506783127784729\n",
            "Epoch [10/10], Loss: 0.506836473941803\n",
            "Epoch [10/10], Loss: 0.5067434906959534\n",
            "Epoch [10/10], Loss: 0.5066801905632019\n",
            "Epoch [10/10], Loss: 0.5062631368637085\n",
            "Epoch [10/10], Loss: 0.5066520571708679\n",
            "Epoch [10/10], Loss: 0.5068640112876892\n",
            "Epoch [10/10], Loss: 0.5068808794021606\n",
            "Epoch [10/10], Loss: 0.506790816783905\n",
            "Epoch [10/10], Loss: 0.506536602973938\n",
            "Epoch [10/10], Loss: 0.506611168384552\n",
            "Epoch [10/10], Loss: 0.5066929459571838\n",
            "Epoch [10/10], Loss: 0.5066723227500916\n",
            "Epoch [10/10], Loss: 0.5068971514701843\n",
            "Epoch [10/10], Loss: 0.5069360733032227\n",
            "Epoch [10/10], Loss: 0.5066654682159424\n",
            "Epoch [10/10], Loss: 0.5067024230957031\n",
            "Epoch [10/10], Loss: 0.5065341591835022\n",
            "Epoch [10/10], Loss: 0.506433367729187\n",
            "Epoch [10/10], Loss: 0.5066404938697815\n",
            "Epoch [10/10], Loss: 0.5064116716384888\n",
            "Epoch [10/10], Loss: 0.5064841508865356\n",
            "Epoch [10/10], Loss: 0.5065388679504395\n",
            "Epoch [10/10], Loss: 0.5065650939941406\n",
            "Epoch [10/10], Loss: 0.5062921643257141\n",
            "Epoch [10/10], Loss: 0.5064348578453064\n",
            "Epoch [10/10], Loss: 0.5066718459129333\n",
            "Epoch [10/10], Loss: 0.506388783454895\n",
            "Epoch [10/10], Loss: 0.5065146684646606\n",
            "Epoch [10/10], Loss: 0.5065606236457825\n",
            "Epoch [10/10], Loss: 0.5067769885063171\n",
            "Epoch [10/10], Loss: 0.5063351988792419\n",
            "Epoch [10/10], Loss: 0.5062599778175354\n",
            "Epoch [10/10], Loss: 0.5062422752380371\n",
            "Epoch [10/10], Loss: 0.5066518187522888\n",
            "Epoch [10/10], Loss: 0.5064972043037415\n",
            "Epoch [10/10], Loss: 0.5064724087715149\n",
            "Epoch [10/10], Loss: 0.5066733956336975\n",
            "Epoch [10/10], Loss: 0.506530225276947\n",
            "Epoch [10/10], Loss: 0.5065723657608032\n",
            "Epoch [10/10], Loss: 0.5065274238586426\n",
            "Epoch [10/10], Loss: 0.5066701769828796\n",
            "Epoch [10/10], Loss: 0.5062883496284485\n",
            "Epoch [10/10], Loss: 0.5063797831535339\n",
            "Epoch [10/10], Loss: 0.5065709352493286\n",
            "Epoch [10/10], Loss: 0.5065789818763733\n",
            "Epoch [10/10], Loss: 0.5065315365791321\n",
            "Epoch [10/10], Loss: 0.5065574049949646\n",
            "Epoch [10/10], Loss: 0.5065301656723022\n",
            "Epoch [10/10], Loss: 0.5064375400543213\n",
            "Epoch [10/10], Loss: 0.5060442090034485\n",
            "Epoch [10/10], Loss: 0.5061424374580383\n",
            "Epoch [10/10], Loss: 0.5064628720283508\n",
            "Epoch [10/10], Loss: 0.5064723491668701\n",
            "Epoch [10/10], Loss: 0.5064529180526733\n",
            "Epoch [10/10], Loss: 0.5063576698303223\n",
            "Epoch [10/10], Loss: 0.5068775415420532\n",
            "Epoch [10/10], Loss: 0.5066151022911072\n",
            "Epoch [10/10], Loss: 0.5066312551498413\n",
            "Epoch [10/10], Loss: 0.506396472454071\n",
            "Epoch [10/10], Loss: 0.5065672397613525\n",
            "Epoch [10/10], Loss: 0.5062310099601746\n",
            "Epoch [10/10], Loss: 0.5063464641571045\n",
            "Epoch [10/10], Loss: 0.5062572360038757\n",
            "Epoch [10/10], Loss: 0.5062415599822998\n",
            "Epoch [10/10], Loss: 0.5062410831451416\n",
            "Epoch [10/10], Loss: 0.5065663456916809\n",
            "Epoch [10/10], Loss: 0.5066108703613281\n",
            "Epoch [10/10], Loss: 0.5065402388572693\n",
            "Epoch [10/10], Loss: 0.5063126683235168\n",
            "Epoch [10/10], Loss: 0.5064361691474915\n",
            "Epoch [10/10], Loss: 0.5063779354095459\n",
            "Epoch [10/10], Loss: 0.5063814520835876\n",
            "Epoch [10/10], Loss: 0.5064668655395508\n",
            "Epoch [10/10], Loss: 0.5065203309059143\n",
            "Epoch [10/10], Loss: 0.5067274570465088\n",
            "Epoch [10/10], Loss: 0.5065485835075378\n",
            "Epoch [10/10], Loss: 0.5062198638916016\n",
            "Epoch [10/10], Loss: 0.5062382817268372\n",
            "Epoch [10/10], Loss: 0.506191074848175\n",
            "Epoch [10/10], Loss: 0.5062017440795898\n",
            "Epoch [10/10], Loss: 0.5064494013786316\n",
            "Epoch [10/10], Loss: 0.5061959624290466\n",
            "Epoch [10/10], Loss: 0.5064697861671448\n",
            "Epoch [10/10], Loss: 0.5063489079475403\n",
            "Epoch [10/10], Loss: 0.5064610242843628\n",
            "Epoch [10/10], Loss: 0.5061584711074829\n",
            "Epoch [10/10], Loss: 0.5063109993934631\n",
            "Epoch [10/10], Loss: 0.506166934967041\n",
            "Epoch [10/10], Loss: 0.5066032409667969\n",
            "Epoch [10/10], Loss: 0.5062260627746582\n",
            "Epoch [10/10], Loss: 0.5067318081855774\n",
            "Epoch [10/10], Loss: 0.506946861743927\n",
            "Epoch [10/10], Loss: 0.5069513320922852\n",
            "Epoch [10/10], Loss: 0.5067378878593445\n",
            "Epoch [10/10], Loss: 0.5067912340164185\n",
            "Epoch [10/10], Loss: 0.50653076171875\n",
            "Epoch [10/10], Loss: 0.5065914988517761\n",
            "Epoch [10/10], Loss: 0.5061702728271484\n",
            "Epoch [10/10], Loss: 0.5065804123878479\n",
            "Epoch [10/10], Loss: 0.5066847205162048\n",
            "Epoch [10/10], Loss: 0.5064648985862732\n",
            "Epoch [10/10], Loss: 0.5066103935241699\n",
            "Epoch [10/10], Loss: 0.5068464279174805\n",
            "Epoch [10/10], Loss: 0.5067828893661499\n",
            "Epoch [10/10], Loss: 0.506870448589325\n",
            "Epoch [10/10], Loss: 0.506576657295227\n",
            "Epoch [10/10], Loss: 0.5067296028137207\n",
            "Epoch [10/10], Loss: 0.5064012408256531\n",
            "Epoch [10/10], Loss: 0.5063945055007935\n",
            "Epoch [10/10], Loss: 0.506192147731781\n",
            "Epoch [10/10], Loss: 0.5064014792442322\n",
            "Epoch [10/10], Loss: 0.5062676072120667\n",
            "Epoch [10/10], Loss: 0.5064195990562439\n",
            "Epoch [10/10], Loss: 0.5064710378646851\n",
            "Epoch [10/10], Loss: 0.5063133835792542\n",
            "Epoch [10/10], Loss: 0.5063768625259399\n",
            "Epoch [10/10], Loss: 0.5065338611602783\n",
            "Epoch [10/10], Loss: 0.5070310831069946\n",
            "Epoch [10/10], Loss: 0.5067534446716309\n",
            "Epoch [10/10], Loss: 0.5064923167228699\n",
            "Epoch [10/10], Loss: 0.506363034248352\n",
            "Epoch [10/10], Loss: 0.5064568519592285\n",
            "Epoch [10/10], Loss: 0.506645143032074\n",
            "Epoch [10/10], Loss: 0.5066874623298645\n",
            "Epoch [10/10], Loss: 0.5065843462944031\n",
            "Epoch [10/10], Loss: 0.5063856840133667\n",
            "Epoch [10/10], Loss: 0.5064097046852112\n",
            "Epoch [10/10], Loss: 0.5063780546188354\n",
            "Epoch [10/10], Loss: 0.5066929459571838\n",
            "Epoch [10/10], Loss: 0.5069496035575867\n",
            "Epoch [10/10], Loss: 0.5069904327392578\n",
            "Epoch [10/10], Loss: 0.5067245960235596\n",
            "Epoch [10/10], Loss: 0.5068619847297668\n",
            "Epoch [10/10], Loss: 0.5067532658576965\n",
            "Epoch [10/10], Loss: 0.5068022608757019\n",
            "Epoch [10/10], Loss: 0.5065450072288513\n",
            "Epoch [10/10], Loss: 0.5064539313316345\n",
            "Epoch [10/10], Loss: 0.5064935684204102\n",
            "Epoch [10/10], Loss: 0.506755530834198\n",
            "Epoch [10/10], Loss: 0.5067094564437866\n",
            "Epoch [10/10], Loss: 0.5067400336265564\n",
            "Epoch [10/10], Loss: 0.5069425106048584\n",
            "Epoch [10/10], Loss: 0.5069568753242493\n",
            "Epoch [10/10], Loss: 0.5066355466842651\n",
            "Epoch [10/10], Loss: 0.5065256357192993\n",
            "Epoch [10/10], Loss: 0.5066137909889221\n",
            "Epoch [10/10], Loss: 0.5067058205604553\n",
            "Epoch [10/10], Loss: 0.5067716836929321\n",
            "Epoch [10/10], Loss: 0.5066941976547241\n",
            "Epoch [10/10], Loss: 0.5072062015533447\n",
            "Epoch [10/10], Loss: 0.5068833827972412\n",
            "Epoch [10/10], Loss: 0.506558358669281\n",
            "Epoch [10/10], Loss: 0.5064073204994202\n",
            "Epoch [10/10], Loss: 0.5065065622329712\n",
            "Epoch [10/10], Loss: 0.506865382194519\n",
            "Epoch [10/10], Loss: 0.5065956711769104\n",
            "Epoch [10/10], Loss: 0.5063843131065369\n",
            "Epoch [10/10], Loss: 0.5070231556892395\n",
            "Epoch [10/10], Loss: 0.5071730613708496\n",
            "Epoch [10/10], Loss: 0.5067698955535889\n",
            "Epoch [10/10], Loss: 0.5067735314369202\n",
            "Epoch [10/10], Loss: 0.5066916346549988\n",
            "Epoch [10/10], Loss: 0.5065605640411377\n",
            "Epoch [10/10], Loss: 0.5065963864326477\n",
            "Epoch [10/10], Loss: 0.5066254138946533\n",
            "Epoch [10/10], Loss: 0.506328821182251\n",
            "Epoch [10/10], Loss: 0.5064317584037781\n",
            "Epoch [10/10], Loss: 0.5063522458076477\n",
            "Epoch [10/10], Loss: 0.5065149068832397\n",
            "Epoch [10/10], Loss: 0.5062686800956726\n",
            "Epoch [10/10], Loss: 0.5060209035873413\n",
            "Epoch [10/10], Loss: 0.5061847567558289\n",
            "Epoch [10/10], Loss: 0.5062456727027893\n",
            "Epoch [10/10], Loss: 0.5065100193023682\n",
            "Epoch [10/10], Loss: 0.5062131881713867\n",
            "Epoch [10/10], Loss: 0.5061363577842712\n",
            "Epoch [10/10], Loss: 0.5061764121055603\n",
            "Epoch [10/10], Loss: 0.5060628652572632\n",
            "Epoch [10/10], Loss: 0.5061528086662292\n",
            "Epoch [10/10], Loss: 0.5063044428825378\n",
            "Epoch [10/10], Loss: 0.5062680840492249\n",
            "Epoch [10/10], Loss: 0.5066368579864502\n",
            "Epoch [10/10], Loss: 0.506480872631073\n",
            "Epoch [10/10], Loss: 0.5063409805297852\n",
            "Epoch [10/10], Loss: 0.5062301158905029\n",
            "Epoch [10/10], Loss: 0.5061905384063721\n",
            "Epoch [10/10], Loss: 0.5062287449836731\n",
            "Epoch [10/10], Loss: 0.5062163472175598\n",
            "Epoch [10/10], Loss: 0.5061780214309692\n",
            "Epoch [10/10], Loss: 0.506314754486084\n",
            "Epoch [10/10], Loss: 0.5062565207481384\n",
            "Epoch [10/10], Loss: 0.5061475038528442\n",
            "Epoch [10/10], Loss: 0.5063188672065735\n",
            "Epoch [10/10], Loss: 0.5063593983650208\n"
          ]
        }
      ]
    },
    {
      "cell_type": "markdown",
      "source": [
        "### CLIP-Inference"
      ],
      "metadata": {
        "id": "BbIyPJEDiJTa"
      }
    },
    {
      "cell_type": "code",
      "source": [
        "user_data, item_data = get_entity_feats(feat, edge_list)\n",
        "user_data = user_data.to(torch.float32)\n",
        "item_data = item_data.to(torch.float32)\n",
        "\n",
        "user_model.eval()\n",
        "item_model.eval()\n",
        "\n",
        "user_embed = user_model(user_data)\n",
        "item_embed = item_model(item_data)\n",
        "\n",
        "user_embed = nn.functional.normalize(user_embed, dim=1)\n",
        "item_embed = nn.functional.normalize(item_embed, dim=1)\n",
        "\n",
        "similarity_matrix = torch.matmul(user_embed, item_embed.T)\n",
        "\n",
        "clip_weight = torch.diagonal(similarity_matrix)\n",
        "# The similarity_matrix will contain the similarity score for every pair of image-text embeddings\n",
        "print(similarity_matrix)"
      ],
      "metadata": {
        "colab": {
          "base_uri": "https://localhost:8080/"
        },
        "id": "Sd4KZh8MiOD6",
        "outputId": "fd402118-d328-4cfd-f5dd-b45b97a2c11c"
      },
      "execution_count": null,
      "outputs": [
        {
          "output_type": "stream",
          "name": "stdout",
          "text": [
            "tensor([[ 0.0572,  0.0504,  0.0556,  ..., -0.0349,  0.0217, -0.0416],\n",
            "        [ 0.0572,  0.0504,  0.0556,  ..., -0.0349,  0.0217, -0.0416],\n",
            "        [ 0.0572,  0.0504,  0.0556,  ..., -0.0349,  0.0217, -0.0416],\n",
            "        ...,\n",
            "        [-0.0131,  0.0066, -0.0124,  ...,  0.0311,  0.0313,  0.0323],\n",
            "        [-0.0131,  0.0066, -0.0124,  ...,  0.0311,  0.0313,  0.0323],\n",
            "        [-0.0131,  0.0066, -0.0124,  ...,  0.0311,  0.0313,  0.0323]],\n",
            "       grad_fn=<MmBackward0>)\n"
          ]
        }
      ]
    },
    {
      "cell_type": "code",
      "source": [
        "print(clip_weight.shape)"
      ],
      "metadata": {
        "colab": {
          "base_uri": "https://localhost:8080/"
        },
        "id": "CVgdaWCOAfTQ",
        "outputId": "866fc2d5-6a55-4dfc-a72a-67234115dea2"
      },
      "execution_count": null,
      "outputs": [
        {
          "output_type": "stream",
          "name": "stdout",
          "text": [
            "torch.Size([2071])\n"
          ]
        }
      ]
    },
    {
      "cell_type": "code",
      "source": [
        "print(clip_weight.dtype)"
      ],
      "metadata": {
        "colab": {
          "base_uri": "https://localhost:8080/"
        },
        "id": "1ZV_b2FCHn2V",
        "outputId": "5a95138c-0a02-46a1-d961-eb8883f00306"
      },
      "execution_count": null,
      "outputs": [
        {
          "output_type": "stream",
          "name": "stdout",
          "text": [
            "torch.float32\n"
          ]
        }
      ]
    },
    {
      "cell_type": "markdown",
      "source": [
        "## Graph construction and feature allocation"
      ],
      "metadata": {
        "id": "OuvX6j4BkU3m"
      }
    },
    {
      "cell_type": "code",
      "source": [
        "import torch_geometric.data as data\n",
        "\n",
        "G_rec = data.Data(x=feat, edge_index=edge_list.to(torch.long))"
      ],
      "metadata": {
        "id": "wRY29lDUkY-4"
      },
      "execution_count": null,
      "outputs": []
    },
    {
      "cell_type": "code",
      "source": [
        "import torch_geometric.loader as L\n",
        "data_loader = L.DataLoader(G_rec, batch_size=1)"
      ],
      "metadata": {
        "id": "rFnv1kqxkZbB"
      },
      "execution_count": null,
      "outputs": []
    },
    {
      "cell_type": "code",
      "source": [
        "G_rec"
      ],
      "metadata": {
        "colab": {
          "base_uri": "https://localhost:8080/"
        },
        "id": "TMwNVQCLD6kS",
        "outputId": "85e2dfae-38e6-40ca-a0e1-f9cfd9dca20c"
      },
      "execution_count": null,
      "outputs": [
        {
          "output_type": "execute_result",
          "data": {
            "text/plain": [
              "Data(x=[1141, 200], edge_index=[2, 2071])"
            ]
          },
          "metadata": {},
          "execution_count": 33
        }
      ]
    },
    {
      "cell_type": "code",
      "source": [
        "print(G_rec.x.dtype)"
      ],
      "metadata": {
        "colab": {
          "base_uri": "https://localhost:8080/"
        },
        "id": "3H7j7jSSIgvb",
        "outputId": "8ece4874-4d1a-4d16-86fb-954b1d942bc6"
      },
      "execution_count": null,
      "outputs": [
        {
          "output_type": "stream",
          "name": "stdout",
          "text": [
            "torch.float32\n"
          ]
        }
      ]
    },
    {
      "cell_type": "code",
      "source": [
        "G_rec = G_rec.to(device)\n",
        "clip_weight = clip_weight.to(torch.float32).to(device)\n"
      ],
      "metadata": {
        "id": "S2ySuTOyHYip"
      },
      "execution_count": null,
      "outputs": []
    },
    {
      "cell_type": "markdown",
      "source": [
        "## Graph based collaboarative filtering Recommendation system"
      ],
      "metadata": {
        "id": "gfQtwTYBkZy4"
      }
    },
    {
      "cell_type": "markdown",
      "source": [
        "### CLIP weighted GCN for graph embedding"
      ],
      "metadata": {
        "id": "R96CfCzdwLTY"
      }
    },
    {
      "cell_type": "code",
      "source": [
        "class CWGCNConv(MessagePassing):\n",
        "    def __init__(self, in_channels, out_channels):\n",
        "        super().__init__(aggr='add')\n",
        "        self.lin = Linear(in_channels, out_channels, bias=False)\n",
        "        self.bias = Parameter(torch.empty(out_channels))\n",
        "\n",
        "        self.reset_parameters()\n",
        "\n",
        "    def reset_parameters(self):\n",
        "        self.lin.reset_parameters()\n",
        "        self.bias.data.zero_()\n",
        "\n",
        "    def forward(self, x, edge_index, edge_weight:None):\n",
        "        # what is the shape of inpur x ? - needed [N, in_channels]\n",
        "        # edge indices shape needed is [2, E]\n",
        "\n",
        "        #add self_loops to the adjacency matrix, how to give num nodes?\n",
        "        #edge_index, _ = add_self_loops(edge_index)\n",
        "        #print(edge_index)\n",
        "        # linearly transform node feature matrix\n",
        "        x = self.lin(x)\n",
        "        #x = torch.index_select(input=x, index=edge_index[0], dim=0)\n",
        "        # x_ball = torch.cat([torch.index_select(input=x, index=edge_index[0], dim=0), NOTE THAT IT WILL GIVE INDEX OUT OF RANGE ONE OPTION IS TO GO WITH REINDEXING\n",
        "        #             torch.index_select(input=x, index=edge_index[1], dim=0)],dim=0)\n",
        "        #compute normalization\n",
        "        row, col = edge_index\n",
        "        deg = degree(col, x.size(0), dtype=x.dtype)\n",
        "        deg_inv_sqrt = deg.pow(0.5)\n",
        "        deg_inv_sqrt[deg_inv_sqrt==float('inf')] = 0\n",
        "        #print(deg_inv_sqrt.shape)\n",
        "        norm = deg_inv_sqrt[row] * deg_inv_sqrt[col]\n",
        "\n",
        "        # propagating messages\n",
        "        out = self.propagate(edge_index, x=x, edge_weight=edge_weight, norm=norm)\n",
        "        #out = torch.index_select(input=out, index=min(edge_index[0]), dim=0) #NOTE TRICK IS TO PICK MIN EDGE INDEX AS IT WILL CORRESPOND TO THE CENTER NODE OF THE BALL\n",
        "        # bias\n",
        "        out += self.bias\n",
        "        return torch.squeeze(out)\n",
        "\n",
        "    def message(self, x_j, norm):\n",
        "        # x_j has shape [E, out_channels]\n",
        "        # normalize node features\n",
        "        return norm.view(-1,1) *x_j"
      ],
      "metadata": {
        "id": "z0dzaW-XwK15"
      },
      "execution_count": null,
      "outputs": []
    },
    {
      "cell_type": "code",
      "source": [
        "class CWGCN(nn.Module):\n",
        "    def __init__(self, in_channels, hidden_channels, out_channels):\n",
        "        super().__init__()\n",
        "        self.conv1 = CWGCNConv(in_channels, hidden_channels)\n",
        "        self.fc = Linear(hidden_channels, out_channels)\n",
        "    def forward(self, x, edge_index, edge_weight):\n",
        "        x = F.dropout(x, p=0.5, training=self.training)\n",
        "        x = self.fc(self.conv1(x, edge_index, edge_weight))\n",
        "        return x"
      ],
      "metadata": {
        "id": "93ANgMdlwcRF"
      },
      "execution_count": null,
      "outputs": []
    },
    {
      "cell_type": "markdown",
      "source": [
        "### Graph Variationnal Autoencoder Based LP for Matrix\n",
        "\n",
        "---\n",
        "\n",
        "completion"
      ],
      "metadata": {
        "id": "3HKfHhM55Dsm"
      }
    },
    {
      "cell_type": "code",
      "source": [
        "class Net(torch.nn.Module):\n",
        "    def __init__(self):\n",
        "        super(Net, self).__init__()\n",
        "        self.conv1 = CWGCNConv(200, 100)\n",
        "        self.conv2 = CWGCNConv(100, 50)\n",
        "    def encode(self, feat, edge_index, edge_weight):\n",
        "        x = self.conv1(feat, edge_index, edge_weight)\n",
        "        x = x.relu()\n",
        "        return self.conv2(x, edge_index, edge_weight)\n",
        "\n",
        "    def decode(self, z, pos_edge_index, neg_edge_index):\n",
        "        edge_index = torch.cat([pos_edge_index, neg_edge_index], dim=-1)\n",
        "        logits = (z[edge_index[0]] * z[edge_index[1]]).sum(dim=-1)\n",
        "        return logits\n",
        "\n",
        "    def decode_all(self, z):\n",
        "        prob_adj = z @ z.t()\n",
        "        return (prob_adj > 0).nonzero(as_tuple=False).t()"
      ],
      "metadata": {
        "id": "wbUJh09z5CiL"
      },
      "execution_count": null,
      "outputs": []
    },
    {
      "cell_type": "code",
      "source": [
        "def get_link_labels(pos_edge_index, neg_edge_index):\n",
        "    E = pos_edge_index.size(1) + neg_edge_index.size(1)\n",
        "    link_labels = torch.zeros(E, dtype=torch.float, device=device)\n",
        "    link_labels[:pos_edge_index.size(1)] = 1.\n",
        "    return link_labels"
      ],
      "metadata": {
        "id": "4_GumJnZkc5m"
      },
      "execution_count": null,
      "outputs": []
    },
    {
      "cell_type": "code",
      "source": [
        "model = Net().to(device)\n",
        "optimizer = torch.optim.Adam(params=model.parameters(), lr=0.01)\n",
        "criterion = torch.nn.BCEWithLogitsLoss()"
      ],
      "metadata": {
        "id": "61N6oK14khRT"
      },
      "execution_count": null,
      "outputs": []
    },
    {
      "cell_type": "markdown",
      "source": [
        "## Training"
      ],
      "metadata": {
        "id": "dAZFyF7HwsMf"
      }
    },
    {
      "cell_type": "code",
      "source": [
        "from torch_geometric.utils import negative_sampling\n",
        "from torch_geometric.utils import train_test_split_edges\n",
        "from sklearn.metrics import classification_report\n",
        "from sklearn.metrics import average_precision_score, roc_auc_score\n",
        "from sklearn.metrics import f1_score"
      ],
      "metadata": {
        "id": "9NIO8ZVvDZR5"
      },
      "execution_count": null,
      "outputs": []
    },
    {
      "cell_type": "code",
      "source": [
        "# 14:31 only GVAE training loop\n",
        "def train():\n",
        "    model.train()\n",
        "    total_loss = 0\n",
        "    neg_edge_index = negative_sampling(\n",
        "            edge_index=G_rec.edge_index,\n",
        "            num_nodes=G_rec.x.size(0),\n",
        "            num_neg_samples=G_rec.edge_index.size(1))\n",
        "\n",
        "    optimizer.zero_grad()\n",
        "\n",
        "    z = model.encode(G_rec.x, G_rec.edge_index, clip_weight)\n",
        "    link_logits = model.decode(z, G_rec.edge_index, neg_edge_index)\n",
        "    link_labels = get_link_labels(G_rec.edge_index, neg_edge_index)\n",
        "    loss = F.binary_cross_entropy_with_logits(link_logits, link_labels)\n",
        "    loss.backward()\n",
        "    optimizer.step()\n",
        "    total_loss += float(loss)\n",
        "    return loss.item()"
      ],
      "metadata": {
        "id": "-WloiCpdwtN0"
      },
      "execution_count": null,
      "outputs": []
    },
    {
      "cell_type": "markdown",
      "source": [
        "## Validation and Testing"
      ],
      "metadata": {
        "id": "7QN_Gx6awwc9"
      }
    },
    {
      "cell_type": "code",
      "source": [
        "# @torch.no_grad()\n",
        "# def test():\n",
        "#     model.eval()\n",
        "#     perfs = []\n",
        "#     aps, aucs = [], []\n",
        "#     y_trues, y_preds = [], []\n",
        "#     pos_edge_index = G_rec.edge_index[:, :int(G_rec.edge_index.size(1)*0.4)]\n",
        "#     #print(pos_edge_index.shape)\n",
        "#     rem_edge_index = G_rec.edge_index[:, int(G_rec.edge_index.size(1)*0.4):]\n",
        "#     neg_edge_index = negative_sampling(\n",
        "#             edge_index=rem_edge_index,\n",
        "#             num_nodes=G_rec.num_nodes,\n",
        "#             num_neg_samples=rem_edge_index.size(1))\n",
        "#     z = model.encode(G_rec.x, pos_edge_index, clip_weight)\n",
        "\n",
        "#     link_logits = model.decode(z, rem_edge_index, neg_edge_index)\n",
        "#     link_probs = link_logits.sigmoid()\n",
        "#     min_prob = torch.min(link_probs)\n",
        "#     max_prob = torch.max(link_probs)\n",
        "#     link_probs = (link_probs - min_prob) / (max_prob - min_prob)\n",
        "#     y_pred = list(np.where(link_probs.cpu().numpy() > 0.51, 1, 0))\n",
        "#     y_preds.extend(list(y_pred))\n",
        "\n",
        "#     link_labels = get_link_labels(rem_edge_index, neg_edge_index)\n",
        "#     y_true = list(link_labels.cpu())\n",
        "#     y_trues.extend(y_true)\n",
        "#     aps.append(average_precision_score(link_labels.cpu(), link_probs.cpu()))\n",
        "#     aucs.append(roc_auc_score(link_labels.cpu(), link_probs.cpu()))\n",
        "#         #perfs.append(roc_auc_score(link_labels.cpu(), link_probs.cpu()))\n",
        "#         #f1_scores.append(f1_score(y_true, y_pred))\n",
        "#         #return perfs\n",
        "#     #print(classification_report(y_trues, y_preds))\n",
        "#     return y_trues, y_preds, float(torch.tensor(aps).mean()), float(torch.tensor(aucs).mean())"
      ],
      "metadata": {
        "id": "xf2So2Kfwygv"
      },
      "execution_count": null,
      "outputs": []
    },
    {
      "cell_type": "code",
      "source": [
        "from sklearn.metrics import precision_score, recall_score\n",
        "\n",
        "# Define a list of k values you want to evaluate\n",
        "k_values = [1, 5, 10, 20, 50]\n",
        "\n",
        "@torch.no_grad()\n",
        "def test(k=10):\n",
        "    model.eval()\n",
        "    perfs = []\n",
        "    aps, aucs = [], []\n",
        "    y_trues, y_preds = [], []\n",
        "    pos_edge_index = G_rec.edge_index[:, :int(G_rec.edge_index.size(1)*0.4)]\n",
        "    rem_edge_index = G_rec.edge_index[:, int(G_rec.edge_index.size(1)*0.4):]\n",
        "    neg_edge_index = negative_sampling(\n",
        "            edge_index=rem_edge_index,\n",
        "            num_nodes=G_rec.num_nodes,\n",
        "            num_neg_samples=rem_edge_index.size(1))\n",
        "    z = model.encode(G_rec.x, pos_edge_index, clip_weight)\n",
        "\n",
        "    link_logits = model.decode(z, rem_edge_index, neg_edge_index)\n",
        "    link_probs = link_logits.sigmoid()\n",
        "\n",
        "    y_true = get_link_labels(rem_edge_index, neg_edge_index).cpu().numpy()\n",
        "    y_pred = (link_probs > 0.5).cpu().numpy()\n",
        "\n",
        "    # Initialize dictionaries to store precision and recall results\n",
        "    precision_results = {}\n",
        "    recall_results = {}\n",
        "\n",
        "    for k in k_values:\n",
        "        # Sort link_probs in descending order and get the top-k indices\n",
        "        _, top_k_indices = link_probs.view(-1).topk(k, largest=True)\n",
        "\n",
        "        # Flatten y_true and y_pred arrays\n",
        "        y_true_flat = y_true.flatten()\n",
        "        y_pred_flat = y_pred.flatten()\n",
        "\n",
        "        # Calculate precision and recall at k\n",
        "        precision_k = precision_score(y_true_flat, y_pred_flat)\n",
        "        recall_k = recall_score(y_true_flat, y_pred_flat)\n",
        "\n",
        "        # Store results in dictionaries\n",
        "        precision_results[k] = precision_k\n",
        "        recall_results[k] = recall_k\n",
        "\n",
        "        print(f'Precision@{k}: {precision_k}')\n",
        "        print(f'Recall@{k}: {recall_k}')\n",
        "\n",
        "    return precision_results, recall_results\n",
        "\n",
        "# Inside your training loop\n",
        "for epoch in range(100):\n",
        "    train_loss = train()\n",
        "    precision_results, recall_results = test()\n",
        "    # Now you have precision and recall results at various k values for each epoch\n",
        "    # You can log or store these results as needed.\n"
      ],
      "metadata": {
        "id": "-93KFCNLcdrl"
      },
      "execution_count": null,
      "outputs": []
    },
    {
      "cell_type": "code",
      "source": [],
      "metadata": {
        "id": "mkAKgYSieSjM"
      },
      "execution_count": null,
      "outputs": []
    },
    {
      "cell_type": "code",
      "source": [
        "# for epoch in range(100):\n",
        "#     train_loss = train()\n",
        "#     #wandb.log({\"loss\": train_loss})\n",
        "#     y_t, y_p, test_ap, test_auc = test()\n",
        "#     #val_t, val_p, val_ap, val_auc = val()\n",
        "#     #wandb.log({\"Val roc_auc_score\": val_auc})\n",
        "#     #wandb.log({\"val ap\": val_ap})\n",
        "#     yt_ = np.array(y_t)\n",
        "#     yp_ = np.array(y_p)\n",
        "#     #wandb.log({\"Test roc_auc_score\": test_auc})\n",
        "#     #wandb.log({\"Test ap\": test_ap})\n",
        "#     #wandb.log({\"pr\" : wandb.plot.pr_curve(yt_, yp_[:],\n",
        "#                      #abels=None, classes_to_plot=None)})\n"
      ],
      "metadata": {
        "id": "cLL7Gez-HIZ8"
      },
      "execution_count": null,
      "outputs": []
    },
    {
      "cell_type": "code",
      "source": [
        "from sklearn.metrics import confusion_matrix, ConfusionMatrixDisplay, precision_recall_curve\n",
        "\n",
        "print(classification_report(y_t, y_p))\n",
        "\n",
        "cm = confusion_matrix(y_t, y_p)\n",
        "disp = ConfusionMatrixDisplay(cm)\n",
        "disp.plot()\n",
        "plt.show()"
      ],
      "metadata": {
        "colab": {
          "base_uri": "https://localhost:8080/",
          "height": 605
        },
        "id": "jHweZ6TxHOvS",
        "outputId": "877352f2-a8dc-4968-bbca-654e5df34e82"
      },
      "execution_count": null,
      "outputs": [
        {
          "output_type": "stream",
          "name": "stdout",
          "text": [
            "              precision    recall  f1-score   support\n",
            "\n",
            "         0.0       0.51      0.94      0.66      1243\n",
            "         1.0       0.64      0.10      0.17      1243\n",
            "\n",
            "    accuracy                           0.52      2486\n",
            "   macro avg       0.57      0.52      0.42      2486\n",
            "weighted avg       0.57      0.52      0.42      2486\n",
            "\n"
          ]
        },
        {
          "output_type": "display_data",
          "data": {
            "text/plain": [
              "<Figure size 640x480 with 2 Axes>"
            ],
            "image/png": "[encoded data removed]"
          },
          "metadata": {}
        }
      ]
    },
    {
      "cell_type": "code",
      "source": [
        "Sir I did more than 100 runs to adjust the precision and recall values, best scores i am getting are:\n",
        "\n",
        "Movie Lens: P-0.1562, R-0.6417, f:0.36\n",
        "Tiktok: P-0.1862, R-0.6533, f:0.3269"
      ],
      "metadata": {
        "colab": {
          "base_uri": "https://localhost:8080/",
          "height": 158
        },
        "id": "VLOTkkxy0FnT",
        "outputId": "c0b3de8c-ccf6-424c-ae48-c2937be8b8a2"
      },
      "execution_count": null,
      "outputs": [
        {
          "output_type": "error",
          "ename": "SyntaxError",
          "evalue": "invalid syntax (<ipython-input-233-87d9bffa7c7e>, line 1)",
          "traceback": [
            "\u001b[0;36m  File \u001b[0;32m\"<ipython-input-233-87d9bffa7c7e>\"\u001b[0;36m, line \u001b[0;32m1\u001b[0m\n\u001b[0;31m    Sir I did more than 100 runs to adjust the precision and recall values, best scores i am getting are:\u001b[0m\n\u001b[0m        ^\u001b[0m\n\u001b[0;31mSyntaxError\u001b[0m\u001b[0;31m:\u001b[0m invalid syntax\n"
          ]
        }
      ]
    },
    {
      "cell_type": "code",
      "source": [
        "def calculate_dcg(relevances, k):\n",
        "    dcg = relevances[0]\n",
        "    for i in range(1, min(k, len(relevances))):\n",
        "        dcg += relevances[i] / np.log2(i + 1)\n",
        "    return dcg/(np.mean(relevances))\n",
        "\n",
        "def calculate_ndcg(true_relevances, predicted_scores, k):\n",
        "    sorted_indices = np.argsort(predicted_scores)[::-1]\n",
        "    sorted_true_relevances = [true_relevances[i] for i in sorted_indices]\n",
        "\n",
        "    # Calculate DCG and IDCG\n",
        "    dcg = calculate_dcg(sorted_true_relevances, k)\n",
        "    ideal_relevances = sorted(true_relevances, reverse=True)\n",
        "    idcg = calculate_dcg(ideal_relevances, k)\n",
        "    # Calculate NDCG\n",
        "    ndcg = dcg / (dcg+idcg) if idcg > 0 else 0\n",
        "    return ndcg"
      ],
      "metadata": {
        "id": "nLHA5UfmJ8g0"
      },
      "execution_count": null,
      "outputs": []
    },
    {
      "cell_type": "code",
      "source": [
        "y_t, y_p, test_ap, test_auc = test()\n"
      ],
      "metadata": {
        "id": "1QMXHbExLBs8"
      },
      "execution_count": null,
      "outputs": []
    },
    {
      "cell_type": "code",
      "source": [
        "ndcg_values = {}\n",
        "for k in range(10, 101):\n",
        "    ndcg = calculate_ndcg(y_t, y_p, k)\n",
        "    ndcg_values[k] = ndcg"
      ],
      "metadata": {
        "id": "-7zvIEBlWNrt"
      },
      "execution_count": null,
      "outputs": []
    },
    {
      "cell_type": "code",
      "source": [
        "print(ndcg_values)"
      ],
      "metadata": {
        "colab": {
          "base_uri": "https://localhost:8080/"
        },
        "id": "s4BbbEKwWs2M",
        "outputId": "2e38f041-1d7a-4ffe-fc04-f674549de152"
      },
      "execution_count": null,
      "outputs": [
        {
          "output_type": "stream",
          "name": "stdout",
          "text": [
            "{10: tensor(0.3356), 11: tensor(0.4285), 12: tensor(0.4542), 13: tensor(0.4663), 14: tensor(0.4734), 15: tensor(0.4782), 16: tensor(0.4815), 17: tensor(0.4841), 18: tensor(0.4860), 19: tensor(0.4876), 20: tensor(0.4889), 21: tensor(0.4900), 22: tensor(0.4909), 23: tensor(0.4917), 24: tensor(0.4924), 25: tensor(0.4930), 26: tensor(0.4936), 27: tensor(0.4940), 28: tensor(0.4945), 29: tensor(0.4948), 30: tensor(0.4952), 31: tensor(0.4955), 32: tensor(0.4958), 33: tensor(0.4960), 34: tensor(0.4963), 35: tensor(0.4965), 36: tensor(0.4967), 37: tensor(0.4969), 38: tensor(0.4971), 39: tensor(0.4972), 40: tensor(0.4974), 41: tensor(0.4975), 42: tensor(0.4976), 43: tensor(0.4977), 44: tensor(0.4978), 45: tensor(0.4979), 46: tensor(0.4980), 47: tensor(0.4981), 48: tensor(0.4982), 49: tensor(0.4983), 50: tensor(0.4984), 51: tensor(0.4984), 52: tensor(0.4985), 53: tensor(0.4986), 54: tensor(0.4986), 55: tensor(0.4987), 56: tensor(0.4987), 57: tensor(0.4988), 58: tensor(0.4988), 59: tensor(0.4989), 60: tensor(0.4989), 61: tensor(0.4990), 62: tensor(0.4990), 63: tensor(0.4990), 64: tensor(0.4991), 65: tensor(0.4991), 66: tensor(0.4991), 67: tensor(0.4992), 68: tensor(0.4992), 69: tensor(0.4992), 70: tensor(0.4992), 71: tensor(0.4993), 72: tensor(0.4993), 73: tensor(0.4993), 74: tensor(0.4993), 75: tensor(0.4994), 76: tensor(0.4994), 77: tensor(0.4994), 78: tensor(0.4994), 79: tensor(0.4994), 80: tensor(0.4994), 81: tensor(0.4995), 82: tensor(0.4995), 83: tensor(0.4995), 84: tensor(0.4995), 85: tensor(0.4995), 86: tensor(0.4995), 87: tensor(0.4995), 88: tensor(0.4996), 89: tensor(0.4996), 90: tensor(0.4996), 91: tensor(0.4996), 92: tensor(0.4996), 93: tensor(0.4996), 94: tensor(0.4996), 95: tensor(0.4996), 96: tensor(0.4996), 97: tensor(0.4997), 98: tensor(0.4997), 99: tensor(0.4997), 100: tensor(0.4997)}\n"
          ]
        }
      ]
    },
    {
      "cell_type": "code",
      "source": [
        "import matplotlib.pyplot as plt\n",
        "\n",
        "# Assuming ndcg_values is your dictionary containing NDCG scores\n",
        "# For example: ndcg_values = {10: 0.8, 11: 0.81, ..., 100: 0.9}\n",
        "\n",
        "# Extract keys and values from the dictionary\n",
        "ks = list(ndcg_values.keys())\n",
        "ndcg_scores = list(ndcg_values.values())\n",
        "\n",
        "# Plotting\n",
        "plt.figure(figsize=(10, 6))\n",
        "plt.plot(ks, ndcg_scores, marker='o')\n",
        "plt.title(\"NDCG Scores for Different Values of k\")\n",
        "plt.xlabel(\"k\")\n",
        "plt.ylabel(\"NDCG Score\")\n",
        "plt.grid(True)\n",
        "plt.show()"
      ],
      "metadata": {
        "colab": {
          "base_uri": "https://localhost:8080/",
          "height": 564
        },
        "id": "KoR2C68rWRgq",
        "outputId": "9dc9ef0e-607b-45b3-ec62-7287a9e15b90"
      },
      "execution_count": null,
      "outputs": [
        {
          "output_type": "display_data",
          "data": {
            "text/plain": [
              "<Figure size 1000x600 with 1 Axes>"
            ],
            "image/png": "[encoded data removed]"
          },
          "metadata": {}
        }
      ]
    },
    {
      "cell_type": "code",
      "source": [
        "ndcg = calculate_ndcg(y_t, y_p, k=10)"
      ],
      "metadata": {
        "id": "maUqPVVyU__l"
      },
      "execution_count": null,
      "outputs": []
    },
    {
      "cell_type": "code",
      "source": [
        "print(f\"NDCG@10: {ndcg:.4f}\")\n"
      ],
      "metadata": {
        "colab": {
          "base_uri": "https://localhost:8080/"
        },
        "id": "2-k6b1WuL5ix",
        "outputId": "f31a0608-301d-4bfb-e323-9ecd7d2ebf56"
      },
      "execution_count": null,
      "outputs": [
        {
          "output_type": "stream",
          "name": "stdout",
          "text": [
            "NDCG@10: 0.4570\n"
          ]
        }
      ]
    },
    {
      "cell_type": "code",
      "source": [
        "#wandb.log({\"NDCG\"ndcg})"
      ],
      "metadata": {
        "id": "DVhDtMdrL7hl"
      },
      "execution_count": null,
      "outputs": []
    },
    {
      "cell_type": "code",
      "source": [
        "run_mrecsys.finish()"
      ],
      "metadata": {
        "colab": {
          "base_uri": "https://localhost:8080/",
          "height": 289,
          "referenced_widgets": [
            "0198b198b13e4ba9a36df2d0034def77",
            "5eebbfb5231641ed8d5bd080996c0674",
            "c0607f14700f439ba6a06ad14bc85205",
            "8159e2f6f84b45738857c76dd07acbf8",
            "9fedf27b460b44429e77edd8865c19bf",
            "f2e9d47f3de540539a291aad644795ad",
            "4b830dcc52a04ca087ceb474c8f4e7fe",
            "61782b6595474a68a1af9692a188b574"
          ]
        },
        "id": "unus5GlVjtQq",
        "outputId": "4c37e20c-5f92-483b-e12f-cbdb334294c3"
      },
      "execution_count": null,
      "outputs": [
        {
          "output_type": "display_data",
          "data": {
            "text/plain": [
              "VBox(children=(Label(value='0.001 MB of 0.001 MB uploaded\\r'), FloatProgress(value=1.0, max=1.0)))"
            ],
            "application/vnd.jupyter.widget-view+json": {
              "version_major": 2,
              "version_minor": 0,
              "model_id": "0198b198b13e4ba9a36df2d0034def77"
            }
          },
          "metadata": {}
        },
        {
          "output_type": "display_data",
          "data": {
            "text/plain": [
              "<IPython.core.display.HTML object>"
            ],
            "text/html": [
              "<style>\n",
              "    table.wandb td:nth-child(1) { padding: 0 10px; text-align: left ; width: auto;} td:nth-child(2) {text-align: left ; width: 100%}\n",
              "    .wandb-row { display: flex; flex-direction: row; flex-wrap: wrap; justify-content: flex-start; width: 100% }\n",
              "    .wandb-col { display: flex; flex-direction: column; flex-basis: 100%; flex: 1; padding: 10px; }\n",
              "    </style>\n",
              "<div class=\"wandb-row\"><div class=\"wandb-col\"><h3>Run history:</h3><br/><table class=\"wandb\"><tr><td>Test ap</td><td>▄▅▆▆▆▄▆▅▅▅▄▄▅▅▅█▇▇▇▆▄▃▅▅▄▂▁▁▃▇▅▃▅▅▆▆▄▆▄▆</td></tr><tr><td>Test roc_auc_score</td><td>▅▅▆▅▅▃▄▄▄▄▂▂▄▃▄█▇▇▇▆▅▅▅▆▅▂▂▁▂▇▃▂▅▅▆▆▂▆▅▅</td></tr><tr><td>VAE_loss</td><td>█▆▅▄▃▃▂▂▂▁▁▁▁▁▁▁▁▁▁▁▁▁▁▁▁▁▁▁▁▁▁▁▁▁▁▁▁▁▁▁</td></tr><tr><td>contrastive_loss</td><td>█▂▁▁▁▁▁▁▁▁▁▁▁▁▁▁▁▁▁▁▁▁▁▁▁▁▁▁▁▁▁▁▁▁▁▁▁▁▁▁</td></tr><tr><td>loss</td><td>█▇▅▅▅▄▄▄▄▄▃▃▃▃▂▃▂▂▂▂▂▂▂▂▂▂▂▂▁▂▁▂▁▁▁▂▁▁▂▂</td></tr></table><br/></div><div class=\"wandb-col\"><h3>Run summary:</h3><br/><table class=\"wandb\"><tr><td>Test ap</td><td>0.61706</td></tr><tr><td>Test roc_auc_score</td><td>0.61032</td></tr><tr><td>VAE_loss</td><td>2496.06177</td></tr><tr><td>contrastive_loss</td><td>0.5028</td></tr><tr><td>loss</td><td>0.59173</td></tr></table><br/></div></div>"
            ]
          },
          "metadata": {}
        },
        {
          "output_type": "display_data",
          "data": {
            "text/plain": [
              "<IPython.core.display.HTML object>"
            ],
            "text/html": [
              " View run <strong style=\"color:#cdcd00\">expert-cosmos-5</strong> at: <a href='https://wandb.ai/sidgraph/mrecsys/runs/nxhzoyyl' target=\"_blank\">https://wandb.ai/sidgraph/mrecsys/runs/nxhzoyyl</a><br/>Synced 5 W&B file(s), 0 media file(s), 0 artifact file(s) and 0 other file(s)"
            ]
          },
          "metadata": {}
        },
        {
          "output_type": "display_data",
          "data": {
            "text/plain": [
              "<IPython.core.display.HTML object>"
            ],
            "text/html": [
              "Find logs at: <code>./wandb/run-20231126_171602-nxhzoyyl/logs</code>"
            ]
          },
          "metadata": {}
        }
      ]
    },
    {
      "cell_type": "code",
      "source": [],
      "metadata": {
        "id": "iuoL5PVfkAEP"
      },
      "execution_count": null,
      "outputs": []
    }
  ]
}